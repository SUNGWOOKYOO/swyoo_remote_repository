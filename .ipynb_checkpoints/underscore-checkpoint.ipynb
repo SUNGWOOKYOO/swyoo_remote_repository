{
 "cells": [
  {
   "cell_type": "markdown",
   "metadata": {},
   "source": [
    "# Underscore in python \n",
    "\n",
    "reference website:\n",
    "https://www.geeksforgeeks.org/underscore-_-python/\n",
    "\n",
    "1.  _name \n",
    "\n",
    "2. __name\n",
    "\n",
    "3. $__name__$"
   ]
  },
  {
   "cell_type": "code",
   "execution_count": 1,
   "metadata": {},
   "outputs": [
    {
     "data": {
      "text/plain": [
       "'/home/swyoo/Ws/swyoo_remote_repository'"
      ]
     },
     "execution_count": 1,
     "metadata": {},
     "output_type": "execute_result"
    }
   ],
   "source": [
    "%pwd"
   ]
  },
  {
   "cell_type": "code",
   "execution_count": 2,
   "metadata": {
    "scrolled": true
   },
   "outputs": [
    {
     "name": "stdout",
     "output_type": "stream",
     "text": [
      "Overwriting undsc.py\n"
     ]
    }
   ],
   "source": [
    "%%writefile undsc.py\n",
    "class undsc:\n",
    "    def __init__(self):\n",
    "        self._x = 10\n",
    "        self.__y = 10\n",
    "\n",
    "    def func1(self):\n",
    "        print(\"public func! \")\n",
    "    \n",
    "    def _func2(self):\n",
    "        print(\"one underscore func! \")\n",
    "\n",
    "    def __func3(self):\n",
    "        print(\"two underscore func! \")\n",
    "        \n",
    "    def gety(self):\n",
    "        return self.__y\n",
    "    \n",
    "    def getfunc3(self):\n",
    "        self.__func3()\n",
    "\n",
    "if __name__ == \"__main__\":\n",
    "    obj = undsc()\n",
    "    print(obj._x,\": _x\")\n",
    "    #print(obj.__y)\n",
    "\n",
    "    obj.func1()\n",
    "    obj._func2()\n",
    "    #obj.__func3()\n",
    "\n",
    "    print(obj.gety(),\": __y\")\n",
    "    print(obj.getfunc3(),\": use __func3\")"
   ]
  },
  {
   "cell_type": "code",
   "execution_count": 6,
   "metadata": {},
   "outputs": [],
   "source": [
    "#from undsc import *\n",
    "import undsc"
   ]
  },
  {
   "cell_type": "code",
   "execution_count": 7,
   "metadata": {},
   "outputs": [
    {
     "name": "stdout",
     "output_type": "stream",
     "text": [
      "10 : _x\n",
      "public func! \n",
      "one underscore func! \n",
      "10 : __y\n",
      "two underscore func! \n",
      "None : use __func3\n"
     ]
    }
   ],
   "source": [
    "%run undsc.py"
   ]
  }
 ],
 "metadata": {
  "kernelspec": {
   "display_name": "Python 3",
   "language": "python",
   "name": "python3"
  },
  "language_info": {
   "codemirror_mode": {
    "name": "ipython",
    "version": 3
   },
   "file_extension": ".py",
   "mimetype": "text/x-python",
   "name": "python",
   "nbconvert_exporter": "python",
   "pygments_lexer": "ipython3",
   "version": "3.5.2"
  }
 },
 "nbformat": 4,
 "nbformat_minor": 2
}
