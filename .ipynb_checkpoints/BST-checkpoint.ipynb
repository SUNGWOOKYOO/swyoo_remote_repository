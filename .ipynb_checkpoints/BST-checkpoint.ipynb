{
 "cells": [
  {
   "cell_type": "markdown",
   "metadata": {},
   "source": [
    "# BST implementation \n",
    "\n",
    "reference from : https://www.laurentluce.com/posts/binary-search-tree-library-in-python/"
   ]
  },
  {
   "cell_type": "code",
   "execution_count": 1,
   "metadata": {},
   "outputs": [],
   "source": [
    "class Node:\n",
    "    def __init__(self, key):\n",
    "        self.key = key \n",
    "        self.left = None\n",
    "        self.right = None\n",
    "    \n",
    "    def insert(self, key):\n",
    "        if key < self.key:\n",
    "            if self.left is None:\n",
    "                self.left = Node(key)\n",
    "            else:\n",
    "                self.left.insert(key)\n",
    "        elif key > self.key:\n",
    "            if self.right is None:\n",
    "                self.right = Node(key)\n",
    "            else:\n",
    "                self.right.insert(key)\n",
    "        else: \n",
    "            self.key = key\n",
    "    \n",
    "    def lookup(self, key, parent=None):\n",
    "        if key < self.key:\n",
    "            if self.left is None:\n",
    "                return None, None\n",
    "            return self.left.lookup(key, self)\n",
    "        elif key > self.key:\n",
    "            if self.right is None:\n",
    "                return None, None\n",
    "            return self.right.lookup(key, self)\n",
    "        else:\n",
    "            return self, parent \n",
    "    \n",
    "    # subroutine for delete method  \n",
    "    def children_count(self):\n",
    "        cnt = 0\n",
    "        if self.left is not None:\n",
    "            cnt += 1\n",
    "        if self.right is not None:\n",
    "            cnt += 1\n",
    "        return cnt\n",
    "    \n",
    "    def delete(self, key):\n",
    "        node, parent = self.lookup(key)\n",
    "        if node is not None:\n",
    "            children_count = node.children_count()\n",
    "            \n",
    "        if children_count == 0:\n",
    "            if parent is not None:\n",
    "                if parent.left is node:\n",
    "                    parent.left = None\n",
    "                else:\n",
    "                    parent.right = None\n",
    "                del node \n",
    "            else:\n",
    "                self.key = None\n",
    "                \n",
    "        elif children_count == 1:\n",
    "            # if node has 1 child\n",
    "            # replace node with its child\n",
    "            if node.left:\n",
    "                n = node.left\n",
    "            else:\n",
    "                n = node.right\n",
    "            if parent is not None:\n",
    "                if parent.left is node:\n",
    "                    parent.left = n\n",
    "                else:\n",
    "                    parent.right = n\n",
    "                del node\n",
    "            else:\n",
    "                self.left = n.left\n",
    "                self.right = n.right\n",
    "                self.key = n.key\n",
    "\n",
    "        \n",
    "        else:\n",
    "            # if node has 2 children\n",
    "            # find its successor\n",
    "            parent = node\n",
    "            successor = node.right\n",
    "            while successor.left is not None:\n",
    "                parent = successor\n",
    "                successor = successor.left\n",
    "            # replace node data by its successor data\n",
    "            node.key = successor.key\n",
    "            # fix successor's parent's child\n",
    "            if parent.left == successor:\n",
    "                parent.left = successor.right\n",
    "            else:\n",
    "                parent.right = successor.right\n",
    "\n",
    "\n",
    "    def print_tree(self):\n",
    "        \"\"\"\n",
    "        print tree content inorder\n",
    "        \"\"\"\n",
    "        if self.left is not None:\n",
    "            self.left.print_tree()\n",
    "        print(self.key)\n",
    "        if self.right is not None:\n",
    "            self.right.print_tree()"
   ]
  },
  {
   "cell_type": "code",
   "execution_count": 2,
   "metadata": {},
   "outputs": [],
   "source": [
    "# making a BST \n",
    "root = Node(8)\n",
    "root.insert(3)\n",
    "root.insert(10)\n",
    "root.insert(1)\n",
    "root.insert(6)\n",
    "root.insert(7)\n",
    "root.insert(14)\n",
    "root.insert(13)"
   ]
  },
  {
   "cell_type": "code",
   "execution_count": 3,
   "metadata": {},
   "outputs": [
    {
     "name": "stdout",
     "output_type": "stream",
     "text": [
      "8 None\n",
      "14 10\n"
     ]
    }
   ],
   "source": [
    "node, parent = root.lookup(8)\n",
    "print(node.key , parent)\n",
    "\n",
    "node, parent = root.lookup(14)\n",
    "print(node.key , parent.key)"
   ]
  },
  {
   "cell_type": "code",
   "execution_count": 4,
   "metadata": {},
   "outputs": [
    {
     "name": "stdout",
     "output_type": "stream",
     "text": [
      "1\n",
      "6\n",
      "7\n",
      "8\n",
      "10\n",
      "13\n",
      "14\n"
     ]
    }
   ],
   "source": [
    "root.delete(3)\n",
    "root.print_tree()"
   ]
  }
 ],
 "metadata": {
  "kernelspec": {
   "display_name": "Python 3",
   "language": "python",
   "name": "python3"
  },
  "language_info": {
   "codemirror_mode": {
    "name": "ipython",
    "version": 3
   },
   "file_extension": ".py",
   "mimetype": "text/x-python",
   "name": "python",
   "nbconvert_exporter": "python",
   "pygments_lexer": "ipython3",
   "version": "3.5.2"
  }
 },
 "nbformat": 4,
 "nbformat_minor": 2
}
