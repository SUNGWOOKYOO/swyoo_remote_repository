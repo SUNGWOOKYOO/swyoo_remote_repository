{
 "cells": [
  {
   "cell_type": "markdown",
   "metadata": {},
   "source": [
    "## 16.2 Elements of the greedy strategy"
   ]
  },
  {
   "cell_type": "markdown",
   "metadata": {},
   "source": [
    "### 16.2-1\n",
    "\n",
    "> Prove that the fractional knapsack problem has the greedy-choice property."
   ]
  },
  {
   "cell_type": "markdown",
   "metadata": {},
   "source": [
    "Obviously"
   ]
  },
  {
   "cell_type": "markdown",
   "metadata": {},
   "source": [
    "### 16.2-2\n",
    "\n",
    "> Give a dynamic-programming solution to the 0-1 knapsack problem that runs in $O(nW)$ time, where $n$ is the number of items and $W$ is the maximum weight of items that the thief can put in his knapsack."
   ]
  },
  {
   "cell_type": "code",
   "execution_count": null,
   "metadata": {},
   "outputs": [],
   "source": [
    "def zero_one_knapsack(v, w, W):\n",
    "    n = len(v)\n",
    "    dp = [0] * (W + 1)\n",
    "    for i in range(n):\n",
    "        for j in range(W, w[i] - 1, -1):\n",
    "            dp[j] = max(dp[j], dp[j - w[i]] + v[i])\n",
    "    return dp[W]"
   ]
  },
  {
   "cell_type": "markdown",
   "metadata": {},
   "source": [
    "### 16.2-3\n",
    "\n",
    "> Suppose that in a 0-1 knapsack problem, the order of the items when sorted by increasing weight is the same as their order when sorted by decreasing value. Give an efficient algorithm to find an optimal solution to this variant of the knapsack problem, and argue that your algorithm is correct."
   ]
  },
  {
   "cell_type": "markdown",
   "metadata": {},
   "source": [
    "Suppose in an optimal solution we take an item with $v_1$, $w_1$, and drop an item with $v_2$, $w_2$, and $w_1 > w_2$, $v_1 < v_2$, we can substitude $1$ with $2$ and get a better solution. Therefore we should always choose the items with the greatest values."
   ]
  },
  {
   "cell_type": "markdown",
   "metadata": {},
   "source": [
    "### 16.2-4\n",
    "\n",
    "> Professor Gekko has always dreamed of inline skating across North Dakota. He plans to cross the state on highway U.S. 2, which runs from Grand Forks, on the eastern border with Minnesota, to Williston, near the western border withMontana. The professor can carry two liters of water, and he can skate $m$ miles before running out of water. (Because North Dakota is relatively flat, the professor does not have to worry about drinking water at a greater rate on uphill sections than on flat or downhill sections.) The professor will start in Grand Forks with two full liters of water. His official North Dakota state map shows all the places along U.S. 2 at which he can refill his water and the distances between these locations.\n",
    "\n",
    "> The professor's goal is to minimize the number of water stops along his route across the state. Give an efficient method by which he can determine which water stops he should make. Prove that your strategy yields an optimal solution, and give its running time."
   ]
  },
  {
   "cell_type": "markdown",
   "metadata": {},
   "source": [
    "Go to the furthest stop within $m$ miles in each iteration."
   ]
  },
  {
   "cell_type": "markdown",
   "metadata": {},
   "source": [
    "### 16.2-5\n",
    "\n",
    "> Describe an efficient algorithm that, given a set $\\{ x_1, x_2, \\dots, x_n \\}$ of points on the real line, determines the smallest set of unit-length closed intervals that contains all of the given points. Argue that your algorithm is correct."
   ]
  },
  {
   "cell_type": "markdown",
   "metadata": {},
   "source": [
    "Place the left side of the unit-interval to the first left-most uncovered point in each iteration."
   ]
  },
  {
   "cell_type": "markdown",
   "metadata": {},
   "source": [
    "### 16.2-6 $\\star$\n",
    "\n",
    "> Show how to solve the fractional knapsack problem in $O(n)$ time."
   ]
  },
  {
   "cell_type": "markdown",
   "metadata": {},
   "source": [
    "Choose the median of $v_i / w_i$ in $O(n)$, partition the sequence with the median in $O(n)$, if the sum of weights in the more valuable side is less or equal to $W$, we take all the items in this side and repeat the steps in the other side; otherwise we repeat the steps in the more valuable side. The algorithm runs in $T(n) = T(n/2) + O(n)$, which is $O(n)$."
   ]
  },
  {
   "cell_type": "markdown",
   "metadata": {},
   "source": [
    "### 16.2-7\n",
    "\n",
    "> Suppose you are given two sets $A$ and $B$, each containing $n$ positive integers. You can choose to reorder each set however you like. After reordering, let $a_i$ be the $i$th element of set $A$, and let $b_i$ be the $i$ th element of set $B$. You then receive a payoff of $\\prod_{i=1}^n a_i^{b_i}$ . Give an algorithm that will maximize your payoff. Prove that your algorithm maximizes the payoff, and state its running time."
   ]
  },
  {
   "cell_type": "markdown",
   "metadata": {},
   "source": [
    "Sort $A$ and $B$ into monotonically increasing/decreasing order."
   ]
  },
  {
   "cell_type": "markdown",
   "metadata": {},
   "source": [
    "# Hw \n",
    "\n",
    "1. 0-1 Knapsack Problem through Dynamic programming\n",
    "\n",
    "nW 시간이 걸린다. c[n,W]만큼 loop를 돌면서 작성을 해야하므로 "
   ]
  },
  {
   "cell_type": "code",
   "execution_count": 3,
   "metadata": {},
   "outputs": [],
   "source": [
    "# notation :  n ; # item, W ; max weight for knapsack  \n",
    "# c[i][w] ; i 는 item index, w 는 possible weight \n",
    "\n",
    "# bottom up approach \n",
    "def DP_Knapsack(n,W,weight,v):\n",
    "    \n",
    "    c = np.ones([n+1,W+1]) * -1 # space for memoization \n",
    "    \n",
    "    for w in range(W+1):\n",
    "        c[0][w] = 0 \n",
    "        \n",
    "    for i in range(1,n+1):\n",
    "        #print(i)\n",
    "        for w in range(W+1):\n",
    "            #print(w)\n",
    "            #print(c)\n",
    "            if weight[i] <= w:\n",
    "                c[i][w] = max(c[i-1][w], v[i] + c[i-1][w-weight[i]])\n",
    "            else: \n",
    "                c[i][w] = c[i-1][w]\n",
    "   \n",
    "    return c[n][W]\n",
    "        "
   ]
  },
  {
   "cell_type": "code",
   "execution_count": 4,
   "metadata": {},
   "outputs": [
    {
     "name": "stdout",
     "output_type": "stream",
     "text": [
      "solution :   220.0\n"
     ]
    }
   ],
   "source": [
    "import numpy as np\n",
    "w = np.array([-1,1,2,3])\n",
    "v = np.array([-1,60,100,120])\n",
    "W = 5 # maximum wieght for knapsack \n",
    "\n",
    "# Knapsack Problem through Dynamic programming(bottom up approach)\n",
    "sol = DP_Knapsack(w.shape[0]-1,W,w,v)\n",
    "print(\"solution :  \", sol)"
   ]
  },
  {
   "cell_type": "markdown",
   "metadata": {},
   "source": [
    "2. Fractional Knapsack Problem through Greedy algorithm \n",
    "\n",
    "sorting 하는데 nlgn 시간이 걸리고, greedy algorithm 하는데 n 시간 걸린다. \n"
   ]
  },
  {
   "cell_type": "code",
   "execution_count": 1,
   "metadata": {},
   "outputs": [],
   "source": [
    "def fractional_knapsack(value, weight, capacity):\n",
    "    \"\"\"Return maximum value of items and their fractional amounts.\n",
    " \n",
    "    (max_value, fractions) is returned where max_value is the maximum value of\n",
    "    items with total weight not more than capacity.\n",
    "    fractions is a list where fractions[i] is the fraction that should be taken\n",
    "    of item i, where 0 <= i < total number of items.\n",
    " \n",
    "    value[i] is the value of item i and weight[i] is the weight of item i\n",
    "    for 0 <= i < n where n is the number of items.\n",
    " \n",
    "    capacity is the maximum weight.\n",
    "    \"\"\"\n",
    "    # index = [0, 1, 2, ..., n - 1] for n items\n",
    "    index = list(range(len(value)))\n",
    "    # contains ratios of values to weight\n",
    "    ratio = [v/w for v, w in zip(value, weight)]\n",
    "    # index is sorted according to value-to-weight ratio in decreasing order\n",
    "    index.sort(key=lambda i: ratio[i], reverse=True)\n",
    " \n",
    "    max_value = 0\n",
    "    fractions = [0]*len(value)\n",
    "    for i in index:\n",
    "        if weight[i] <= capacity:\n",
    "            fractions[i] = 1\n",
    "            max_value += value[i]\n",
    "            capacity -= weight[i]\n",
    "        else:\n",
    "            fractions[i] = capacity/weight[i]\n",
    "            max_value += value[i]*capacity/weight[i]\n",
    "            break\n",
    " \n",
    "    return max_value, fractions"
   ]
  },
  {
   "cell_type": "code",
   "execution_count": 2,
   "metadata": {},
   "outputs": [
    {
     "name": "stdout",
     "output_type": "stream",
     "text": [
      "Enter number of items: 3\n",
      "Enter the values of the 3 item(s) in order: 60 100 120\n",
      "Enter the positive weights of the 3 item(s) in order: 10 20 30\n",
      "Enter maximum weight: 50\n",
      "The maximum value of items that can be carried: 240.0\n",
      "The fractions in which the items should be taken: [1, 1, 0.6666666666666666]\n"
     ]
    }
   ],
   "source": [
    "n = int(input('Enter number of items: '))\n",
    "value = input('Enter the values of the {} item(s) in order: '\n",
    "              .format(n)).split()\n",
    "value = [int(v) for v in value]\n",
    "weight = input('Enter the positive weights of the {} item(s) in order: '\n",
    "               .format(n)).split()\n",
    "weight = [int(w) for w in weight]\n",
    "capacity = int(input('Enter maximum weight: '))\n",
    " \n",
    "max_value, fractions = fractional_knapsack(value, weight, capacity)\n",
    "print('The maximum value of items that can be carried:', max_value)\n",
    "print('The fractions in which the items should be taken:', fractions)\n",
    "\n",
    "# 3 \n",
    "# 60 100 120 \n",
    "# 10 20 30\n",
    "# 50\n",
    "# result : 240 "
   ]
  }
 ],
 "metadata": {
  "kernelspec": {
   "display_name": "Python 3",
   "language": "python",
   "name": "python3"
  },
  "language_info": {
   "codemirror_mode": {
    "name": "ipython",
    "version": 3
   },
   "file_extension": ".py",
   "mimetype": "text/x-python",
   "name": "python",
   "nbconvert_exporter": "python",
   "pygments_lexer": "ipython3",
   "version": "3.5.2"
  }
 },
 "nbformat": 4,
 "nbformat_minor": 2
}
