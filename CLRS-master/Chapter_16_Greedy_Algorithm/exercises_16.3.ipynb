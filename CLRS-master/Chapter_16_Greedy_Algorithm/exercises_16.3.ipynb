{
 "cells": [
  {
   "cell_type": "markdown",
   "metadata": {},
   "source": [
    "## 16.3 Huffman codes"
   ]
  },
  {
   "cell_type": "markdown",
   "metadata": {},
   "source": [
    "### 16.3-1\n",
    "\n",
    "> Explain why, in the proof of Lemma 16.2, if $x.freq = b.freq$, then we must have $a.freq = b.freq = x.freq = y.freq$."
   ]
  },
  {
   "cell_type": "markdown",
   "metadata": {},
   "source": [
    "### 16.3-2\n",
    "\n",
    "> Prove that a binary tree that is not full cannot correspond to an optimal prefix code."
   ]
  },
  {
   "cell_type": "markdown",
   "metadata": {},
   "source": [
    "### 16.3-3\n",
    "\n",
    "> What is an optimal Huffman code for the following set of frequencies, based on\n",
    "the first 8 Fibonacci numbers? \n",
    "\n",
    "> a:1 b:1 c:2 d:3 e:5 f:8 g:13 h:21 \n",
    "\n",
    "> Can you generalize your answer to find the optimal code when the frequencies are the first $n$ Fibonacci numbers?"
   ]
  },
  {
   "cell_type": "markdown",
   "metadata": {},
   "source": [
    "* a: 1111111\n",
    "* b: 1111110\n",
    "* c: 111110\n",
    "* d: 11110\n",
    "* e: 1110\n",
    "* f: 110\n",
    "* g: 10\n",
    "* h: 0"
   ]
  },
  {
   "cell_type": "markdown",
   "metadata": {},
   "source": [
    "### 16.3-4\n",
    "\n",
    "> Prove that we can also express the total cost of a tree for a code as the sum, over all internal nodes, of the combined frequencies of the two children of the node."
   ]
  },
  {
   "cell_type": "markdown",
   "metadata": {},
   "source": [
    "### 16.3-5\n",
    "\n",
    "> Prove that if we order the characters in an alphabet so that their frequencies are monotonically decreasing, then there exists an optimal code whose codeword lengths are monotonically increasing."
   ]
  },
  {
   "cell_type": "markdown",
   "metadata": {},
   "source": [
    "### 16.3-6\n",
    "\n",
    "> Suppose we have an optimal prefix code on a set $C = \\{0, 1, \\dots, n - 1\\}$ of characters and we wish to transmit this code using as few bits as possible. Show how to represent any optimal prefix code on $C$ using only $2n - 1 + n \\lceil lg n \\rceil$ bits."
   ]
  },
  {
   "cell_type": "markdown",
   "metadata": {},
   "source": [
    "Use one bit for representing internal or leaf node, which is $2n - 1$ bits."
   ]
  },
  {
   "cell_type": "markdown",
   "metadata": {},
   "source": [
    "### 16.3-7\n",
    "\n",
    "> Generalize Huffman’s algorithm to ternary codewords (i.e., codewords using the symbols 0, 1, and 2), and prove that it yields optimal ternary codes."
   ]
  },
  {
   "cell_type": "markdown",
   "metadata": {},
   "source": [
    "Merge three nodes."
   ]
  },
  {
   "cell_type": "markdown",
   "metadata": {},
   "source": [
    "### 16.3-8\n",
    "\n",
    "> Suppose that a data file contains a sequence of 8-bit characters such that all 256 characters are about equally common: the maximum character frequency is less than twice the minimum character frequency. Prove that Huffman coding in this case is no more efficient than using an ordinary 8-bit fixed-length code."
   ]
  },
  {
   "cell_type": "markdown",
   "metadata": {},
   "source": [
    "Full binary tree, another 8-bit encoding."
   ]
  },
  {
   "cell_type": "markdown",
   "metadata": {},
   "source": [
    "### 16.3-9\n",
    "\n",
    "> Show that no compression scheme can expect to compress a file of randomly chosen 8-bit characters by even a single bit."
   ]
  },
  {
   "cell_type": "markdown",
   "metadata": {},
   "source": [
    "$2^n >> 2^{n-1}$"
   ]
  },
  {
   "cell_type": "markdown",
   "metadata": {},
   "source": [
    "# Hw \n",
    "\n",
    "Huffman code 를 만들어라. 우선순위 큐(minimum heap 이용) "
   ]
  },
  {
   "cell_type": "code",
   "execution_count": 27,
   "metadata": {},
   "outputs": [],
   "source": [
    "# priority queue(minimum heap + ADT) 필요 \n",
    "\n",
    "def parent(i):\n",
    "    return (i - 1) >> 1 # 2로 나눔 \n",
    "\n",
    "\n",
    "def left(i):\n",
    "    return (i << 1) + 1  # 2 곱함 ; index 0부터 시작이므로 +1\n",
    "\n",
    "\n",
    "def right(i):\n",
    "    return (i << 1) + 2 # 2 곱하고 1더함 ; ndex 0부터 시작이므로 +1\n",
    "\n",
    "\n",
    "def min_heapify(a, i):\n",
    "    min_idx = i\n",
    "    l, r = left(i), right(i)\n",
    "    if l < len(a) and a[l] < a[min_idx]:\n",
    "        min_idx = l\n",
    "    if r < len(a) and a[r] < a[min_idx]:\n",
    "        min_idx = r\n",
    "    if min_idx != i:\n",
    "        a[i], a[min_idx] = a[min_idx], a[i] # swape a[i] with a[min_idx]\n",
    "        min_heapify(a, min_idx)\n",
    "    \n",
    "def build_min_heap(a):\n",
    "    for i in range(int(len(a)/2),-1,-1):\n",
    "        min_heapify(a, i)\n",
    "        \n",
    "########################  ADT #################################################################################\n",
    "\n",
    "def heap_minimum(a):\n",
    "    assert(len(a) > 0)\n",
    "    return a[0] # min-heap 을 따르므로 index 0 일때 가장 minimum \n",
    "\n",
    "\n",
    "def heap_extract_min(a):\n",
    "    assert(len(a) > 0) #양수인지 검사하는 오류 검사 코드 \n",
    "    val = a[0]\n",
    "    a[0] = a[-1] # a 배열의 마지막값을 맨 위로 올림 \n",
    "    del a[-1] # 바뀐 마지막 배열 제거 \n",
    "    min_heapify(a, 0) # min_heapify를 call 하여, min-heap property 유지 ; it takes O(lgn) times  \n",
    "    return val # 아까 저장한 min 값 추출 \n",
    "\n",
    "\n",
    "def heap_decrease_key(a, i, key):  # a[i] 값을 key로 낮추고 min-heap data structure를 따르도록하는 적절한 위치 찾는다 \n",
    "    assert(key <= a[i]) # key값이 a[i] 보다 낮은지 검사한다. \n",
    "    a[i] = key\n",
    "    while i > 0 and a[i] < a[parent(i)]:  # O(lgn) 만큼 소요 ; root까지 올라가며 비교해야하므로 \n",
    "        a[i], a[parent(i)] = a[parent(i)], a[i]\n",
    "        i = parent(i)\n",
    "\n",
    "\n",
    "def min_heap_insert(a, key):\n",
    "    a.append(1e100) # 매우 큰값을 sintinel value로 두고 배열에 끝에 그 값을 추가한다. \n",
    "    heap_decrease_key(a, len(a) - 1, key) # 새로 생긴 값이 적당한 위치를 찾아가게 된다 it takes O(lgn)"
   ]
  },
  {
   "cell_type": "code",
   "execution_count": 35,
   "metadata": {},
   "outputs": [],
   "source": [
    "def Huffman(C):\n",
    "    n = len(C)\n",
    "    build_min_heap(C)\n",
    "    Q = C\n",
    "    print(\"debug1 \", Q)\n",
    "    for i in range(1,n):\n",
    "        x = heap_extract_min(Q)\n",
    "        y = heap_extract_min(Q)\n",
    "        z = x + y \n",
    "        min_heap_insert(Q, z)\n",
    "        print(\"debug2 \", Q)\n",
    "    \n",
    "    print(\"debug3 \",Q)\n",
    "    \n",
    "    return heap_extract_min(Q)"
   ]
  },
  {
   "cell_type": "code",
   "execution_count": 36,
   "metadata": {},
   "outputs": [
    {
     "name": "stdout",
     "output_type": "stream",
     "text": [
      "debug1  [5, 9, 12, 16, 13, 45]\n",
      "debug2  [12, 13, 45, 16, 14]\n",
      "debug2  [14, 16, 45, 25]\n",
      "debug2  [25, 45, 30]\n",
      "debug2  [45, 55]\n",
      "debug2  [100]\n",
      "debug3  [100]\n"
     ]
    },
    {
     "data": {
      "text/plain": [
       "100"
      ]
     },
     "execution_count": 36,
     "metadata": {},
     "output_type": "execute_result"
    }
   ],
   "source": [
    "#C  = [5,9,12,13,16,45] # character 의 freq가 key를 의미\n",
    "C = [45,13,12,16,9,5]   #['a','b','c','d','e','f']\n",
    "Huffman(C)\n"
   ]
  },
  {
   "cell_type": "code",
   "execution_count": 37,
   "metadata": {},
   "outputs": [],
   "source": [
    "import heapq\n",
    "from collections import defaultdict\n",
    " \n",
    " \n",
    "def Encode_fun(feq):\n",
    "    heap = [[weight, [symbol, '']] for symbol, weight in feq.items()]\n",
    "    # heapq: module provides an implementation of the heap queue algorithm\n",
    "    # also known as the priority queue algorithm\n",
    "    heapq.heapify(heap)\n",
    "    while len(heap) > 1:\n",
    "        low = heapq.heappop(heap)\n",
    "        hi = heapq.heappop(heap)\n",
    "        for pair in low[1:]:\n",
    "            pair[1] = '0' + pair[1]\n",
    "        for pair in hi[1:]:\n",
    "            pair[1] = '1' + pair[1]\n",
    "        heapq.heappush(heap, [low[0] + hi[0]] + low[1:] + hi[1:])\n",
    "    return sorted(heapq.heappop(heap)[1:], key=lambda p: (len(p[-1]), p))"
   ]
  },
  {
   "cell_type": "code",
   "execution_count": 38,
   "metadata": {},
   "outputs": [
    {
     "name": "stdout",
     "output_type": "stream",
     "text": [
      "Symbol    Weight    Huffman Code\n",
      "m         2         000\n",
      "n         2         001\n",
      "o         2         010\n",
      "          2         1000\n",
      "f         2         1100\n",
      "g         2         1101\n",
      "i         2         1110\n",
      "t         1         0110\n",
      "u         1         0111\n",
      "A         1         10010\n",
      "H         1         10011\n",
      "a         1         10100\n",
      "c         1         10101\n",
      "d         1         10110\n",
      "h         1         10111\n",
      "l         1         11110\n",
      "r         1         11111\n"
     ]
    }
   ],
   "source": [
    "# Driver \n",
    "input = \"Huffman coding Algorithm\"\n",
    "# defaultdict: dict subclass that calls a factory function\n",
    "# to supply missing values\n",
    "feq = defaultdict(int)\n",
    "# frequency for each character\n",
    "for symbol in input:\n",
    "    feq[symbol] += 1\n",
    " \n",
    "# Huffman coding function \n",
    "huff = Encode_fun(feq)\n",
    "print (\"Symbol\".ljust(10) + \"Weight\".ljust(10) + \"Huffman Code\")\n",
    "for p in huff:\n",
    "    print (p[0].ljust(10) + str(feq[p[0]]).ljust(10) + p[1])"
   ]
  },
  {
   "cell_type": "code",
   "execution_count": null,
   "metadata": {},
   "outputs": [],
   "source": []
  }
 ],
 "metadata": {
  "kernelspec": {
   "display_name": "Python 3",
   "language": "python",
   "name": "python3"
  },
  "language_info": {
   "codemirror_mode": {
    "name": "ipython",
    "version": 3
   },
   "file_extension": ".py",
   "mimetype": "text/x-python",
   "name": "python",
   "nbconvert_exporter": "python",
   "pygments_lexer": "ipython3",
   "version": "3.5.2"
  }
 },
 "nbformat": 4,
 "nbformat_minor": 2
}
