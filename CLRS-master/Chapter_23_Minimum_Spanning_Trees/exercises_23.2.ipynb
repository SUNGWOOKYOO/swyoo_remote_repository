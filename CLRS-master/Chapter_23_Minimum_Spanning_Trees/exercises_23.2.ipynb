{
 "cells": [
  {
   "cell_type": "markdown",
   "metadata": {},
   "source": [
    "## 23.2 The algorithms of Kruskal and Prim"
   ]
  },
  {
   "cell_type": "markdown",
   "metadata": {},
   "source": [
    "### 23.2-1\n",
    "\n",
    "> Kruskal's algorithm can return different spanning trees for the same input graph $G$, depending on how it breaks ties when the edges are sorted into order. Show that for each minimum spanning tree $T$ of $G$, there is a way to sort the edges of $G$ in Kruskal's algorithm so that the algorithm returns $T$."
   ]
  },
  {
   "cell_type": "markdown",
   "metadata": {},
   "source": [
    "$\\dots$"
   ]
  },
  {
   "cell_type": "markdown",
   "metadata": {},
   "source": [
    "### 23.2-2\n",
    "\n",
    "> Suppose that we represent the graph $G = (V, E)$ as an adjacency matrix. Give a simple implementation of Prim's algorithm for this case that runs in $O(V^2)$ time."
   ]
  },
  {
   "cell_type": "markdown",
   "metadata": {},
   "source": [
    "$\\dots$"
   ]
  },
  {
   "cell_type": "markdown",
   "metadata": {},
   "source": [
    "### 23.2-3\n",
    "\n",
    "> For a sparse graph $G = (V, E)$, where $|E| = \\Theta(V)$, is the implementation of Prim's algorithm with a Fibonacci heap asymptotically faster than the binary-heap implementation? What about for a dense graph, where $|E| = \\Theta(V^2)$? How must the sizes $|E|$ and $|V|$ be related for the Fibonacci-heap implementation to be asymptotically faster than the binary-heap implementation?"
   ]
  },
  {
   "cell_type": "markdown",
   "metadata": {},
   "source": [
    "Binary-heap: $O(E \\lg V)$ \n",
    "\n",
    "Fibonacci-heap: $O(E + V\\lg V)$\n",
    "\n",
    "* $|E| = \\Theta(V)$\n",
    "\n",
    "Binary-heap: $O(V \\lg V) = O(V \\lg V)$ \n",
    "\n",
    "Fibonacci-heap: $O(E + V\\lg V) = O(V \\lg V)$\n",
    "\n",
    "* $|E| = \\Theta(V^2)$\n",
    "\n",
    "Binary-heap: $O(V^2 \\lg V) = O(V^2 \\lg V)$ \n",
    "\n",
    "Fibonacci-heap: $O(V^2 + V\\lg V) = O(V^2)$"
   ]
  },
  {
   "cell_type": "markdown",
   "metadata": {},
   "source": [
    "### 23.2-4\n",
    "\n",
    "> Suppose that all edge weights in a graph are integers in the range from $1$ to $|V|$. How fast can you make Kruskal's algorithm run? What if the edge weights are integers in the range from $1$ to $W$ for some constant $W$?"
   ]
  },
  {
   "cell_type": "markdown",
   "metadata": {},
   "source": [
    "* $1$ to $|V|$\n",
    "\n",
    "Use counting sort, $O(E \\alpha(V))$.\n",
    "\n",
    "* $1$ to $W$\n",
    "\n",
    "$\\min(O(W + E\\alpha(V)),O(E\\lg V))$."
   ]
  },
  {
   "cell_type": "markdown",
   "metadata": {},
   "source": [
    "### 23.2-5\n",
    "\n",
    "> Suppose that all edge weights in a graph are integers in the range from $1$ to $|V|$. How fast can you make Prim's algorithm run? What if the edge weights are integers in the range from $1$ to $W$ for some constant $W$?"
   ]
  },
  {
   "cell_type": "markdown",
   "metadata": {},
   "source": [
    "* $1$ to $|V|$\n",
    "\n",
    "Use van Emde Boas trees, $O(E \\lg \\lg V)$.\n",
    "\n",
    "* $1$ to $W$\n",
    "\n",
    "$\\min(O(E\\lg \\lg W), O(E + V \\lg V)$."
   ]
  },
  {
   "cell_type": "markdown",
   "metadata": {},
   "source": [
    "### 23.2-6 $\\star$\n",
    "\n",
    "> Suppose that the edge weights in a graph are uniformly distributed over the halfopen interval $[0, 1)$. Which algorithm, Kruskal's or Prim's, can you make run faster?"
   ]
  },
  {
   "cell_type": "markdown",
   "metadata": {},
   "source": [
    "$\\dots$"
   ]
  },
  {
   "cell_type": "markdown",
   "metadata": {},
   "source": [
    "### 23.2-7 $\\star$\n",
    "\n",
    "> Suppose that a graph $G$ has a minimum spanning tree already computed. How quickly can we update the minimum spanning tree if we add a new vertex and incident edges to $G$?"
   ]
  },
  {
   "cell_type": "markdown",
   "metadata": {},
   "source": [
    "$\\dots$"
   ]
  },
  {
   "cell_type": "markdown",
   "metadata": {},
   "source": [
    "### 23.2-8\n",
    "\n",
    "> Professor Borden proposes a new divide-and-conquer algorithm for computing minimum spanning trees, which goes as follows. Given a graph $G = (V, E)$, partition the set $V$ of vertices into two sets $V_1$ and $V_2$ such that $|V_1|$ and $|V_2|$ differ by at most $1$. Let $E_1$ be the set of edges that are incident only on vertices in $V_1$, and let $E_2$ be the set of edges that are incident only on vertices in $V_2$. Recursively solve a minimum-spanning-tree problem on each of the two subgraphs $G_1 = (V_1, E_1)$ and $G_2 = (V_2, E_2)$. Finally, select the minimum-weight edge in $E$ that crosses the cut $(V_1, V_2)$, and use this edge to unite the resulting two minimum spanning trees into a single spanning tree.\n",
    "> \n",
    "> Either argue that the algorithm correctly computes a minimum spanning tree of $G$, or provide an example for which the algorithm fails."
   ]
  },
  {
   "cell_type": "markdown",
   "metadata": {},
   "source": [
    "The algorithm fails. Suppose $E = \\{ (u, v), (u, w), (v, w) \\}$, the weight of $(u, v)$ and $(u, w)$ is 1, and the weight of $(v, w)$ is 1000, partition the set into two sets $V_1 = \\{u\\}$ and $V_2 = \\{ v, w \\}$."
   ]
  },
  {
   "cell_type": "markdown",
   "metadata": {},
   "source": [
    "### Hw\n",
    "\n",
    "Prim's Algorithm \n",
    "\n",
    "mutable type python \n",
    "http://ledgku.tistory.com/54"
   ]
  },
  {
   "cell_type": "code",
   "execution_count": 1,
   "metadata": {},
   "outputs": [],
   "source": [
    "class heap:\n",
    "    \n",
    "    def __init__(self,a):\n",
    "        self.heap_size = len(a) - 1 # index 는 0 ~ len(a) - 1 이므로 \n",
    "        \n",
    "        # mutable variable \n",
    "        self.h = a \n",
    "    \n",
    "    # Binary shifting 으로 생각  python 에서는 index 0 부터 사용 하므로 \n",
    "    def parent(self,i):\n",
    "        if i <= self.heap_size:\n",
    "            return (i - 1) >> 1 \n",
    "        else: return i # heapify 연산에서 if 문에서 비교 연산에 대해 결과가 Flase가 나와야하고, 마지막에 i로 largest(smalliest) 결정\n",
    "\n",
    "\n",
    "    def left(self, i):\n",
    "        if (((i << 1) + 1) <= self.heap_size):\n",
    "            return (i << 1) + 1  # 2 곱함 ; index 0부터 시작이므로 +1\n",
    "        else: return i \n",
    "\n",
    "    def right(self, i):\n",
    "        if (((i<<1) + 2) <= self.heap_size):\n",
    "            return (i << 1) + 2 # 2 곱하고 1더함 ; ndex 0부터 시작이므로 +1\n",
    "        else: return i \n",
    "\n",
    "    \n",
    "    def min_heapify(self, i):\n",
    "     \n",
    "        # smallest = argmin{a[i] , a[l], a[r]} \n",
    "        l, r = self.left(i), self.right(i) \n",
    "        if (l <= len(self.h)) and (self.h[l] < self.h[i]):\n",
    "            smallest = l\n",
    "        else: smallest = i \n",
    "        if (r <= len(self.h)) and (self.h[r] < self.h[smallest]):\n",
    "            smallest = r\n",
    "    \n",
    "        # i 가 smallest 가 아니라면 a[smallest] 와 swap     \n",
    "        if smallest != i:\n",
    "            self.h[i], self.h[smallest] = self.h[smallest], self.h[i] # swape a[i] with a[min_idx]\n",
    "            self.min_heapify(smallest)             # recursive call \n",
    "    \n",
    "        # worst case running time : O(lgn)   \n",
    "    \n",
    "    def build_min_heap(self):\n",
    "        self.heap_size = len(self.h) - 1\n",
    "        for i in range((len(self.h)-1)//2,-1,-1):\n",
    "            self.min_heapify(i)\n",
    "            \n",
    "        #running time : O(nlgn ) -> tighter upper bound : O(n)\n",
    "            \n",
    "    def size(self):\n",
    "        return (self.heap_size + 1)\n",
    "            \n",
    "    \"\"\" heap sort implementation using heap\"\"\"\n",
    "    def heapsort(self):\n",
    "        \n",
    "        # using min heap \n",
    "        self.build_min_heap()                     # min heap 을 만들고, \n",
    "        for i in range(len(self.h)-1, -1, -1):          # for loop 에서 heap property를 유지시키며, decreasing order로 sorting \n",
    "            self.h[0], self.h[i] = self.h[i], self.h[0]                # 그 과정에서 heap에 들어간 array는 점점 줄어든다. \n",
    "            self.heap_size = self.heap_size - 1    # [[ heap영역      ]  sorting된 data]  : total data\n",
    "            self.min_heapify(0)                  # [[null]   sorting completed       ]\n",
    "        # running time : O(nlgn)\n",
    "        \n",
    "        return self.h\n",
    "    \n",
    "class priority_queue(heap):\n",
    "    \n",
    "    def __init__(self, a):\n",
    "        self.heap_size = len(a) - 1 # index 는 0 ~ len(a) - 1 이므로 \n",
    "        \n",
    "        # self.h have to always maintain min-heap property\n",
    "        # self.h is a mutable type \n",
    "        self.h = a\n",
    "        self.build_min_heap()  \n",
    "    \n",
    "    \n",
    "    # ※ self.h 는 min heap property를 만족하는 array여야 한다.\n",
    "    def heap_minimum(self):\n",
    "        return self.h[0]\n",
    "    \n",
    "    def heap_extract_min(self):\n",
    "        if self.heap_size < 0:\n",
    "            print(\"heap underflow: empty array\")\n",
    "            return None\n",
    "        mn = self.h[0] # heap 에 root 에 있는 min 값 \n",
    "        \n",
    "        # mn 값을 빼왔으니, 제일 뒤에있는 index에 있는 element를 빼와서 haep property를 만족하도록 한다.\n",
    "        self.h[0] = self.h[len(self.h) - 1]\n",
    "        self.heap_size = self.heap_size - 1\n",
    "        self.min_heapify(0)\n",
    "        \n",
    "        del self.h[self.heap_size + 1]\n",
    "\n",
    "        #runnig time: O(lgn)\n",
    "        return mn \n",
    "         \n",
    "    \n",
    "    \n",
    "    \"\"\" prim Algorithm을 위해 정의 \"\"\"\n",
    "    # heap property를 만족시키면서 self.h[idex]의 (key, value) = item 을 바꿈  \n",
    "    def key_update(self, idex, newitem):\n",
    "        \n",
    "        self.h[idex] = newitem\n",
    "        self.build_min_heap()\n",
    "        \n",
    "    def find_index(self, value):\n",
    "        for k in range(self.size()):\n",
    "            if self.h[k][1] == value:\n",
    "                return k \n",
    "            \n",
    "    def heap_included(self, v):\n",
    "        for k in range(self.size()):\n",
    "            if self.h[k][1] == v:\n",
    "                return True "
   ]
  },
  {
   "cell_type": "code",
   "execution_count": 2,
   "metadata": {},
   "outputs": [],
   "source": [
    "# node로 구현 \n",
    "class node: \n",
    "    \n",
    "    def __init__(self, name):\n",
    "        self.name = name\n",
    "        self.d = 0 \n",
    "        self.f = 0\n",
    "        self.pi = 0  \n",
    "        self.key = 0\n",
    "        self.color = 'unknown'\n",
    "        self.edge = {}\n",
    "        \n",
    "class Graph: \n",
    "    \n",
    "    time = 0\n",
    "    \n",
    "    def __init__(self, graph_dict=None, w = None):\n",
    "        if graph_dict == None:\n",
    "            graph_dict = {}\n",
    "        self.graph_dict = graph_dict\n",
    "        \n",
    "        # node object로 list 만듦\n",
    "        self.nodes = []\n",
    "        for n in list(self.graph_dict.keys()):\n",
    "            self.nodes.append(node(n))\n",
    "        \n",
    "        # node object로 dictionary 만듦\n",
    "        self.nm = {}\n",
    "        for k in range(len(list(self.graph_dict.keys()))):\n",
    "            self.nm[self.nodes[k].name] = self.nodes[k]\n",
    "        \n",
    "        # edge 를 w 에 의해 부여 \n",
    "        for j in range(len(list(self.graph_dict.keys()))):  # j vertex\n",
    "            for i in self.graph_dict[self.nodes[j].name]:      # i edge \n",
    "                self.nodes[j].edge[i] = w[self.nodes[j].name][i]             # allocate weight "
   ]
  },
  {
   "cell_type": "code",
   "execution_count": 3,
   "metadata": {},
   "outputs": [],
   "source": [
    "def Mst_prim(G,r):\n",
    "    \n",
    "    for u in list(G.graph_dict.keys()):\n",
    "        #G.nm[u].key = random.randrange(1e+10,1e+11)\n",
    "        G.nm[u].key = float('inf')\n",
    "        G.nm[u].pi = None\n",
    "    \n",
    "    G.nm[r].key = 0 \n",
    "    \n",
    "    \n",
    "    data = []\n",
    "    for u in list(G.graph_dict.keys()):\n",
    "        data.append((G.nm[u].key, G.nm[u].name))\n",
    "           \n",
    "    Q = priority_queue(data) \n",
    "    print(Q.h)\n",
    "    \n",
    "    \n",
    "    while Q.size() != 0: \n",
    "\n",
    "        u = Q.heap_extract_min()[1]\n",
    "        print(\" >>>>>\", u,\" vertex 꺼냄\")\n",
    "        \n",
    "        for v in list(G.graph_dict[u]): # adj[u]\n",
    "            \n",
    "            print(u, \"vertex 에 대해서 adjoint list 조사 :  \", v ,\" vertex\")\n",
    "            if Q.heap_included(v) and G.nm[u].edge[v] < G.nm[v].key:\n",
    "                \n",
    "                print(v, \"vertex의 key값 update w(\", u,\", \", v, \") edge 에 대한 값 으로 \" )\n",
    "                G.nm[v].pi = u \n",
    "                G.nm[v].key = G.nm[u].edge[v]\n",
    "        \n",
    "                Q.key_update(Q.find_index(v),(G.nm[v].key, v))\n",
    "            \n",
    "                print(Q.h)\n",
    "                print(\" >> Q's size: \", Q.size()) \n",
    "                "
   ]
  },
  {
   "cell_type": "code",
   "execution_count": 4,
   "metadata": {},
   "outputs": [
    {
     "name": "stdout",
     "output_type": "stream",
     "text": [
      "[(0, 'a'), (inf, 'e'), (inf, 'b'), (inf, 'g'), (inf, 'f'), (inf, 'd'), (inf, 'c'), (inf, 'i'), (inf, 'h')]\n",
      " >>>>> a  vertex 꺼냄\n",
      "a vertex 에 대해서 adjoint list 조사 :   h  vertex\n",
      "h vertex의 key값 update w( a ,  h ) edge 에 대한 값 으로 \n",
      "[(8, 'h'), (inf, 'e'), (inf, 'b'), (inf, 'g'), (inf, 'f'), (inf, 'd'), (inf, 'c'), (inf, 'i')]\n",
      " >> Q's size:  8\n",
      "a vertex 에 대해서 adjoint list 조사 :   b  vertex\n",
      "b vertex의 key값 update w( a ,  b ) edge 에 대한 값 으로 \n",
      "[(4, 'b'), (inf, 'e'), (8, 'h'), (inf, 'g'), (inf, 'f'), (inf, 'd'), (inf, 'c'), (inf, 'i')]\n",
      " >> Q's size:  8\n",
      " >>>>> b  vertex 꺼냄\n",
      "b vertex 에 대해서 adjoint list 조사 :   a  vertex\n",
      "b vertex 에 대해서 adjoint list 조사 :   h  vertex\n",
      "b vertex 에 대해서 adjoint list 조사 :   c  vertex\n",
      "c vertex의 key값 update w( b ,  c ) edge 에 대한 값 으로 \n",
      "[(8, 'c'), (inf, 'e'), (8, 'h'), (inf, 'g'), (inf, 'f'), (inf, 'd'), (inf, 'i')]\n",
      " >> Q's size:  7\n",
      " >>>>> c  vertex 꺼냄\n",
      "c vertex 에 대해서 adjoint list 조사 :   i  vertex\n",
      "i vertex의 key값 update w( c ,  i ) edge 에 대한 값 으로 \n",
      "[(2, 'i'), (inf, 'e'), (8, 'h'), (inf, 'g'), (inf, 'f'), (inf, 'd')]\n",
      " >> Q's size:  6\n",
      "c vertex 에 대해서 adjoint list 조사 :   b  vertex\n",
      "c vertex 에 대해서 adjoint list 조사 :   d  vertex\n",
      "d vertex의 key값 update w( c ,  d ) edge 에 대한 값 으로 \n",
      "[(2, 'i'), (inf, 'e'), (7, 'd'), (inf, 'g'), (inf, 'f'), (8, 'h')]\n",
      " >> Q's size:  6\n",
      "c vertex 에 대해서 adjoint list 조사 :   f  vertex\n",
      "f vertex의 key값 update w( c ,  f ) edge 에 대한 값 으로 \n",
      "[(2, 'i'), (4, 'f'), (7, 'd'), (inf, 'g'), (inf, 'e'), (8, 'h')]\n",
      " >> Q's size:  6\n",
      " >>>>> i  vertex 꺼냄\n",
      "i vertex 에 대해서 adjoint list 조사 :   h  vertex\n",
      "h vertex의 key값 update w( i ,  h ) edge 에 대한 값 으로 \n",
      "[(4, 'f'), (7, 'h'), (7, 'd'), (inf, 'g'), (inf, 'e')]\n",
      " >> Q's size:  5\n",
      "i vertex 에 대해서 adjoint list 조사 :   c  vertex\n",
      "i vertex 에 대해서 adjoint list 조사 :   g  vertex\n",
      "g vertex의 key값 update w( i ,  g ) edge 에 대한 값 으로 \n",
      "[(4, 'f'), (6, 'g'), (7, 'd'), (7, 'h'), (inf, 'e')]\n",
      " >> Q's size:  5\n",
      " >>>>> f  vertex 꺼냄\n",
      "f vertex 에 대해서 adjoint list 조사 :   d  vertex\n",
      "f vertex 에 대해서 adjoint list 조사 :   c  vertex\n",
      "f vertex 에 대해서 adjoint list 조사 :   e  vertex\n",
      "e vertex의 key값 update w( f ,  e ) edge 에 대한 값 으로 \n",
      "[(6, 'g'), (7, 'h'), (7, 'd'), (10, 'e')]\n",
      " >> Q's size:  4\n",
      "f vertex 에 대해서 adjoint list 조사 :   g  vertex\n",
      "g vertex의 key값 update w( f ,  g ) edge 에 대한 값 으로 \n",
      "[(2, 'g'), (7, 'h'), (7, 'd'), (10, 'e')]\n",
      " >> Q's size:  4\n",
      " >>>>> g  vertex 꺼냄\n",
      "g vertex 에 대해서 adjoint list 조사 :   h  vertex\n",
      "h vertex의 key값 update w( g ,  h ) edge 에 대한 값 으로 \n",
      "[(1, 'h'), (7, 'd'), (10, 'e')]\n",
      " >> Q's size:  3\n",
      "g vertex 에 대해서 adjoint list 조사 :   i  vertex\n",
      "g vertex 에 대해서 adjoint list 조사 :   f  vertex\n",
      " >>>>> h  vertex 꺼냄\n",
      "h vertex 에 대해서 adjoint list 조사 :   a  vertex\n",
      "h vertex 에 대해서 adjoint list 조사 :   i  vertex\n",
      "h vertex 에 대해서 adjoint list 조사 :   b  vertex\n",
      "h vertex 에 대해서 adjoint list 조사 :   g  vertex\n",
      " >>>>> d  vertex 꺼냄\n",
      "d vertex 에 대해서 adjoint list 조사 :   c  vertex\n",
      "d vertex 에 대해서 adjoint list 조사 :   e  vertex\n",
      "e vertex의 key값 update w( d ,  e ) edge 에 대한 값 으로 \n",
      "[(9, 'e')]\n",
      " >> Q's size:  1\n",
      "d vertex 에 대해서 adjoint list 조사 :   f  vertex\n",
      " >>>>> e  vertex 꺼냄\n",
      "e vertex 에 대해서 adjoint list 조사 :   d  vertex\n",
      "e vertex 에 대해서 adjoint list 조사 :   f  vertex\n"
     ]
    }
   ],
   "source": [
    "g = {'a': set(['b','h']),\n",
    "     'b': set(['a','h','c']),\n",
    "     'c': set(['b', 'i','f','d']),\n",
    "     'd': set(['c','e','f']),\n",
    "     'e': set(['d','f']),\n",
    "     'f': set(['g','c','d','e']),\n",
    "     'g': set(['h','i','f']),\n",
    "     'h': set(['a','b','i','g']),\n",
    "     'i': set(['c','h','g'])}\n",
    "\n",
    "w = {'a': {'b': 4, 'h': 8},\n",
    "     'b': {'a': 4, 'h': 11, 'c': 8},\n",
    "     'c': {'b': 8 , 'i': 2, 'f' : 4 ,'d' : 7},\n",
    "     'd': {'c': 7 ,'e': 9 ,'f': 14 },\n",
    "     'e': {'d': 9 ,'f': 10 },\n",
    "     'f': {'g': 2,'c': 4 ,'d': 14 ,'e': 10 },\n",
    "     'g': {'h': 1 ,'i': 6 ,'f': 2},\n",
    "     'h': {'a': 8 ,'b': 11,'i': 7 ,'g': 1 },\n",
    "     'i': {'c': 2 ,'h': 7,'g': 6}}\n",
    "\n",
    "\n",
    "G = Graph(g,w)\n",
    "Mst_prim(G,'a')\n"
   ]
  },
  {
   "cell_type": "code",
   "execution_count": 5,
   "metadata": {},
   "outputs": [
    {
     "name": "stdout",
     "output_type": "stream",
     "text": [
      "a , pi:  None\n",
      "h , pi:  g\n",
      "b , pi:  a\n",
      "e , pi:  d\n",
      "f , pi:  c\n",
      "d , pi:  c\n",
      "c , pi:  b\n",
      "i , pi:  c\n",
      "g , pi:  f\n"
     ]
    }
   ],
   "source": [
    "for v in list(G.graph_dict.keys()):\n",
    "    print(v, \", pi: \", G.nm[v].pi)"
   ]
  }
 ],
 "metadata": {
  "kernelspec": {
   "display_name": "Python 3",
   "language": "python",
   "name": "python3"
  },
  "language_info": {
   "codemirror_mode": {
    "name": "ipython",
    "version": 3
   },
   "file_extension": ".py",
   "mimetype": "text/x-python",
   "name": "python",
   "nbconvert_exporter": "python",
   "pygments_lexer": "ipython3",
   "version": "3.5.2"
  }
 },
 "nbformat": 4,
 "nbformat_minor": 2
}
