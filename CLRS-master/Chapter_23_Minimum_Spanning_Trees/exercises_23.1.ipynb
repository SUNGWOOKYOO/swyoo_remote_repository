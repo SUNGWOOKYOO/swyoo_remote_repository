{
 "cells": [
  {
   "cell_type": "markdown",
   "metadata": {},
   "source": [
    "## 23.1 Growing a minimum spanning tree"
   ]
  },
  {
   "cell_type": "markdown",
   "metadata": {},
   "source": [
    "### 23.1-1\n",
    "\n",
    "> Let $(u, v)$ be a minimum-weight edge in a connected graph $G$. Show that $(u, v)$ belongs to some minimum spanning tree of $G$."
   ]
  },
  {
   "cell_type": "markdown",
   "metadata": {},
   "source": [
    "$S = {u}$."
   ]
  },
  {
   "cell_type": "markdown",
   "metadata": {},
   "source": [
    "### 23.1-2\n",
    "\n",
    "> Professor Sabatier conjectures the following converse of Theorem 23.1. Let $G = (V, E)$ be a connected, undirected graph with a real-valued weight function $w$ defined on $E$. Let $A$ be a subset of $E$ that is included in some minimum spanning tree for $G$, let $(S, V - S)$ be any cut of $G$ that respects $A$, and let $(u, v)$ be a safe edge for $A$ crossing $(S, V - S)$. Then, $(u, v)$ is a light edge for the cut. Show that the professor's conjecture is incorrect by giving a counterexample."
   ]
  },
  {
   "cell_type": "markdown",
   "metadata": {},
   "source": [
    "Not light."
   ]
  },
  {
   "cell_type": "markdown",
   "metadata": {},
   "source": [
    "### 23.1-3\n",
    "\n",
    "> Show that if an edge $(u, v)$ is contained in some minimum spanning tree, then it is a light edge crossing some cut of the graph."
   ]
  },
  {
   "cell_type": "markdown",
   "metadata": {},
   "source": [
    "$(u, v)$ is a bridge in the minimum spanning tree, thus $V$ can be divided into two components."
   ]
  },
  {
   "cell_type": "markdown",
   "metadata": {},
   "source": [
    "### 23.1-4\n",
    "\n",
    "> Give a simple example of a connected graph such that the set of edges $\\{(u, v):$ there exists a cut $(S, V - S)$ such that $(u, v)$ is a light edge crossing $(S, V - S)\\}$ does not form a minimum spanning tree."
   ]
  },
  {
   "cell_type": "markdown",
   "metadata": {},
   "source": [
    "$E = \\{(u, v), (v, w), (w, u)\\}$ with the same weight."
   ]
  },
  {
   "cell_type": "markdown",
   "metadata": {},
   "source": [
    "### 23.1-5\n",
    "\n",
    "> Let $e$ be a maximum-weight edge on some cycle of connected graph $G = (V, E)$. Prove that there is a minimum spanning tree of $G' = (V, E - \\{e\\})$ that is also a minimum spanning tree of $G$. That is, there is a minimum spanning tree of $G$ that does not include $e$."
   ]
  },
  {
   "cell_type": "markdown",
   "metadata": {},
   "source": [
    "The edges in the cycle are lighter than the maximum-weight edge."
   ]
  },
  {
   "cell_type": "markdown",
   "metadata": {},
   "source": [
    "### 23.1-6\n",
    "\n",
    "> Show that a graph has a unique minimum spanning tree if, for every cut of the graph, there is a unique light edge crossing the cut. Show that the converse is not true by giving a counterexample."
   ]
  },
  {
   "cell_type": "markdown",
   "metadata": {},
   "source": [
    "Counterexample: $E = \\{(u, v), (u, w)\\}$ with the same weight."
   ]
  },
  {
   "cell_type": "markdown",
   "metadata": {},
   "source": [
    "### 23.1-7\n",
    "\n",
    "> Argue that if all edge weights of a graph are positive, then any subset of edges that connects all vertices and has minimum total weight must be a tree. Give an example to show that the same conclusion does not follow if we allow some weights to be nonpositive."
   ]
  },
  {
   "cell_type": "markdown",
   "metadata": {},
   "source": [
    "Not a tree: remove one edge from the cycle.\n",
    "\n",
    "Nonpositive: $E = \\{(u, v), (v, w), (w, u)\\}$ with the same weight -1."
   ]
  },
  {
   "cell_type": "markdown",
   "metadata": {},
   "source": [
    "### 23.1-8\n",
    "\n",
    "> Let $T$ be a minimum spanning tree of a graph $G$, and let $L$ be the sorted list of the edge weights of $T$. Show that for any other minimum spanning tree $T'$ of $G$, the list $L$ is also the sorted list of edge weights of $T'$."
   ]
  },
  {
   "cell_type": "markdown",
   "metadata": {},
   "source": [
    "$\\dots$"
   ]
  },
  {
   "cell_type": "markdown",
   "metadata": {},
   "source": [
    "### 23.1-9\n",
    "\n",
    "> Let $T$ be a minimum spanning tree of a graph $G = (V, E)$, and let $V'$ be a subset of $V$. Let $T'$ be the subgraph of $T$ induced by $V'$, and let $G'$ be the subgraph of $G$ induced by $V'$. Show that if $T'$ is connected, then $T'$ is a minimum spanning tree of $G'$."
   ]
  },
  {
   "cell_type": "markdown",
   "metadata": {},
   "source": [
    "Cut $V'$."
   ]
  },
  {
   "cell_type": "markdown",
   "metadata": {},
   "source": [
    "### 23.1-10\n",
    "\n",
    "> Given a graph $G$ and a minimum spanning tree $T$, suppose that we decrease the weight of one of the edges in $T$. Show that $T$ is still a minimum spanning tree for $G$. More formally, let $T$ be a minimum spanning tree for $G$ with edge weights given by weight function $w$. Choose one edge $(x, y) \\in T$ and a positive number $k$, and define the weight function $w'$ by\n",
    "\n",
    "> $$\n",
    "w'(u, v) = \\left \\{\n",
    "\\begin{array}{ll}\n",
    "w(u, v) & \\text{if}~(u, v) \\ne (x, y), \\\\\n",
    "w(x, y) - k & \\text{if}~(u, v) = (x, y).\n",
    "\\end{array}\n",
    "\\right .\n",
    "$$\n",
    "\n",
    "> Show that $T$ is a minimum spanning tree for $G$ with edge weights given by $w'$."
   ]
  },
  {
   "cell_type": "markdown",
   "metadata": {},
   "source": [
    "Lighter."
   ]
  },
  {
   "cell_type": "markdown",
   "metadata": {},
   "source": [
    "### 23.1-11 $\\star$\n",
    "\n",
    "> Given a graph $G$ and a minimum spanning tree $T$, suppose that we decrease the weight of one of the edges not in $T$. Give an algorithm for finding the minimum spanning tree in the modified graph."
   ]
  },
  {
   "cell_type": "markdown",
   "metadata": {},
   "source": [
    "If the edge $(u, v)$ is not in $T$ and its weight is less than some edge in the path from $u$ to $v$, then replace the edge with maximum weight in the path with $(u, v)$."
   ]
  },
  {
   "cell_type": "markdown",
   "metadata": {},
   "source": [
    " ###  Hw \n",
    "\n",
    "Kruskal's Algorithm \n"
   ]
  },
  {
   "cell_type": "code",
   "execution_count": 1,
   "metadata": {},
   "outputs": [],
   "source": [
    "# node로 구현 \n",
    "class node: \n",
    "    \n",
    "    def __init__ (self, name):\n",
    "        self.name = name\n",
    "        self.d = 0 \n",
    "        self.f = 0\n",
    "        self.pi = 0  \n",
    "        self.color = 'unknown'\n",
    "        self.edge = {}\n",
    "        \n",
    "class Graph: \n",
    "    \n",
    "    time = 0\n",
    "    \n",
    "    def __init__(self, graph_dict=None, w = None):\n",
    "        if graph_dict == None:\n",
    "            graph_dict = {}\n",
    "        self.graph_dict = graph_dict\n",
    "        \n",
    "        # node object로 list 만듦\n",
    "        self.nodes = []\n",
    "        for n in list(self.graph_dict.keys()):\n",
    "            self.nodes.append(node(n))\n",
    "        \n",
    "        # node object로 dictionary 만듦\n",
    "        self.nm = {}\n",
    "        for k in range(len(list(self.graph_dict.keys()))):\n",
    "            self.nm[self.nodes[k].name] = self.nodes[k]\n",
    "        \n",
    "        # edge 를 w 에 의해 부여 \n",
    "        for j in range(len(list(self.graph_dict.keys()))):  # j vertex\n",
    "            for i in self.graph_dict[self.nodes[j].name]:      # i edge \n",
    "                self.nodes[j].edge[i] = w[self.nodes[j].name][i]             # allocate weight \n",
    "        "
   ]
  },
  {
   "cell_type": "code",
   "execution_count": 2,
   "metadata": {},
   "outputs": [],
   "source": [
    "class Treenode:\n",
    "    def __init__(self, nodename = 'unkown'):\n",
    "        self.d = 0\n",
    "        self.p = self\n",
    "        self.rank = 0\n",
    "        self.name =  nodename\n",
    "        \n",
    "class DisjointSetForest:\n",
    "\n",
    "    def make_set(self, x):\n",
    "        x.p = x\n",
    "        x.rank = 0\n",
    "      \n",
    "    def union(self, x, y):\n",
    "        self.link(self.find_set(x), self.find_set(y))  \n",
    "\n",
    "    def link(self, x, y):\n",
    "        if x.rank > y.rank: # y 의 rank 가 x 보다 작으면, x를 y.p로 한다 (x가 representative가 됨)  \n",
    "            y.p = x \n",
    "        else:               # y 의 rank 가  x 보다 같거나 크면, y를 x.p 로 한다. (y를 representative 로 하고, y rank만 1증가) \n",
    "            x.p = y\n",
    "            if x.rank == y.rank:  \n",
    "                y.rank = y.rank + 1 \n",
    "                \n",
    "    def find_set(self, x):\n",
    "        if x != x.p:\n",
    "            x.p  = self.find_set(x.p)\n",
    "        return x.p"
   ]
  },
  {
   "cell_type": "code",
   "execution_count": 3,
   "metadata": {},
   "outputs": [],
   "source": [
    "import operator\n",
    "\n",
    "def sort_edge(G):\n",
    "   \n",
    "    temp = []\n",
    "    \n",
    "    for v in list(G.graph_dict.keys()):\n",
    "        for i in list(G.nm[v].edge):\n",
    "            temp.append((v,i,G.nm[v].edge[i]))\n",
    "\n",
    "    t = sorted(temp, key = operator.itemgetter(2), reverse = False)\n",
    "    print(t)\n",
    "\n",
    "    srt = []\n",
    "    for m in range(len(t)): \n",
    "         srt.append([t[m][0],t[m][1]])\n",
    "    \n",
    "    print(srt,\"sort 이후 edge\")\n",
    "    return srt"
   ]
  },
  {
   "cell_type": "code",
   "execution_count": 5,
   "metadata": {},
   "outputs": [],
   "source": [
    "def Mst_kruskal(G):\n",
    "    \n",
    "    D = DisjointSetForest()\n",
    "    A = []\n",
    "    tree_dict = {}\n",
    "\n",
    "    for v in list(G.graph_dict.keys()):\n",
    "        tree_dict[v] = Treenode(v)\n",
    "    \n",
    "    for v in list(tree_dict.values()):\n",
    "        D.make_set(v)\n",
    "        \n",
    "    # sort the edge of G.E into nondecreasing order by weight w \n",
    "    srt = sort_edge(G)           \n",
    "    \n",
    "    for [u,v] in srt: \n",
    "        if D.find_set(tree_dict[u]).name != D.find_set(tree_dict[v]).name :\n",
    "            A.append([tree_dict[u].name,tree_dict[v].name])\n",
    "            D.union(tree_dict[u],tree_dict[v])\n",
    "        \n",
    "    return A \n",
    "    "
   ]
  },
  {
   "cell_type": "code",
   "execution_count": 6,
   "metadata": {},
   "outputs": [
    {
     "name": "stdout",
     "output_type": "stream",
     "text": [
      "{'i': 2, 'f': 4, 'd': 7, 'b': 8}\n",
      "{'g': 2, 'd': 14, 'c': 4, 'e': 10}\n",
      "{'d': 9, 'f': 10}\n",
      "{'c': 7, 'f': 14, 'e': 9}\n",
      "{'i': 6, 'f': 2, 'h': 1}\n",
      "{'c': 8, 'h': 11, 'a': 4}\n",
      "{'i': 7, 'g': 1, 'a': 8, 'b': 11}\n",
      "{'c': 2, 'g': 6, 'h': 7}\n",
      "{'h': 8, 'b': 4}\n",
      "[('g', 'h', 1), ('h', 'g', 1), ('c', 'i', 2), ('f', 'g', 2), ('g', 'f', 2), ('i', 'c', 2), ('c', 'f', 4), ('f', 'c', 4), ('b', 'a', 4), ('a', 'b', 4), ('g', 'i', 6), ('i', 'g', 6), ('c', 'd', 7), ('d', 'c', 7), ('h', 'i', 7), ('i', 'h', 7), ('c', 'b', 8), ('b', 'c', 8), ('h', 'a', 8), ('a', 'h', 8), ('e', 'd', 9), ('d', 'e', 9), ('f', 'e', 10), ('e', 'f', 10), ('b', 'h', 11), ('h', 'b', 11), ('f', 'd', 14), ('d', 'f', 14)]\n",
      "[['g', 'h'], ['h', 'g'], ['c', 'i'], ['f', 'g'], ['g', 'f'], ['i', 'c'], ['c', 'f'], ['f', 'c'], ['b', 'a'], ['a', 'b'], ['g', 'i'], ['i', 'g'], ['c', 'd'], ['d', 'c'], ['h', 'i'], ['i', 'h'], ['c', 'b'], ['b', 'c'], ['h', 'a'], ['a', 'h'], ['e', 'd'], ['d', 'e'], ['f', 'e'], ['e', 'f'], ['b', 'h'], ['h', 'b'], ['f', 'd'], ['d', 'f']] sort 이후 edge\n",
      "A의 크기:  8\n",
      "A :  [['g', 'h'], ['c', 'i'], ['f', 'g'], ['c', 'f'], ['b', 'a'], ['c', 'd'], ['c', 'b'], ['e', 'd']]\n"
     ]
    }
   ],
   "source": [
    "g = {'a': set(['b','h']),\n",
    "     'b': set(['a','h','c']),\n",
    "     'c': set(['b', 'i','f','d']),\n",
    "     'd': set(['c','e','f']),\n",
    "     'e': set(['d','f']),\n",
    "     'f': set(['g','c','d','e']),\n",
    "     'g': set(['h','i','f']),\n",
    "     'h': set(['a','b','i','g']),\n",
    "     'i': set(['c','h','g'])}\n",
    "\n",
    "w = {'a': {'b': 4, 'h': 8},\n",
    "     'b': {'a': 4, 'h': 11, 'c': 8},\n",
    "     'c': {'b': 8 , 'i': 2, 'f' : 4 ,'d' : 7},\n",
    "     'd': {'c': 7 ,'e': 9 ,'f': 14 },\n",
    "     'e': {'d': 9 ,'f': 10 },\n",
    "     'f': {'g': 2,'c': 4 ,'d': 14 ,'e': 10 },\n",
    "     'g': {'h': 1 ,'i': 6 ,'f': 2},\n",
    "     'h': {'a': 8 ,'b': 11,'i': 7 ,'g': 1 },\n",
    "     'i': {'c': 2 ,'h': 7,'g': 6}}\n",
    "\n",
    "\n",
    "G = Graph(g,w)\n",
    "\n",
    "for v in list(G.graph_dict.keys()):\n",
    "    print(G.nm[v].edge)\n",
    "    \n",
    "A = Mst_kruskal(G)\n",
    "print(\"A의 크기: \", len(A))\n",
    "print(\"A : \",A)\n"
   ]
  }
 ],
 "metadata": {
  "kernelspec": {
   "display_name": "Python 3",
   "language": "python",
   "name": "python3"
  },
  "language_info": {
   "codemirror_mode": {
    "name": "ipython",
    "version": 3
   },
   "file_extension": ".py",
   "mimetype": "text/x-python",
   "name": "python",
   "nbconvert_exporter": "python",
   "pygments_lexer": "ipython3",
   "version": "3.5.2"
  }
 },
 "nbformat": 4,
 "nbformat_minor": 2
}
