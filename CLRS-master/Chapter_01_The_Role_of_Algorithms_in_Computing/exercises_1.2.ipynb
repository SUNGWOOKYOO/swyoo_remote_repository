{
 "cells": [
  {
   "cell_type": "markdown",
   "metadata": {},
   "source": [
    "## 1.2 Algorithm as a technology"
   ]
  },
  {
   "cell_type": "markdown",
   "metadata": {},
   "source": [
    "### 1.2-1\n",
    "\n",
    "> Give an example of an application that requires algorithmic content at the application level, and discuss the function of the algorithms involved."
   ]
  },
  {
   "cell_type": "markdown",
   "metadata": {},
   "source": [
    "Drive navigation."
   ]
  },
  {
   "cell_type": "markdown",
   "metadata": {},
   "source": [
    "### 1.2-2\n",
    "\n",
    "> Suppose we are comparing implementations of insertion sort and merge sort on the same machine. For inputs of size $n$, insertion sort runs in $8n^2$ steps, while merge sort runs in $64nlgn$ steps. For which values of $n$ does insertion sort beat merge sort?"
   ]
  },
  {
   "cell_type": "markdown",
   "metadata": {},
   "source": [
    "$$8n^2 < 64nlgn$$\n",
    "\n",
    "$$2^n < n^8$$\n",
    "\n",
    "$$n \\le 43$$"
   ]
  },
  {
   "cell_type": "code",
   "execution_count": 24,
   "metadata": {},
   "outputs": [
    {
     "name": "stdout",
     "output_type": "stream",
     "text": [
      "n= 1 일때는 0으로 나눈값이 어서 계산 x\n",
      "n= 2 값, 0.25\n",
      "n= 3 값, 0.23659865758929652\n",
      "n= 4 값, 0.25\n",
      "n= 5 값, 0.26917284879587067\n",
      "n= 6 값, 0.2901396054259062\n",
      "n= 7 값, 0.31168128871951944\n",
      "n= 8 값, 0.3333333333333333\n",
      "n= 9 값, 0.35489798638394476\n",
      "n= 10 값, 0.37628749457997646\n",
      "n= 11 값, 0.39746413618709575\n",
      "n= 12 값, 0.4184144184766947\n",
      "n= 13 값, 0.4391370009443946\n",
      "n= 14 값, 0.4596366863150888\n",
      "n= 15 값, 0.479921296518404\n",
      "n= 16 값, 0.5\n",
      "n= 17 값, 0.5198824020012303\n",
      "n= 18 값, 0.5395780497782958\n",
      "n= 19 값, 0.5590961692457659\n",
      "n= 20 값, 0.5784455328993979\n",
      "n= 21 값, 0.5976344028295016\n",
      "n= 22 값, 0.6166705165983325\n",
      "n= 23 값, 0.6355610971903233\n",
      "n= 24 값, 0.6543128759565946\n",
      "n= 25 값, 0.6729321219896767\n",
      "n= 26 값, 0.6914246740484302\n",
      "n= 27 값, 0.7097959727678895\n",
      "n= 28 값, 0.7280510918677832\n",
      "n= 29 값, 0.7461947676690749\n",
      "n= 30 값, 0.7642314265893981\n",
      "n= 31 값, 0.7821652105056368\n",
      "n= 32 값, 0.8\n",
      "n= 33 값, 0.8177394355785622\n",
      "n= 34 값, 0.835386936989496\n",
      "n= 35 값, 0.8529457207853152\n",
      "n= 36 값, 0.8704188162777187\n",
      "n= 37 값, 0.8878090800303406\n",
      "n= 38 값, 0.9051192090271737\n",
      "n= 39 값, 0.9223517526447415\n",
      "n= 40 값, 0.9395091235455378\n",
      "n= 41 값, 0.9565936075995848\n",
      "n= 42 값, 0.9736073729306867\n",
      "n= 43 값, 0.9905524781742958\n",
      "n= 44 값, 1.007430880024985\n",
      "n= 45 값, 1.0242444401434028\n"
     ]
    }
   ],
   "source": [
    "import math\n",
    "print ('n= 1 일때는 0으로 나눈값이 어서 계산 x')\n",
    "for n in range(2,46):\n",
    "    print('n=',n ,'값,', 8*pow(n,2)/(64*n*math.log(n,2)))"
   ]
  },
  {
   "cell_type": "markdown",
   "metadata": {},
   "source": [
    "### 1.2-3\n",
    "\n",
    "> What is the smallest value of n such that an algorithm whose running time is $100n^2$ runs faster than an algorithm whose running time is $2^n$ on the same machine?"
   ]
  },
  {
   "cell_type": "markdown",
   "metadata": {},
   "source": [
    "$$100n^2 < 2^n$$\n",
    "\n",
    "$$n \\ge 15$$"
   ]
  },
  {
   "cell_type": "code",
   "execution_count": 25,
   "metadata": {},
   "outputs": [
    {
     "name": "stdout",
     "output_type": "stream",
     "text": [
      "n= 1 값, 50.0\n",
      "n= 2 값, 100.0\n",
      "n= 3 값, 112.5\n",
      "n= 4 값, 100.0\n",
      "n= 5 값, 78.125\n",
      "n= 6 값, 56.25\n",
      "n= 7 값, 38.28125\n",
      "n= 8 값, 25.0\n",
      "n= 9 값, 15.8203125\n",
      "n= 10 값, 9.765625\n",
      "n= 11 값, 5.908203125\n",
      "n= 12 값, 3.515625\n",
      "n= 13 값, 2.06298828125\n",
      "n= 14 값, 1.1962890625\n",
      "n= 15 값, 0.6866455078125\n",
      "n= 16 값, 0.390625\n",
      "n= 17 값, 0.220489501953125\n"
     ]
    }
   ],
   "source": [
    "import math\n",
    "for n in range(1,18):\n",
    "    print('n=',n ,'값,', 100*pow(n,2)/pow(2,n))"
   ]
  },
  {
   "cell_type": "code",
   "execution_count": null,
   "metadata": {
    "collapsed": true
   },
   "outputs": [],
   "source": []
  }
 ],
 "metadata": {
  "kernelspec": {
   "display_name": "Python 3",
   "language": "python",
   "name": "python3"
  },
  "language_info": {
   "codemirror_mode": {
    "name": "ipython",
    "version": 3
   },
   "file_extension": ".py",
   "mimetype": "text/x-python",
   "name": "python",
   "nbconvert_exporter": "python",
   "pygments_lexer": "ipython3",
   "version": "3.5.3"
  }
 },
 "nbformat": 4,
 "nbformat_minor": 2
}
