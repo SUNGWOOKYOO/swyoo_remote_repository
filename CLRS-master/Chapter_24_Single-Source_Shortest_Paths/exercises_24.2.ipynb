{
 "cells": [
  {
   "cell_type": "markdown",
   "metadata": {},
   "source": [
    "## 24.2 Single-source shortest paths in directed acyclic graphs"
   ]
  },
  {
   "cell_type": "markdown",
   "metadata": {},
   "source": [
    "### 24.2-1\n",
    "\n",
    "> Run DAG-SHORTEST-PATHS on the directed graph of Figure 24.5, using vertex $r$ as the source."
   ]
  },
  {
   "cell_type": "markdown",
   "metadata": {},
   "source": [
    "|\\|$r$|$s$|$t$|$x$|$y$|$z$|\n",
    "|:-:|:-:|:-:|:-:|:-:|:-:|:-:|\n",
    "|$d$|0|5|3|10|7|5|\n",
    "|$\\pi$|NIL|$r$|$r$|$t$|$t$|$t$|"
   ]
  },
  {
   "cell_type": "markdown",
   "metadata": {},
   "source": [
    "### 24.2-2\n",
    "\n",
    "> Suppose we change line 3 of DAG-SHORTEST-PATHS to read \n",
    "> \n",
    "> 3  __for__ the first $|V| - 1$ vertices, taken in topologically sorted order\n",
    "> \n",
    "> Show that the procedure would remain correct."
   ]
  },
  {
   "cell_type": "markdown",
   "metadata": {},
   "source": [
    "The out-degree of the last vertex is 0."
   ]
  },
  {
   "cell_type": "markdown",
   "metadata": {},
   "source": [
    "### 24.2-3\n",
    "\n",
    "> The PERT chart formulation given above is somewhat unnatural. In a more natural structure, vertices would represent jobs and edges would represent sequencing constraints; that is, edge $(u, v)$ would indicate that job $u$ must be performed before job $v$. We would then assign weights to vertices, not edges. Modify the DAG-SHORTEST- PATHS procedure so that it finds a longest path in a directed acyclic graph with weighted vertices in linear time."
   ]
  },
  {
   "cell_type": "markdown",
   "metadata": {},
   "source": [
    "$s.d = s.w$, $w(u, v) = v.w$."
   ]
  },
  {
   "cell_type": "markdown",
   "metadata": {},
   "source": [
    "### 24.2-4\n",
    "\n",
    "> Give an efficient algorithm to count the total number of paths in a directed acyclic graph. Analyze your algorithm."
   ]
  },
  {
   "cell_type": "markdown",
   "metadata": {},
   "source": [
    "$s.num = 1$, $v.num = \\sum_{(u, v) \\in E} u.num$.\n",
    "\n",
    "Time: $\\Theta(V + E)$."
   ]
  },
  {
   "cell_type": "markdown",
   "metadata": {},
   "source": [
    "# Hw\n",
    "\n",
    "### BellmanFord Algorithm \n",
    "\n",
    "기본가정: no negative weight cycle \n",
    "\n",
    "running time: \n",
    "T = O(|V||E|)"
   ]
  },
  {
   "cell_type": "code",
   "execution_count": 5,
   "metadata": {},
   "outputs": [],
   "source": [
    "# node로 구현 \n",
    "class node: \n",
    "    \n",
    "    def __init__(self, name):\n",
    "        self.name = name\n",
    "        self.d = 0 \n",
    "        self.f = 0\n",
    "        self.pi = 0  \n",
    "        self.key = 0\n",
    "        self.color = 'unknown'\n",
    "        self.edge = {}\n",
    "        \n",
    "class Graph: \n",
    "    \n",
    "    time = 0\n",
    "    \n",
    "    def __init__(self, graph_dict=None, w = None):\n",
    "        if graph_dict == None:\n",
    "            graph_dict = {}\n",
    "        self.graph_dict = graph_dict\n",
    "        \n",
    "        # node object로 list 만듦\n",
    "        self.nodes = []\n",
    "        for n in list(self.graph_dict.keys()):\n",
    "            self.nodes.append(node(n))\n",
    "        \n",
    "        # node object로 dictionary 만듦\n",
    "        self.nm = {}\n",
    "        for k in range(len(list(self.graph_dict.keys()))):\n",
    "            self.nm[self.nodes[k].name] = self.nodes[k]\n",
    "        \n",
    "        # edge 를 w 에 의해 부여 \n",
    "        for j in range(len(list(self.graph_dict.keys()))):  # j vertex\n",
    "            for i in self.graph_dict[self.nodes[j].name]:      # i edge \n",
    "                self.nodes[j].edge[i] = w[self.nodes[j].name][i]             # allocate weight \n",
    "                \n",
    "    \n",
    "    # sort the edge of G.E into nondecreasing order by weight w \n",
    "    def sort_edge(self):\n",
    "        import operator\n",
    "        temp = []\n",
    "    \n",
    "        for v in list(self.graph_dict.keys()):\n",
    "            for i in list(self.nm[v].edge):\n",
    "                temp.append((v,i,self.nm[v].edge[i]))\n",
    "\n",
    "        t = sorted(temp, key = operator.itemgetter(2), reverse = False)\n",
    "        #print(t)\n",
    "\n",
    "        srt = []\n",
    "        for m in range(len(t)): \n",
    "            srt.append([t[m][0],t[m][1]])\n",
    "        #print(srt,\"sort 이후 edge\")\n",
    "        return srt            \n",
    "                \n",
    "    \n",
    "    \n",
    "    \"\"\" single src shortest path operation \"\"\"\n",
    "    def initialize_single_source(self,s):\n",
    "        for v in list(self.graph_dict.keys()):\n",
    "            self.nm[v].d = float('inf')\n",
    "            self.nm[v].pi = None\n",
    "        self.nm[s].d = 0\n",
    "        # T = O(V)\n",
    "\n",
    "    def relax(self,u,v):\n",
    "        if self.nm[v].d > self.nm[u].d + self.nm[u].edge[v]:\n",
    "            self.nm[v].d = self.nm[u].d + self.nm[u].edge[v]\n",
    "            self.nm[v].pi = self.nm[u].name\n",
    "        # T = O(1)\n",
    "        \n",
    "    def showinfo(self):\n",
    "        print(self.graph_dict)\n",
    "        print(\" node dictionary : \")\n",
    "        print(self.nm)\n",
    "        \n",
    "        for v in list(G.graph_dict.keys()):\n",
    "            print(\">> [ \",v, \" node Info] : \")\n",
    "            print(v, \", edge: \", G.nm[v].edge)\n",
    "            print(v, \", pi: \", G.nm[v].pi)\n",
    "            print(v, \", d: \", G.nm[v].d)"
   ]
  },
  {
   "cell_type": "code",
   "execution_count": 8,
   "metadata": {},
   "outputs": [],
   "source": [
    "def BellmanFord(G,s):\n",
    "    srt = G.sort_edge()\n",
    "    \n",
    "    G.initialize_single_source('s')\n",
    "    \n",
    "    \"\"\" Finding the single src shortest parth from s to each vertex\"\"\"\n",
    "    # iteration |V| - 1 \n",
    "    for i in range(len(G.graph_dict.keys())):           # O(V) * \n",
    "        # each edge (u,v) ∈ G.E\n",
    "        for [u,v] in srt:                               # O(E)\n",
    "               G.relax(u,v)           \n",
    "        \n",
    "    # test whether ∃ negative weight cycle \n",
    "    for [u,v] in srt:\n",
    "        if G.nm[v].d > G.nm[u].d + G.nm[u].edge[v]:\n",
    "            return False\n",
    "    \n",
    "    # T = O(|V||E|)\n",
    "    return True\n",
    "            \n",
    "     "
   ]
  },
  {
   "cell_type": "code",
   "execution_count": 14,
   "metadata": {},
   "outputs": [
    {
     "name": "stdout",
     "output_type": "stream",
     "text": [
      "※ BellmanFord Algorithm result :  True\n",
      "{'z': {'s', 'x'}, 's': {'t', 'y'}, 't': {'y', 'z', 'x'}, 'y': {'z', 'x'}, 'x': {'t'}}\n",
      " node dictionary : \n",
      "{'s': <__main__.node object at 0x000000A10B8A1080>, 'x': <__main__.node object at 0x000000A10B8A1208>, 't': <__main__.node object at 0x000000A10B8A1F28>, 'z': <__main__.node object at 0x000000A10B8A18D0>, 'y': <__main__.node object at 0x000000A10B8A15F8>}\n",
      ">> [  z  node Info] : \n",
      "z , edge:  {'s': 2, 'x': 7}\n",
      "z , pi:  t\n",
      "z , d:  -2\n",
      ">> [  s  node Info] : \n",
      "s , edge:  {'t': 6, 'y': 7}\n",
      "s , pi:  None\n",
      "s , d:  0\n",
      ">> [  t  node Info] : \n",
      "t , edge:  {'x': 5, 'y': 8, 'z': -4}\n",
      "t , pi:  x\n",
      "t , d:  2\n",
      ">> [  y  node Info] : \n",
      "y , edge:  {'z': 9, 'x': -3}\n",
      "y , pi:  s\n",
      "y , d:  7\n",
      ">> [  x  node Info] : \n",
      "x , edge:  {'t': -2}\n",
      "x , pi:  y\n",
      "x , d:  4\n"
     ]
    }
   ],
   "source": [
    "vertices = ['s','t','x','y','z']\n",
    "edges = [{'t','y'},{'x','y','z'},{'t'},{'x','z'},{'s','x'}]\n",
    "weights = [{'t': 6, 'y': 7 }, {'x': 5  ,'y': 8 ,'z': -4 }, {'t': -2 }, {'x': -3 ,'z': 9 }, {'s': 2 ,'x': 7 }]\n",
    "g = {}\n",
    "w = {}\n",
    "k = 0\n",
    "for v in (vertices):\n",
    "    g[v] = edges[k]\n",
    "    w[v] = weights[k]  \n",
    "    k = k + 1\n",
    "\n",
    "G = Graph(g,w)\n",
    "print(\"※ BellmanFord Algorithm result : \", BellmanFord(G,'s'))\n",
    "G.showinfo()"
   ]
  }
 ],
 "metadata": {
  "kernelspec": {
   "display_name": "Python 3",
   "language": "python",
   "name": "python3"
  },
  "language_info": {
   "codemirror_mode": {
    "name": "ipython",
    "version": 3
   },
   "file_extension": ".py",
   "mimetype": "text/x-python",
   "name": "python",
   "nbconvert_exporter": "python",
   "pygments_lexer": "ipython3",
   "version": "3.5.2"
  }
 },
 "nbformat": 4,
 "nbformat_minor": 2
}
