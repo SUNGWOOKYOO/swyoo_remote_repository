{
 "cells": [
  {
   "cell_type": "markdown",
   "metadata": {},
   "source": [
    "## 24.3 Dijkstra's algorithm"
   ]
  },
  {
   "cell_type": "markdown",
   "metadata": {},
   "source": [
    "### 24.3-1\n",
    "\n",
    "> Run Dijkstra's algorithm on the directed graph of Figure 24.2, first using vertex $s$ as the source and then using vertex $z$ as the source. In the style of Figure 24.6, show the $d$ and $\\pi$ values and the vertices in set $S$ after each iteration of the __while__ loop."
   ]
  },
  {
   "cell_type": "markdown",
   "metadata": {},
   "source": [
    "### 24.3-2\n",
    "\n",
    "> Give a simple example of a directed graph with negative-weight edges for which Dijkstra's algorithm produces incorrect answers. Why doesn't the proof of Theorem 24.6 go through when negative-weight edges are allowed?"
   ]
  },
  {
   "cell_type": "markdown",
   "metadata": {},
   "source": [
    "### 24.3-3\n",
    "\n",
    "> Suppose we change line 4 of Dijkstra's algorithm to the following. \n",
    "> \n",
    "> 4  __while__ $|Q| > 1$\n",
    "> \n",
    "> This change causes the __while__ loop to execute $|V| - 1$ times instead of $|V|$ times. Is this proposed algorithm correct?"
   ]
  },
  {
   "cell_type": "markdown",
   "metadata": {},
   "source": [
    "Correct."
   ]
  },
  {
   "cell_type": "markdown",
   "metadata": {},
   "source": [
    "### 24.3-4\n",
    "\n",
    "> Professor Gaedel has written a program that he claims implements Dijkstra's algorithm. The program produces $v.d$ and $v.\\pi$ for each vertex $v \\in V$. Give an $O(V + E)$-time algorithm to check the output of the professor's program. It should determine whether the $d$ and $\\pi$ attributes match those of some shortest-paths tree. You may assume that all edge weights are nonnegative."
   ]
  },
  {
   "cell_type": "markdown",
   "metadata": {},
   "source": [
    "Relax on the shortest path tree."
   ]
  },
  {
   "cell_type": "markdown",
   "metadata": {},
   "source": [
    "### 24.3-5\n",
    "\n",
    "> Professor Newman thinks that he has worked out a simpler proof of correctness for Dijkstra's algorithm. He claims that Dijkstra's algorithm relaxes the edges of every shortest path in the graph in the order in which they appear on the path, and therefore the path-relaxation property applies to every vertex reachable from the source. Show that the professor is mistaken by constructing a directed graph for which Dijkstra's algorithm could relax the edges of a shortest path out of order."
   ]
  },
  {
   "cell_type": "markdown",
   "metadata": {},
   "source": [
    "### 24.3-6\n",
    "\n",
    "> We are given a directed graph $G = (V, E)$ on which each edge $(u, v) \\in E$ has an associated value $r(u, v)$, which is a real number in the range $0 \\le r(u, v) \\le 1$ that represents the reliability of a communication channel from vertex $u$ to vertex $v$. We interpret $r(u, v)$ as the probability that the channel from $u$ to $v$ will not fail, and we assume that these probabilities are independent. Give an efficient algorithm to find the most reliable path between two given vertices."
   ]
  },
  {
   "cell_type": "markdown",
   "metadata": {},
   "source": [
    "$w(u, v) = \\lg r(u, v)$."
   ]
  },
  {
   "cell_type": "markdown",
   "metadata": {},
   "source": [
    "### 24.3-7\n",
    "\n",
    "> Let $G = (V, E)$ be a weighted, directed graph with positive weight function $w: E \\rightarrow \\{ 1, 2, \\dots, W \\}$ for some positive integer $W$, and assume that no two vertices have the same shortest-path weights from source vertex $s$. Now suppose that we define an unweighted, directed graph $G' = (V \\cup V', E')$ by replacing each edge $(u, v) \\in E$ with $w(u, v)$ unit-weight edges in series. How many vertices does $G'$ have? Now suppose that we run a breadth-first search on $G'$. Show that the order in which the breadth-first search of $G'$ colors vertices in $V$ black is the same as the order in which Dijkstra's algorithm extracts the vertices of $V$ from the priority queue when it runs on $G$."
   ]
  },
  {
   "cell_type": "markdown",
   "metadata": {},
   "source": [
    "$V + \\sum_{(u, v) \\in E} w(u, v) - E$."
   ]
  },
  {
   "cell_type": "markdown",
   "metadata": {},
   "source": [
    "### 24.3-8\n",
    "\n",
    "> Let $G = (V, E)$ be a weighted, directed graph with nonnegative weight function $w: E \\rightarrow \\{ 0, 1, \\dots, W \\}$ for some nonnegative integer $W$. Modify Dijkstra's algorithm to compute the shortest paths from a given source vertex s in $O(WV + E)$ time."
   ]
  },
  {
   "cell_type": "markdown",
   "metadata": {},
   "source": [
    "Use array to store vertices."
   ]
  },
  {
   "cell_type": "markdown",
   "metadata": {},
   "source": [
    "### 24.3-9\n",
    "\n",
    "> Modify your algorithm from Exercise 24.3-8 to run in $O((V + E) \\lg W)$ time. (Hint: How many distinct shortest-path estimates can there be in $V - S$ at any point in time?)"
   ]
  },
  {
   "cell_type": "markdown",
   "metadata": {},
   "source": [
    "Heap."
   ]
  },
  {
   "cell_type": "markdown",
   "metadata": {},
   "source": [
    "### 24.3-10\n",
    "\n",
    "> Suppose that we are given a weighted, directed graph $G = (V, E)$ in which edges that leave the source vertex $s$ may have negative weights, all other edge weights are nonnegative, and there are no negative-weight cycles. Argue that Dijkstra's algorithm correctly finds shortest paths from $s$ in this graph."
   ]
  },
  {
   "cell_type": "markdown",
   "metadata": {},
   "source": [
    "# Hw \n",
    "\n",
    "### DAG shortest path \n",
    "\n",
    "assumption : DAG 이어야한다. (directed acyclic graph) \n",
    "\n",
    "using :  Topological sort : O(V + E)\n",
    "\n",
    "total running time : O(V + E)\n",
    "\n",
    "DAG Algo 이후, v.pi 에는 path 정보가, v.d 에는 shortest weight 가 입력된다. "
   ]
  },
  {
   "cell_type": "code",
   "execution_count": 1,
   "metadata": {},
   "outputs": [],
   "source": [
    "# node로 구현 \n",
    "class node: \n",
    "    \n",
    "    def __init__(self, name):\n",
    "        self.name = name\n",
    "        self.d = 0 \n",
    "        self.f = 0\n",
    "        self.pi = 0  \n",
    "        self.key = 0\n",
    "        self.color = 'unknown'\n",
    "        self.edge = {}\n",
    "        \n",
    "class Graph: \n",
    "    \n",
    "    time = 0\n",
    "    \n",
    "    def __init__(self, graph_dict=None, w = None):\n",
    "        if graph_dict == None:\n",
    "            graph_dict = {}\n",
    "        self.graph_dict = graph_dict\n",
    "        \n",
    "        # node object로 list 만듦\n",
    "        self.nodes = []\n",
    "        for n in list(self.graph_dict.keys()):\n",
    "            self.nodes.append(node(n))\n",
    "        \n",
    "        # node object로 dictionary 만듦\n",
    "        self.nm = {}\n",
    "        for k in range(len(list(self.graph_dict.keys()))):\n",
    "            self.nm[self.nodes[k].name] = self.nodes[k]\n",
    "        \n",
    "        # edge 를 w 에 의해 부여 \n",
    "        for j in range(len(list(self.graph_dict.keys()))):  # j vertex\n",
    "            for i in self.graph_dict[self.nodes[j].name]:      # i edge \n",
    "                self.nodes[j].edge[i] = w[self.nodes[j].name][i]             # allocate weight \n",
    "                \n",
    "    \n",
    "    # sort the edge of G.E into nondecreasing order by weight w \n",
    "    def sort_edge(self):\n",
    "        import operator\n",
    "        temp = []\n",
    "    \n",
    "        for v in list(self.graph_dict.keys()):\n",
    "            for i in list(self.nm[v].edge):\n",
    "                temp.append((v,i,self.nm[v].edge[i]))\n",
    "\n",
    "        t = sorted(temp, key = operator.itemgetter(2), reverse = False)\n",
    "        #print(t)\n",
    "\n",
    "        srt = []\n",
    "        for m in range(len(t)): \n",
    "            srt.append([t[m][0],t[m][1]])\n",
    "        #print(srt,\"sort 이후 edge\")\n",
    "        return srt            \n",
    "                \n",
    "    \"\"\" DFS Algorithm running time : Θ(|V|+ |E|), 왜냐면, white 인 경우만 DFS_vist을 하므로\"\"\"\n",
    "    # except DFS_vist, T = Θ(|V|)\n",
    "    def DFS(self, a = []): # a = [] 이면 순서를 dict.keys() 순으로, o.w list (a)  순으로 searching \n",
    "    \n",
    "        # running time O(V + E)\n",
    "    \n",
    "        for u in list(self.graph_dict.keys()):   \n",
    "            self.nm[u].color = 'white'\n",
    "            self.nm[u].pi = None\n",
    "        \n",
    "        self.time = 0\n",
    "    \n",
    "        #print(\"Debug sorting \", a)\n",
    "        if a == []:\n",
    "            #print(self.graph_dict.keys(),\" 순으로 searching 하게 된다.\")\n",
    "            for u in list(self.graph_dict.keys()): \n",
    "                if self.nm[u].color == 'white':\n",
    "                    self.DFS_visit(u)\n",
    "        else:\n",
    "            #print(a,\" 순으로 searching 하게 된다.\")\n",
    "            for u in a: \n",
    "                if self.nm[u].color == 'white':\n",
    "                    self.DFS_visit(u)\n",
    "    \n",
    "    \n",
    "    # each DFS_vist, T = Θ(|V|)    \n",
    "    def DFS_visit(self,u):\n",
    "        self.time  = self.time + 1 \n",
    "        self.nm[u].d = self.time \n",
    "        self.nm[u].color = 'gray'\n",
    "    \n",
    "        #print(G.graph_dict[u] ,\" 순으로 vertex\", u, \" 의 adjoint list를 searching 하게 된다.\")\n",
    "        for v in list(self.graph_dict[u]):\n",
    "            if self.nm[v].color == 'white':\n",
    "                self.nm[v].pi  = u\n",
    "                self.DFS_visit(v)\n",
    "        self.nm[u].color = 'black'\n",
    "        self.time = self.time + 1 \n",
    "        self.nm[u].f = self.time    \n",
    "    \n",
    "\n",
    "    # graph 에서 모든 edge들의 우선순위를 지켜주는 linear ordering 을 찾아 주었다. \n",
    "    # DAG(directed Acyclic graph) 에서 사용 \n",
    "    def Topological_sort(self,l = []):\n",
    "        import operator\n",
    "        print(\"Topological_sort사용\")\n",
    "        self.DFS(l)\n",
    "    \n",
    "        # node object로 dictionary 만듦a\n",
    "        topo = {}\n",
    "        for k in range(len(list(self.graph_dict.keys()))):\n",
    "            topo[self.nodes[k].name] = self.nodes[k].f\n",
    "    \n",
    "        temp = sorted(topo.items(), key = operator.itemgetter(1), reverse = True)\n",
    "    \n",
    "        srt = []\n",
    "        for m in range(0,len(temp)):\n",
    "            srt.append(temp[m][0])    \n",
    "        print(srt, \"Topological sort 결과 \")\n",
    "        return srt \n",
    "    \n",
    "    \"\"\" single src shortest path operation \"\"\"\n",
    "    def initialize_single_source(self,s):\n",
    "        for v in list(self.graph_dict.keys()):\n",
    "            self.nm[v].d = float('inf')\n",
    "            self.nm[v].pi = None\n",
    "        self.nm[s].d = 0\n",
    "        # T = O(V)\n",
    "\n",
    "    def relax(self,u,v):\n",
    "        if self.nm[v].d > self.nm[u].d + self.nm[u].edge[v]:\n",
    "            self.nm[v].d = self.nm[u].d + self.nm[u].edge[v]\n",
    "            self.nm[v].pi = self.nm[u].name\n",
    "        # T = O(1)\n",
    "        \n",
    "    def showinfo(self):\n",
    "        print(self.graph_dict)\n",
    "        print(\" node dictionary : \")\n",
    "        print(self.nm)\n",
    "        \n",
    "        for v in list(G.graph_dict.keys()):\n",
    "            print(\">> [ \",v, \" node Info] : \")\n",
    "            print(v, \", edge: \", G.nm[v].edge)\n",
    "            print(v, \", pi: \", G.nm[v].pi)\n",
    "            print(v, \", d: \", G.nm[v].d)"
   ]
  },
  {
   "cell_type": "code",
   "execution_count": 2,
   "metadata": {},
   "outputs": [],
   "source": [
    "def DAG_shortest_paths(G,s):\n",
    "    topo = G.Topological_sort()         # O(V + E)\n",
    "    G.initialize_single_source(s)       # O(V)    \n",
    "    for u in topo:\n",
    "        # each v ∈ G.adj[u]\n",
    "        for v in list(G.graph_dict[u]): # O(E) \n",
    "            G.relax(u,v)\n",
    "    # running time: O(V + E)"
   ]
  },
  {
   "cell_type": "code",
   "execution_count": 3,
   "metadata": {},
   "outputs": [
    {
     "name": "stdout",
     "output_type": "stream",
     "text": [
      "{'x': {'y', 'z'}, 'r': {'s', 't'}, 's': {'x', 't'}, 'y': {'z'}, 't': {'x', 'y', 'z'}, 'z': {}}\n",
      "{'x': {'y': -1, 'z': 1}, 'r': {'s': 5, 't': 3}, 's': {'x': 6, 't': 2}, 'y': {'z': -2}, 't': {'x': 7, 'y': 4, 'z': 2}, 'z': {}}\n"
     ]
    }
   ],
   "source": [
    "vertices = ['r','s','t','x','y','z']\n",
    "edges = [{'t','s'},{'x','t'},{'x','y','z'},{'y','z'},{'z'},{}]\n",
    "weights = [{'t':3,'s':5},{'x':6,'t':2},{'x':7,'y':4,'z':2},{'y':-1,'z':1},{'z':-2},{}]\n",
    "g = {}\n",
    "w = {}\n",
    "k = 0\n",
    "for v in (vertices):\n",
    "    g[v] = edges[k]\n",
    "    w[v] = weights[k]  \n",
    "    k = k + 1\n",
    "print(g)\n",
    "print(w)\n",
    "G = Graph(g,w)\n"
   ]
  },
  {
   "cell_type": "code",
   "execution_count": 4,
   "metadata": {},
   "outputs": [
    {
     "name": "stdout",
     "output_type": "stream",
     "text": [
      "Topological_sort사용\n",
      "['r', 's', 't', 'x', 'y', 'z'] Topological sort 결과 \n",
      "{'x': {'y', 'z'}, 'r': {'s', 't'}, 's': {'x', 't'}, 'y': {'z'}, 't': {'x', 'y', 'z'}, 'z': {}}\n",
      " node dictionary : \n",
      "{'x': <__main__.node object at 0x0000002144945AC8>, 'r': <__main__.node object at 0x0000002144945B00>, 's': <__main__.node object at 0x0000002144945B38>, 'y': <__main__.node object at 0x0000002144945B70>, 't': <__main__.node object at 0x0000002144945BA8>, 'z': <__main__.node object at 0x0000002144945BE0>}\n",
      ">> [  x  node Info] : \n",
      "x , edge:  {'y': -1, 'z': 1}\n",
      "x , pi:  s\n",
      "x , d:  6\n",
      ">> [  r  node Info] : \n",
      "r , edge:  {'s': 5, 't': 3}\n",
      "r , pi:  None\n",
      "r , d:  inf\n",
      ">> [  s  node Info] : \n",
      "s , edge:  {'x': 6, 't': 2}\n",
      "s , pi:  None\n",
      "s , d:  0\n",
      ">> [  y  node Info] : \n",
      "y , edge:  {'z': -2}\n",
      "y , pi:  x\n",
      "y , d:  5\n",
      ">> [  t  node Info] : \n",
      "t , edge:  {'x': 7, 'y': 4, 'z': 2}\n",
      "t , pi:  s\n",
      "t , d:  2\n",
      ">> [  z  node Info] : \n",
      "z , edge:  {}\n",
      "z , pi:  y\n",
      "z , d:  3\n"
     ]
    }
   ],
   "source": [
    "DAG_shortest_paths(G,'s')\n",
    "G.showinfo()"
   ]
  }
 ],
 "metadata": {
  "kernelspec": {
   "display_name": "Python 3",
   "language": "python",
   "name": "python3"
  },
  "language_info": {
   "codemirror_mode": {
    "name": "ipython",
    "version": 3
   },
   "file_extension": ".py",
   "mimetype": "text/x-python",
   "name": "python",
   "nbconvert_exporter": "python",
   "pygments_lexer": "ipython3",
   "version": "3.5.2"
  }
 },
 "nbformat": 4,
 "nbformat_minor": 2
}
