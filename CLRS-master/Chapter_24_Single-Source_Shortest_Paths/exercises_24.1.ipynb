{
 "cells": [
  {
   "cell_type": "markdown",
   "metadata": {},
   "source": [
    "## 24.1 The Bellman-Ford algorithm"
   ]
  },
  {
   "cell_type": "markdown",
   "metadata": {},
   "source": [
    "### 24.1-1\n",
    "\n",
    "> Run the Bellman-Ford algorithm on the directed graph of Figure 24.4, using vertex $z$ as the source. In each pass, relax edges in the same order as in the figure, and show the $d$ and $\\pi$ values after each pass. Now, change the weight of edge $(z,x)$ to 4 and run the algorithm again, using $s$ as the source."
   ]
  },
  {
   "cell_type": "markdown",
   "metadata": {},
   "source": [
    "| \\ | $s$ | $t$ | $x$ | $y$ | $z$ |\n",
    "|:-:|:-:|:-:|:-:|:-:|:-:|\n",
    "|$d$|2|4|6|9|0|\n",
    "|$\\pi$|$z$|$x$|$y$|$s$|NIL|\n",
    "\n",
    "| \\ | $s$ | $t$ | $x$ | $y$ | $z$ |\n",
    "|:-:|:-:|:-:|:-:|:-:|:-:|\n",
    "|$d$|0|0|2|7|-2|\n",
    "|$\\pi$|NIL|$x$|$z$|$s$|$t$|"
   ]
  },
  {
   "cell_type": "markdown",
   "metadata": {},
   "source": [
    "### 24.1-2\n",
    "\n",
    "> Prove Corollary 24.3."
   ]
  },
  {
   "cell_type": "markdown",
   "metadata": {},
   "source": [
    "No path property."
   ]
  },
  {
   "cell_type": "markdown",
   "metadata": {},
   "source": [
    "### 24.1-3\n",
    "\n",
    "> Given a weighted, directed graph $G = (V, E)$ with no negative-weight cycles, let $m$ be the maximum over all vertices $v \\in V$ of the minimum number of edges in a shortest path from the source $s$ to $v$. (Here, the shortest path is by weight, not the number of edges.) Suggest a simple change to the Bellman-Ford algorithm that allows it to terminate in $m + 1$ passes, even if $m$ is not known in advance."
   ]
  },
  {
   "cell_type": "markdown",
   "metadata": {},
   "source": [
    "Stop when no vertex is relaxed in a single loop."
   ]
  },
  {
   "cell_type": "markdown",
   "metadata": {},
   "source": [
    "### 24.1-4\n",
    "\n",
    "> Modify the Bellman-Ford algorithm so that it sets $v.d$ to $-\\infty$ for all vertices $v$ for which there is a negative-weight cycle on some path from the source to $v$."
   ]
  },
  {
   "cell_type": "markdown",
   "metadata": {},
   "source": [
    "```\n",
    "if v.d > u.d + w(u, v)\n",
    "     v.d = -inf\n",
    "```"
   ]
  },
  {
   "cell_type": "markdown",
   "metadata": {},
   "source": [
    "### 24.1-5 $\\star$\n",
    "\n",
    "> Let $G = (V, E)$ be a weighted, directed graph with weight function $w : E \\rightarrow \\mathbb{R}$. Give an $O(VE)$-time algorithm to find, for each vertex $v \\in V$, the value $\\delta^*(v)=\\min_{u \\in V} \\{ \\delta(u, v) \\}$."
   ]
  },
  {
   "cell_type": "markdown",
   "metadata": {},
   "source": [
    "```\n",
    "RELAX(u, v, w)\n",
    "1 if v.d > min(w(u, v), w(u, v) + u.d)\n",
    "2      v.d > min(w(u, v), w(u, v) + u.d)\n",
    "3      v.pi = u.pi\n",
    "```"
   ]
  },
  {
   "cell_type": "markdown",
   "metadata": {},
   "source": [
    "### 24.1-6 $\\star$\n",
    "\n",
    "> Suppose that a weighted, directed graph $G = (V, E)$ has a negative-weight cycle. Give an efficient algorithm to list the vertices of one such cycle. Prove that your algorithm is correct."
   ]
  },
  {
   "cell_type": "markdown",
   "metadata": {},
   "source": [
    "Based on exercise 24.1-4, DFS from a vertex $u$ that $u.d = -\\infty$, if the weight sum on the search path is negative and the next vertex is BLACK, then the search path forms a negative-weight cycle."
   ]
  },
  {
   "cell_type": "markdown",
   "metadata": {},
   "source": [
    "# Hw \n",
    "\n",
    "relaxation "
   ]
  },
  {
   "cell_type": "code",
   "execution_count": 39,
   "metadata": {},
   "outputs": [],
   "source": [
    "# node로 구현 \n",
    "class node: \n",
    "    \n",
    "    def __init__(self, name):\n",
    "        self.name = name\n",
    "        self.d = 0 \n",
    "        self.f = 0\n",
    "        self.pi = 0  \n",
    "        self.key = 0\n",
    "        self.color = 'unknown'\n",
    "        self.edge = {}\n",
    "        \n",
    "class Graph: \n",
    "    \n",
    "    time = 0\n",
    "    \n",
    "    def __init__(self, graph_dict=None, w = None):\n",
    "        if graph_dict == None:\n",
    "            graph_dict = {}\n",
    "        self.graph_dict = graph_dict\n",
    "        \n",
    "        # node object로 list 만듦\n",
    "        self.nodes = []\n",
    "        for n in list(self.graph_dict.keys()):\n",
    "            self.nodes.append(node(n))\n",
    "        \n",
    "        # node object로 dictionary 만듦\n",
    "        self.nm = {}\n",
    "        for k in range(len(list(self.graph_dict.keys()))):\n",
    "            self.nm[self.nodes[k].name] = self.nodes[k]\n",
    "        \n",
    "        # edge 를 w 에 의해 부여 \n",
    "        for j in range(len(list(self.graph_dict.keys()))):  # j vertex\n",
    "            for i in self.graph_dict[self.nodes[j].name]:      # i edge \n",
    "                self.nodes[j].edge[i] = w[self.nodes[j].name][i]             # allocate weight \n",
    "    \n",
    "    \"\"\" single src shortest path operation \"\"\"\n",
    "    def initialize_single_source(self,s):\n",
    "        for v in list(self.graph_dict.keys()):\n",
    "            self.nm[v].d = float('inf')\n",
    "            self.nm[v].pi = None\n",
    "        self.nm[s].d = 0\n",
    "        # T = O(V)\n",
    "\n",
    "    def relax(self,u,v):\n",
    "        if self.nm[v].d > self.nm[u].d + self.nm[u].edge[v]:\n",
    "            self.nm[v].d = self.nm[u].d + self.nm[u].edge[v]\n",
    "            self.nm[v].pi = self.nm[u].name\n",
    "        # T = O(1)\n",
    "        \n",
    "    def showinfo(self):\n",
    "        print(self.graph_dict)\n",
    "        print(\" node dictionary : \")\n",
    "        print(self.nm)\n",
    "        \n",
    "        for v in list(G.graph_dict.keys()):\n",
    "            print(\">> [ \",v, \" node Info] : \")\n",
    "            print(v, \", edge: \", G.nm[v].edge)\n",
    "            print(v, \", pi: \", G.nm[v].pi)\n",
    "            print(v, \", d: \", G.nm[v].d)"
   ]
  },
  {
   "cell_type": "code",
   "execution_count": 36,
   "metadata": {},
   "outputs": [
    {
     "name": "stdout",
     "output_type": "stream",
     "text": [
      "{'z': {'s', 'x'}, 's': {'y', 't'}, 'y': {'z', 'x'}, 't': {'z', 'y', 'x'}, 'x': {'t'}}\n",
      "{'z': {'s': 2, 'x': 7}, 's': {'y': 7, 't': 6}, 'y': {'z': 9, 'x': -3}, 't': {'z': -4, 'y': 8, 'x': 5}, 'x': {'t': -2}}\n"
     ]
    }
   ],
   "source": [
    "vertices = ['s','t','x','y','z']\n",
    "edges = [{'t','y'},{'x','y','z'},{'t'},{'x','z'},{'s','x'}]\n",
    "weights = [{'t': 6, 'y': 7 }, {'x': 5  ,'y': 8 ,'z': -4 }, {'t': -2 }, {'x': -3 ,'z': 9 }, {'s': 2 ,'x': 7 }]\n",
    "g = {}\n",
    "w = {}\n",
    "k = 0\n",
    "for v in (vertices):\n",
    "    g[v] = edges[k]\n",
    "    w[v] = weights[k]  \n",
    "    k = k + 1\n",
    "print(g)\n",
    "print(w)"
   ]
  },
  {
   "cell_type": "code",
   "execution_count": 38,
   "metadata": {},
   "outputs": [
    {
     "name": "stdout",
     "output_type": "stream",
     "text": [
      "{'z': {'s', 'x'}, 's': {'y', 't'}, 'y': {'z', 'x'}, 't': {'z', 'y', 'x'}, 'x': {'t'}}\n",
      " node dictionary : \n",
      "{'y': <__main__.node object at 0x000000B2BE070518>, 's': <__main__.node object at 0x000000B2BE070978>, 'z': <__main__.node object at 0x000000B2BE070438>, 't': <__main__.node object at 0x000000B2BE070F60>, 'x': <__main__.node object at 0x000000B2BE070358>}\n",
      ">> [  z  node Info] : \n",
      "z , edge:  {'s': 2, 'x': 7}\n",
      "z , pi:  None\n",
      "z , d:  inf\n",
      ">> [  s  node Info] : \n",
      "s , edge:  {'y': 7, 't': 6}\n",
      "s , pi:  None\n",
      "s , d:  0\n",
      ">> [  y  node Info] : \n",
      "y , edge:  {'z': 9, 'x': -3}\n",
      "y , pi:  None\n",
      "y , d:  inf\n",
      ">> [  t  node Info] : \n",
      "t , edge:  {'y': 8, 'z': -4, 'x': 5}\n",
      "t , pi:  None\n",
      "t , d:  inf\n",
      ">> [  x  node Info] : \n",
      "x , edge:  {'t': -2}\n",
      "x , pi:  None\n",
      "x , d:  inf\n",
      " #######################relaxation 후 ############################ \n",
      "{'z': {'s', 'x'}, 's': {'y', 't'}, 'y': {'z', 'x'}, 't': {'z', 'y', 'x'}, 'x': {'t'}}\n",
      " node dictionary : \n",
      "{'y': <__main__.node object at 0x000000B2BE070518>, 's': <__main__.node object at 0x000000B2BE070978>, 'z': <__main__.node object at 0x000000B2BE070438>, 't': <__main__.node object at 0x000000B2BE070F60>, 'x': <__main__.node object at 0x000000B2BE070358>}\n",
      ">> [  z  node Info] : \n",
      "z , edge:  {'s': 2, 'x': 7}\n",
      "z , pi:  None\n",
      "z , d:  inf\n",
      ">> [  s  node Info] : \n",
      "s , edge:  {'y': 7, 't': 6}\n",
      "s , pi:  None\n",
      "s , d:  0\n",
      ">> [  y  node Info] : \n",
      "y , edge:  {'z': 9, 'x': -3}\n",
      "y , pi:  None\n",
      "y , d:  inf\n",
      ">> [  t  node Info] : \n",
      "t , edge:  {'y': 8, 'z': -4, 'x': 5}\n",
      "t , pi:  s\n",
      "t , d:  6\n",
      ">> [  x  node Info] : \n",
      "x , edge:  {'t': -2}\n",
      "x , pi:  None\n",
      "x , d:  inf\n"
     ]
    },
    {
     "data": {
      "text/plain": [
       "' t vertex infomation updated !! '"
      ]
     },
     "execution_count": 38,
     "metadata": {},
     "output_type": "execute_result"
    }
   ],
   "source": [
    "G = Graph(g,w)\n",
    "\n",
    "G.initialize_single_source('s')\n",
    "G.showinfo()\n",
    "G.relax('s','t')\n",
    "\"\"\" relax 후 \"\"\"\n",
    "print(\" #######################relaxation 후 ############################ \")\n",
    "G.showinfo()\n",
    "\n",
    "\"\"\" t vertex infomation updated !! \"\"\""
   ]
  }
 ],
 "metadata": {
  "kernelspec": {
   "display_name": "Python 3",
   "language": "python",
   "name": "python3"
  },
  "language_info": {
   "codemirror_mode": {
    "name": "ipython",
    "version": 3
   },
   "file_extension": ".py",
   "mimetype": "text/x-python",
   "name": "python",
   "nbconvert_exporter": "python",
   "pygments_lexer": "ipython3",
   "version": "3.5.2"
  }
 },
 "nbformat": 4,
 "nbformat_minor": 2
}
