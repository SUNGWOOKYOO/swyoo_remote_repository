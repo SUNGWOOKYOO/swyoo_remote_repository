{
 "cells": [
  {
   "cell_type": "markdown",
   "metadata": {},
   "source": [
    "## 25.1 Shortest paths and matrix multiplication"
   ]
  },
  {
   "cell_type": "markdown",
   "metadata": {},
   "source": [
    "### 25.1-1\n",
    "\n",
    "> Run SLOW-ALL-PAIRS-SHORTEST-PATHS on the weighted, directed graph of Figure 25.2, showing the matrices that result for each iteration of the loop. Then do the same for FASTER-ALL-PAIRS-SHORTEST-PATHS."
   ]
  },
  {
   "cell_type": "markdown",
   "metadata": {},
   "source": [
    "Initial:\n",
    "\n",
    "$$\n",
    "\\left \\{ \\begin{matrix}\n",
    "0 & \\infty & \\infty & \\infty & -1 & \\infty\\\\\n",
    "1 & 0 & \\infty & 2 & \\infty & \\infty\\\\\n",
    "\\infty & 2 & 0 & \\infty & \\infty & -8\\\\\n",
    "-4 & \\infty & \\infty & 0 & 3 & \\infty\\\\\n",
    "\\infty & 7 & \\infty & \\infty & 0 & \\infty\\\\\n",
    "\\infty & 5 & 10 & \\infty & \\infty & 0\\\\\n",
    "\\end{matrix} \\right \\}\n",
    "$$\n",
    "Slow:\n",
    "\n",
    "$m=2$:\n",
    "$$\n",
    "\\left \\{ \\begin{matrix}\n",
    "0 & 6 & \\infty & \\infty & -1 & \\infty\\\\\n",
    "-2 & 0 & \\infty & 2 & 0 & \\infty\\\\\n",
    "3 & -3 & 0 & 4 & \\infty & -8\\\\\n",
    "-4 & 10 & \\infty & 0 & -5 & \\infty\\\\\n",
    "8 & 7 & \\infty & 9 & 0 & \\infty\\\\\n",
    "6 & 5 & 10 & 7 & \\infty & 0\\\\\n",
    "\\end{matrix} \\right \\}\n",
    "$$\n",
    "\n",
    "$m=3$:\n",
    "$$\n",
    "\\left \\{ \\begin{matrix}\n",
    "0 & 6 & \\infty & 8 & -1 & \\infty\\\\\n",
    "-2 & 0 & \\infty & 2 & -3 & \\infty\\\\\n",
    "-2 & -3 & 0 & -1 & 2 & -8\\\\\n",
    "-4 & 2 & \\infty & 0 & -5 & \\infty\\\\\n",
    "5 & 7 & \\infty & 9 & 0 & \\infty\\\\\n",
    "3 & 5 & 10 & 7 & 5 & 0\\\\\n",
    "\\end{matrix} \\right \\}\n",
    "$$\n",
    "\n",
    "$m=4$:\n",
    "$$\n",
    "\\left \\{ \\begin{matrix}\n",
    "0 & 6 & \\infty & 8 & -1 & \\infty\\\\\n",
    "-2 & 0 & \\infty & 2 & -3 & \\infty\\\\\n",
    "-5 & -3 & 0 & -1 & -3 & -8\\\\\n",
    "-4 & 2 & \\infty & 0 & -5 & \\infty\\\\\n",
    "5 & 7 & \\infty & 9 & 0 & \\infty\\\\\n",
    "3 & 5 & 10 & 7 & 2 & 0\\\\\n",
    "\\end{matrix} \\right \\}\n",
    "$$\n",
    "\n",
    "$m=5$:\n",
    "$$\n",
    "\\left \\{ \\begin{matrix}\n",
    "0 & 6 & \\infty & 8 & -1 & \\infty\\\\\n",
    "-2 & 0 & \\infty & 2 & -3 & \\infty\\\\\n",
    "-5 & -3 & 0 & -1 & -6 & -8\\\\\n",
    "-4 & 2 & \\infty & 0 & -5 & \\infty\\\\\n",
    "5 & 7 & \\infty & 9 & 0 & \\infty\\\\\n",
    "3 & 5 & 10 & 7 & 2 & 0\\\\\n",
    "\\end{matrix} \\right \\}\n",
    "$$\n",
    "Fast:\n",
    "\n",
    "$m=2$:\n",
    "$$\n",
    "\\left \\{ \\begin{matrix}\n",
    "0 & 6 & \\infty & \\infty & -1 & \\infty\\\\\n",
    "-2 & 0 & \\infty & 2 & 0 & \\infty\\\\\n",
    "3 & -3 & 0 & 4 & \\infty & -8\\\\\n",
    "-4 & 10 & \\infty & 0 & -5 & \\infty\\\\\n",
    "8 & 7 & \\infty & 9 & 0 & \\infty\\\\\n",
    "6 & 5 & 10 & 7 & \\infty & 0\\\\\n",
    "\\end{matrix} \\right \\}\n",
    "$$\n",
    "\n",
    "$m=4$:\n",
    "$$\n",
    "\\left \\{ \\begin{matrix}\n",
    "0 & 6 & \\infty & 8 & -1 & \\infty\\\\\n",
    "-2 & 0 & \\infty & 2 & -3 & \\infty\\\\\n",
    "-5 & -3 & 0 & -1 & -3 & -8\\\\\n",
    "-4 & 2 & \\infty & 0 & -5 & \\infty\\\\\n",
    "5 & 7 & \\infty & 9 & 0 & \\infty\\\\\n",
    "3 & 5 & 10 & 7 & 2 & 0\\\\\n",
    "\\end{matrix} \\right \\}\n",
    "$$\n",
    "\n",
    "$m=8$:\n",
    "$$\n",
    "\\left \\{ \\begin{matrix}\n",
    "0 & 6 & \\infty & 8 & -1 & \\infty\\\\\n",
    "-2 & 0 & \\infty & 2 & -3 & \\infty\\\\\n",
    "-5 & -3 & 0 & -1 & -6 & -8\\\\\n",
    "-4 & 2 & \\infty & 0 & -5 & \\infty\\\\\n",
    "5 & 7 & \\infty & 9 & 0 & \\infty\\\\\n",
    "3 & 5 & 10 & 7 & 2 & 0\\\\\n",
    "\\end{matrix} \\right \\}\n",
    "$$"
   ]
  },
  {
   "cell_type": "markdown",
   "metadata": {},
   "source": [
    "### 25.1-2\n",
    "\n",
    "> Why do we require that $w_{ii}=0$ for all $1 \\le i \\le n$?"
   ]
  },
  {
   "cell_type": "markdown",
   "metadata": {},
   "source": [
    "To simplify (25.2)."
   ]
  },
  {
   "cell_type": "markdown",
   "metadata": {},
   "source": [
    "### 25.1-3\n",
    "\n",
    "> What does the matrix\n",
    "\n",
    "> $$\n",
    "L^{(0)} = \\left ( \\begin{matrix}\n",
    "0 & \\infty & \\infty & \\cdots & \\infty \\\\\n",
    "\\infty & 0 & \\infty & \\cdots & \\infty \\\\\n",
    "\\infty & \\infty & 0 & \\cdots & \\infty \\\\\n",
    "\\vdots & \\vdots & \\vdots & \\ddots & \\vdots \\\\\n",
    "\\infty & \\infty & \\infty & \\cdots & 0 \\\\\n",
    "\\end{matrix} \\right )\n",
    "$$\n",
    "\n",
    "> used in the shortest-paths algorithms correspond to in regular matrix multiplication?"
   ]
  },
  {
   "cell_type": "markdown",
   "metadata": {},
   "source": [
    "Unit."
   ]
  },
  {
   "cell_type": "markdown",
   "metadata": {},
   "source": [
    "### 25.1-4\n",
    "\n",
    "> Show that matrix multiplication defined by EXTEND-SHORTEST-PATHS is associative."
   ]
  },
  {
   "cell_type": "markdown",
   "metadata": {},
   "source": [
    "### 25.1-5\n",
    "\n",
    "> Show how to express the single-source shortest-paths problem as a product of matrices and a vector. Describe how evaluating this product corresponds to a Bellman-Ford-like algorithm (see Section 24.1)."
   ]
  },
  {
   "cell_type": "markdown",
   "metadata": {},
   "source": [
    "A vector filled with 0 except that the source is 1."
   ]
  },
  {
   "cell_type": "markdown",
   "metadata": {},
   "source": [
    "### 25.1-6\n",
    "\n",
    "> Suppose we also wish to compute the vertices on shortest paths in the algorithms of this section. Show how to compute the predecessor matrix $\\prod$ from the completed matrix $L$ of shortest-path weights in $O(n^3)$ time."
   ]
  },
  {
   "cell_type": "markdown",
   "metadata": {},
   "source": [
    "If $l_{ik} + w_{kj} = l_{ij}$, then $\\pi_{ij} = k$."
   ]
  },
  {
   "cell_type": "markdown",
   "metadata": {},
   "source": [
    "### 25.1-7\n",
    "\n",
    "> We can also compute the vertices on shortest paths as we compute the shortestpath weights. Define $\\pi_{ij}^{(m)}$ as the predecessor of vertex $j$ on any minimum-weight path from $i$ to $j$ that contains at most $m$ edges. Modify the EXTEND-SHORTESTPATHS and SLOW-ALL-PAIRS-SHORTEST-PATHS procedures to compute the matrices$\\prod^{(1)}, \\prod^{(2)}, \\dots, \\prod^{(n-1)}$ as the matrices $L^{(1)}, L^{(2)}, \\dots, L^{(n-1)}$ are computed."
   ]
  },
  {
   "cell_type": "markdown",
   "metadata": {},
   "source": [
    "If $l_{ik}^{(m-1)} + w_{kj} < l_{ij}^{(m)}$, then $\\pi_{ij}^{(m)} = k$."
   ]
  },
  {
   "cell_type": "markdown",
   "metadata": {},
   "source": [
    "### 25.1-8\n",
    "\n",
    "> The FASTER-ALL-PAIRS-SHORTEST-PATHS procedure, as written, requires us to store $\\lceil \\lg (n - 1) \\rceil$ matrices, each with $n^2$ elements, for a total space requirement of $\\Theta(n^2 \\lg n)$. Modify the procedure to require only $\\Theta(n^2)$ space by using only two $n \\times n$ matrices."
   ]
  },
  {
   "cell_type": "code",
   "execution_count": null,
   "metadata": {},
   "outputs": [],
   "source": [
    "def fast_all_pairs_shortest_paths(w):\n",
    "    n = len(w)\n",
    "    m = 1\n",
    "    while m < n - 1:\n",
    "        w = extend_shortest_paths(w, w)\n",
    "        m *= 2\n",
    "    return w"
   ]
  },
  {
   "cell_type": "markdown",
   "metadata": {},
   "source": [
    "### 25.1-9\n",
    "\n",
    "> Modify FASTER-ALL-PAIRS-SHORTEST-PATHS so that it can determine whether\n",
    "the graph contains a negative-weight cycle."
   ]
  },
  {
   "cell_type": "markdown",
   "metadata": {},
   "source": [
    "If $l_{ii} < 0$, then there is a negative-weight cycle."
   ]
  },
  {
   "cell_type": "markdown",
   "metadata": {},
   "source": [
    "### 25.1-10\n",
    "\n",
    "> Give an efficient algorithm to find the length (number of edges) of a minimum-length negative-weight cycle in a graph."
   ]
  },
  {
   "cell_type": "markdown",
   "metadata": {},
   "source": [
    "If $l_{ii}^{(m)} < 0$ and $l_{ii}^{(m-1)} = 0$, then the minimum-length is $m$."
   ]
  },
  {
   "cell_type": "markdown",
   "metadata": {},
   "source": [
    "# Hw\n",
    "\n",
    "Finding all pair shortest path \n",
    "\n",
    "graph's node has a number \n",
    "\n",
    "    self.nodes[G.nm[v].number].number \n",
    "\n",
    "graph class has W matrix make function \n",
    "\n",
    "def Myweight():\n",
    "    if self.nm[u].edge[v] is not None: # from u to v weight\n",
    "        W[self.nm[u].number][self.nm[v].number] = self.nm[u].edge[v]\n",
    "        \n",
    "        \n"
   ]
  },
  {
   "cell_type": "code",
   "execution_count": 1,
   "metadata": {},
   "outputs": [],
   "source": [
    "# node로 구현 \n",
    "class node: \n",
    "    \n",
    "    def __init__(self, name):\n",
    "        self.name = name\n",
    "        self.d = 0 \n",
    "        self.f = 0\n",
    "        self.pi = 0  \n",
    "        self.key = 0\n",
    "        self.color = 'unknown'\n",
    "        self.edge = {}\n",
    "        self.number = float('inf')\n",
    "        \n",
    "class Graph: \n",
    "    \n",
    "    time = 0\n",
    "    \n",
    "    def __init__(self, graph_dict=None, w = None):\n",
    "        \n",
    "        # preprocessing\n",
    "        vertices = list(graph_dict.keys())\n",
    "        vertices.sort()\n",
    "        vertices\n",
    "        \n",
    "        if graph_dict == None:\n",
    "            graph_dict = {}\n",
    "        self.graph_dict = graph_dict\n",
    "        \n",
    "        # node object로 list 만듦\n",
    "        self.nodes = []\n",
    "        for n in list(vertices):\n",
    "            self.nodes.append(node(n))\n",
    "        \n",
    "        # node object로 dictionary 만듦\n",
    "        self.nm = {}\n",
    "        for k in range(len(vertices)):\n",
    "            self.nm[self.nodes[k].name] = self.nodes[k]\n",
    "            self.nodes[k].number = k\n",
    "        \n",
    "        # edge 를 w 에 의해 부여 \n",
    "        for j in range(len(vertices)):  # j vertex\n",
    "            for i in self.graph_dict[self.nodes[j].name]:      # i edge \n",
    "                self.nodes[j].edge[i] = w[self.nodes[j].name][i]             # allocate weight \n",
    "                \n",
    "    \n",
    "    # Graph 의 weight information Matrix return \n",
    "    def myweight(self):\n",
    "        # preprocessing\n",
    "        vertices = list(self.graph_dict.keys())\n",
    "        vertices.sort()\n",
    "        vertices\n",
    "    \n",
    "        # node information \n",
    "        for v in vertices:\n",
    "            print(\"(node.number : \",self.nodes[self.nm[v].number].number, \", node.name : \",self.nodes[self.nm[v].number].name,\" )\" )\n",
    "        \n",
    "        import numpy as np\n",
    "        n = len(self.nodes)\n",
    "        W = np.ones((n,n))*float('inf')\n",
    "        \n",
    "        for i in range(n):\n",
    "            W[i][i] = 0\n",
    "        \n",
    "        for u in self.graph_dict:\n",
    "            for v in list(self.nm[u].edge):\n",
    "                if self.nm[u].edge[v] is not None: # from u to v weight\n",
    "                    W[self.nm[u].number][self.nm[v].number] = self.nm[u].edge[v]\n",
    "            \n",
    "        return W"
   ]
  },
  {
   "cell_type": "code",
   "execution_count": 2,
   "metadata": {},
   "outputs": [],
   "source": [
    "g = {'a': set(['b','c','e']),\n",
    "     'b': set(['d','e']),\n",
    "     'c': set(['b']),\n",
    "     'd': set(['a','c']),\n",
    "     'e': set(['d'])}\n",
    "\n",
    "w = {'a': {'b':3, 'c':8, 'e':-4},\n",
    "     'b': {'d':1, 'e':7},\n",
    "     'c': {'b':4},\n",
    "     'd': {'a':2, 'c':-5},\n",
    "     'e': {'d':6}}\n",
    "\n",
    "\n",
    "G = Graph(g,w)"
   ]
  },
  {
   "cell_type": "code",
   "execution_count": 3,
   "metadata": {},
   "outputs": [],
   "source": [
    "import numpy as np \n",
    "from time import *  \n",
    "\n",
    "\"\"\" compute L' <= L using W  // running time : O(n^3)\"\"\"\n",
    "def extend_shortest_paths(L,W):\n",
    "    n = len(L)\n",
    "    nL = np.ones((n,n))\n",
    "    \n",
    "    for i in range(n):\n",
    "        for j in range(n):\n",
    "            nL[i][j] = float('inf')\n",
    "            for k in range(n):\n",
    "                nL[i][j] = min(nL[i][j], L[i][k] + W[k][j])\n",
    "    return nL\n",
    "\n",
    "\"\"\" compute L(n-1) // running time : O(n^4) bottom up approach(DP) \"\"\"\n",
    "def show_all_pairs_shortest_paths(W):\n",
    "    start_time = time()\n",
    "    n = len(W)\n",
    "    L1 = W\n",
    "    Lpm = L1                                  #Lpm = Lm-1 meanning  \n",
    "    for m in range(2,n):\n",
    "        Lm = np.ones((n,n))\n",
    "        Lm = extend_shortest_paths(Lpm,W)\n",
    "        Lpm = Lm\n",
    "    print(\"---it takes %s seconds ---\" % (time() - start_time))\n",
    "    return Lm \n",
    "\n",
    "\"\"\" L(n-1 ) 이 shortest path weight 이므로, 그 이후 아무리 계산해도, 변하지 않음을 이용하여 \n",
    "    running time 개선 : O(n^3 × lgn)\"\"\"\n",
    "def faster_all_pairs_shortest_paths(W):\n",
    "    start_time = time()\n",
    "    n = len(W)\n",
    "    L1 = W\n",
    "    Lm = L1\n",
    "    m = 1\n",
    "    while m < n - 1:                                      # this loop takes O(lgn * n^3)\n",
    "        L2m = np.ones((n,n))\n",
    "        L2m = extend_shortest_paths(Lm,Lm)                # O(n^3)\n",
    "        Lm = L2m\n",
    "        m = m*2\n",
    "    print(\"---it takes %s seconds ---\" % (time() - start_time))\n",
    "    return Lm "
   ]
  },
  {
   "cell_type": "code",
   "execution_count": 4,
   "metadata": {},
   "outputs": [
    {
     "name": "stdout",
     "output_type": "stream",
     "text": [
      "(node.number :  0 , node.name :  a  )\n",
      "(node.number :  1 , node.name :  b  )\n",
      "(node.number :  2 , node.name :  c  )\n",
      "(node.number :  3 , node.name :  d  )\n",
      "(node.number :  4 , node.name :  e  )\n",
      "[[ 0.  3.  8. inf -4.]\n",
      " [inf  0. inf  1.  7.]\n",
      " [inf  4.  0. inf inf]\n",
      " [ 2. inf -5.  0. inf]\n",
      " [inf inf inf  6.  0.]]\n"
     ]
    }
   ],
   "source": [
    "W = G.myweight()\n",
    "print(W)"
   ]
  },
  {
   "cell_type": "code",
   "execution_count": 5,
   "metadata": {},
   "outputs": [
    {
     "data": {
      "text/plain": [
       "array([[ 0.,  3.,  8.,  2., -4.],\n",
       "       [ 3.,  0., -4.,  1.,  7.],\n",
       "       [inf,  4.,  0.,  5., 11.],\n",
       "       [ 2., -1., -5.,  0., -2.],\n",
       "       [ 8., inf,  1.,  6.,  0.]])"
      ]
     },
     "execution_count": 5,
     "metadata": {},
     "output_type": "execute_result"
    }
   ],
   "source": [
    "result1 = extend_shortest_paths(W,W)\n",
    "result1"
   ]
  },
  {
   "cell_type": "code",
   "execution_count": 6,
   "metadata": {},
   "outputs": [
    {
     "name": "stdout",
     "output_type": "stream",
     "text": [
      "---it takes 0.0009989738464355469 seconds ---\n"
     ]
    },
    {
     "data": {
      "text/plain": [
       "array([[ 0.,  1., -3.,  2., -4.],\n",
       "       [ 3.,  0., -4.,  1., -1.],\n",
       "       [ 7.,  4.,  0.,  5.,  3.],\n",
       "       [ 2., -1., -5.,  0., -2.],\n",
       "       [ 8.,  5.,  1.,  6.,  0.]])"
      ]
     },
     "execution_count": 6,
     "metadata": {},
     "output_type": "execute_result"
    }
   ],
   "source": [
    "result2 = show_all_pairs_shortest_paths(W)\n",
    "result2"
   ]
  },
  {
   "cell_type": "code",
   "execution_count": 7,
   "metadata": {},
   "outputs": [
    {
     "name": "stdout",
     "output_type": "stream",
     "text": [
      "---it takes 0.001001119613647461 seconds ---\n"
     ]
    },
    {
     "data": {
      "text/plain": [
       "array([[ 0.,  1., -3.,  2., -4.],\n",
       "       [ 3.,  0., -4.,  1., -1.],\n",
       "       [ 7.,  4.,  0.,  5.,  3.],\n",
       "       [ 2., -1., -5.,  0., -2.],\n",
       "       [ 8.,  5.,  1.,  6.,  0.]])"
      ]
     },
     "execution_count": 7,
     "metadata": {},
     "output_type": "execute_result"
    }
   ],
   "source": [
    "result3 = faster_all_pairs_shortest_paths(W)\n",
    "result3"
   ]
  }
 ],
 "metadata": {
  "kernelspec": {
   "display_name": "Python 3",
   "language": "python",
   "name": "python3"
  },
  "language_info": {
   "codemirror_mode": {
    "name": "ipython",
    "version": 3
   },
   "file_extension": ".py",
   "mimetype": "text/x-python",
   "name": "python",
   "nbconvert_exporter": "python",
   "pygments_lexer": "ipython3",
   "version": "3.5.2"
  }
 },
 "nbformat": 4,
 "nbformat_minor": 2
}
