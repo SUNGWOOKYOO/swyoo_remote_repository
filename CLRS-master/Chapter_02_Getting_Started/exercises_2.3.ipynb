{
 "cells": [
  {
   "cell_type": "markdown",
   "metadata": {},
   "source": [
    "## 2.3 Designing algorithms"
   ]
  },
  {
   "cell_type": "markdown",
   "metadata": {},
   "source": [
    "### 2.3-1\n",
    "\n",
    "> Using Figure 2.4 as a model, illustrate the operation of merge sort on the array $A = \\left \\langle3, 41, 52, 26, 38, 57, 9, 49\\right \\rangle$."
   ]
  },
  {
   "cell_type": "markdown",
   "metadata": {},
   "source": [
    "* $A = \\left \\langle3, 41, 26, 52, 38, 57, 9, 49\\right \\rangle$\n",
    "* $A = \\left \\langle3, 26, 41, 52, 9, 49, 38, 57\\right \\rangle$\n",
    "* $A = \\left \\langle3, 9, 26, 38, 41, 49, 52, 57\\right \\rangle$"
   ]
  },
  {
   "cell_type": "markdown",
   "metadata": {},
   "source": [
    "### 2.3-2\n",
    "\n",
    "> Rewrite the MERGE procedure so that it does not use sentinels, instead stopping once either array $L$ or $R$ has had all its elements copied back to A and then copying the remainder of the other array back into $A$."
   ]
  },
  {
   "cell_type": "code",
   "execution_count": 8,
   "metadata": {},
   "outputs": [],
   "source": [
    "def merge_sort_sub(arr, l, r):\n",
    "    if l >= r:\n",
    "        return\n",
    "    mid = (l + r) // 2\n",
    "    merge_sort_sub(arr, l, mid)       #recursive 한 invocation \n",
    "    merge_sort_sub(arr, mid+1, r)\n",
    "    arr_l = [arr[i] for i in range(l, mid+1)] #left : arr[l..mid]\n",
    "    arr_r = [arr[j] for j in range(mid+1, r+1)] #right : arr[mid+1..r] \n",
    "    i, j = 0, 0\n",
    "    for k in range(l, r+1): # arr[l..r]에 대해 sorting \n",
    "        if j == len(arr_r) or (i != len(arr_l) and arr_l[i] <= arr_r[j]): #arr_r 원소를 모두 arr로 옮겼거나(j== len(arr_r)), \n",
    "                                                                          #arr_l 원소를 아직 모두 arr로 안옮겼거나(i== len(arr_l))\n",
    "            arr[k] = arr_l[i]\n",
    "            i += 1\n",
    "        else:\n",
    "            arr[k] = arr_r[j]\n",
    "            j += 1\n",
    "\n",
    "\n",
    "def merge_sort(arr):\n",
    "    merge_sort_sub(arr, 0, len(arr) - 1)"
   ]
  },
  {
   "cell_type": "code",
   "execution_count": 9,
   "metadata": {},
   "outputs": [
    {
     "name": "stdout",
     "output_type": "stream",
     "text": [
      "[3, 9, 26, 38, 41, 49, 52, 57]\n"
     ]
    }
   ],
   "source": [
    "AR = [3,41,52,26,38,57,9,49]\n",
    "merge_sort(AR)\n",
    "print(AR)"
   ]
  },
  {
   "cell_type": "code",
   "execution_count": 7,
   "metadata": {},
   "outputs": [
    {
     "name": "stdout",
     "output_type": "stream",
     "text": [
      "[10]\n",
      "[10, 5]\n",
      "[10, 5, 9]\n",
      "[10, 5, 9, 7]\n"
     ]
    }
   ],
   "source": [
    "# function 기능 \n",
    "b = [10, 5, 9, 7]\n",
    "for j in range(1,5): # j=1~ 4\n",
    "    a = [b[i] for i in range(0,j)] # b의 0th ~ (j-1)th 원소를 a로 옮김 \n",
    "    print(a)"
   ]
  },
  {
   "cell_type": "markdown",
   "metadata": {},
   "source": [
    "### 2.3-3\n",
    "\n",
    "> Use mathematical induction to show that when $n$ is an exact power of 2, the solution of the recurrence\n",
    ">\n",
    "> $T(n)=\\left\\{\\begin{matrix}2 & \\text{if}\\; n = 2 \\\\ 2T(n/2)+n & \\text{if}\\; n = 2^k, \\text{for}\\; k>1\\end{matrix}\\right.$\n",
    ">\n",
    "> is $T(n)=n\\lg n$."
   ]
  },
  {
   "cell_type": "markdown",
   "metadata": {},
   "source": [
    "* $T(2) = 2 = 2 \\lg 2$\n",
    "* Assume that $T(2^k)=2^k \\lg 2^k$, $k > 1$, then $T(2^{k+1})=2T(2^k) + 2^{k+1}$ $=2^{k+1}\\lg 2^k+2^{k+1}$ $=2^{k+1}(1 + \\lg2^k)$ $=2^{k+1}(\\lg2 + \\lg2^k)$ $=2^{k+1}\\lg2^{k+1}$."
   ]
  },
  {
   "cell_type": "markdown",
   "metadata": {},
   "source": [
    "### 2.3-4\n",
    "\n",
    "> We can express insertion sort as a recursive procedure as follows. In order to sort $A[1..n]$, we recursively sort $A[1..n-1]$ and then insert $A[n]$ into the sorted array $A[1..n-1]$. Write a recurrence for the running time of this recursive version of insertion sort."
   ]
  },
  {
   "cell_type": "markdown",
   "metadata": {},
   "source": [
    "$T(n)=\\left\\{\\begin{matrix}1 & \\text{if}\\; n=1 \\\\ T(n-1)+n-1 & \\text{if}\\; n>1\\end{matrix}\\right.$"
   ]
  },
  {
   "cell_type": "code",
   "execution_count": null,
   "metadata": {},
   "outputs": [],
   "source": [
    "# For worst case, 반대방향으로 sorting되어 있어서 \n",
    "# incremental approach를 할경우, A[1..n-1]의 원소에 대해서  n-1 번 비교를 해야한다"
   ]
  },
  {
   "cell_type": "markdown",
   "metadata": {},
   "source": [
    "### 2.3-5\n",
    "\n",
    "> Referring back to the searching problem (see Exercise 2.1-3), observe that if the sequence $A$ is sorted, we can check the midpoint of the sequence against $v$ and eliminate half of the sequence from further consideration. The binary search algorithm repeats this procedure, halving the size of the remaining portion of the sequence each time. Write pseudocode, either iterative or recursive, for binary search. Argue that the worst-case running time of binary search is $\\Theta(\\lg n)$."
   ]
  },
  {
   "cell_type": "code",
   "execution_count": 10,
   "metadata": {},
   "outputs": [],
   "source": [
    "def binary_search(a, v):\n",
    "    l, r = 0, len(a)-1  \n",
    "    while l <= r: # 탈출조건: l>= r \n",
    "        mid = (l + r) // 2  \n",
    "        if a[mid] == v:  # 원하는 value를 찾은경우 ; C\n",
    "            return mid \n",
    "        elif a[mid] < v:\n",
    "            l = mid + 1 # right 탐색  ; T(n/2)\n",
    "        else:\n",
    "            r = mid - 1 # left 탐색 ; T(n/2)\n",
    "    print(\"Not founded! \")\n",
    "    return None"
   ]
  },
  {
   "cell_type": "code",
   "execution_count": 12,
   "metadata": {},
   "outputs": [
    {
     "name": "stdout",
     "output_type": "stream",
     "text": [
      "3\n",
      "Not founded! \n",
      "None\n"
     ]
    }
   ],
   "source": [
    "AR = [3,41,52,26,38,57,9,49]\n",
    "print(binary_search(AR, 26))\n",
    "print(binary_search(AR,30))\n",
    "\n",
    "# 밑의 recurrence에 base case condition T(n) = 1 , if n=1 추가 해야함\n",
    "# 또한 이 recurrence solution T(n) = Θ(lgn) 즉, T(n) <= dlogn 의 boundary condition d>C 추가해야함. "
   ]
  },
  {
   "cell_type": "markdown",
   "metadata": {},
   "source": [
    "$T(n)=T(n/2)+C$"
   ]
  },
  {
   "cell_type": "markdown",
   "metadata": {},
   "source": [
    "### 2.3-6\n",
    "\n",
    "> Observe that the while loop of lines 5-7 of the INSERTION-SORT procedure in Section 2.1 uses a linear search to scan (backward) through the sorted subarray $A[1..j-1]$. Can we use a binary search (see Exercise 2.3 - 5) instead to improve the overall worst-case running time of insertion sort to $\\Theta(n\\lg n)$?"
   ]
  },
  {
   "cell_type": "markdown",
   "metadata": {},
   "source": [
    "No, still has to move the elements for $\\Theta(n)$ in each iteration."
   ]
  },
  {
   "cell_type": "markdown",
   "metadata": {},
   "source": [
    "### 2.3-7 $\\star$\n",
    "\n",
    "> Describe a $\\Theta(n\\lg n)$-time algorithm that, given a set $S$ of $n$ integers and another integer $x$, determines whether or not there exist two elements in $S$ whose sum is exactly $x$."
   ]
  },
  {
   "cell_type": "markdown",
   "metadata": {},
   "source": [
    "Sort the elements then:"
   ]
  },
  {
   "cell_type": "code",
   "execution_count": 34,
   "metadata": {},
   "outputs": [],
   "source": [
    "def two_sum(a, x): # a는 setS를 의미\n",
    "    l, r = 0, len(a)-1\n",
    "# 가정 setS, 즉 a 배열은 sorted 상태 여야한다.     \n",
    "# 양 끝단에서 가운데로 searching \n",
    "    while l < r: # 탈출조건 l >= r \n",
    "        if a[l] + a[r] == x:\n",
    "             return True\n",
    "        elif a[l] + a[r] < x: #작을 경우, left 원소를 높혀라 \n",
    "            l += 1\n",
    "        else:                #클 경우, right 원소를 낮춰라  \n",
    "            r -= 1\n",
    "    return False"
   ]
  },
  {
   "cell_type": "code",
   "execution_count": 37,
   "metadata": {},
   "outputs": [
    {
     "name": "stdout",
     "output_type": "stream",
     "text": [
      "True\n"
     ]
    }
   ],
   "source": [
    "S = [2,6,11,16,23,48,60]\n",
    "X = 8 # (2+6)\n",
    "print(two_sum(S,X))"
   ]
  },
  {
   "cell_type": "code",
   "execution_count": null,
   "metadata": {},
   "outputs": [],
   "source": []
  },
  {
   "cell_type": "code",
   "execution_count": null,
   "metadata": {},
   "outputs": [],
   "source": []
  }
 ],
 "metadata": {
  "kernelspec": {
   "display_name": "Python 3",
   "language": "python",
   "name": "python3"
  },
  "language_info": {
   "codemirror_mode": {
    "name": "ipython",
    "version": 3
   },
   "file_extension": ".py",
   "mimetype": "text/x-python",
   "name": "python",
   "nbconvert_exporter": "python",
   "pygments_lexer": "ipython3",
   "version": "3.5.4"
  }
 },
 "nbformat": 4,
 "nbformat_minor": 2
}
