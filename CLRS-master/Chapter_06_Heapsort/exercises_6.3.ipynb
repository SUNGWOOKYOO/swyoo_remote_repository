{
 "cells": [
  {
   "cell_type": "markdown",
   "metadata": {},
   "source": [
    "## 6.3 Building a heap"
   ]
  },
  {
   "cell_type": "markdown",
   "metadata": {},
   "source": [
    "### 6.3-1\n",
    "\n",
    "> Using Figure 6.3 as a model, illustrate the operation of BUILD-MAX-HEAP on the array $A = \\left \\langle 5, 3, 17, 10, 84, 19, 6, 22, 9 \\right \\rangle$."
   ]
  },
  {
   "cell_type": "markdown",
   "metadata": {},
   "source": [
    "![](img/6.3-1_1.png)\n",
    "\n",
    "MAX-HEAPIFY$(A, 4)$: $A = \\left \\langle 5, 3, 17, 22, 84, 19, 6, 10, 9 \\right \\rangle$\n",
    "\n",
    "![](img/6.3-1_2.png)\n",
    "\n",
    "MAX-HEAPIFY$(A, 3)$: $A = \\left \\langle 5, 3, 19, 22, 84, 17, 6, 10, 9 \\right \\rangle$\n",
    "\n",
    "![](img/6.3-1_3.png)\n",
    "\n",
    "MAX-HEAPIFY$(A, 2)$: $A = \\left \\langle 5, 84, 19, 22, 3, 17, 6, 10, 9 \\right \\rangle$\n",
    "\n",
    "![](img/6.3-1_4.png)\n",
    "\n",
    "MAX-HEAPIFY$(A, 1)$: $A = \\left \\langle 84, 22, 19, 10, 3, 17, 6, 5, 9 \\right \\rangle$\n",
    "\n",
    "![](img/6.3-1_5.png)"
   ]
  },
  {
   "cell_type": "markdown",
   "metadata": {},
   "source": [
    "### 6.3-2\n",
    "\n",
    "> Why do we want the loop index $i$ in line 2 of BUILD-MAX-HEAP to decrease from $\\left \\lfloor A.length/2 \\right \\rfloor$ to $1$ rather than increase from $1$ to $\\left \\lfloor A.length/2 \\right \\rfloor$?"
   ]
  },
  {
   "cell_type": "markdown",
   "metadata": {},
   "source": [
    "To ensure the subtrees are heaps."
   ]
  },
  {
   "cell_type": "markdown",
   "metadata": {},
   "source": [
    "### 6.3-3\n",
    "\n",
    "> Show that there are at most $\\left \\lceil n/2^{h+1} \\right \\rceil$ nodes of height $h$ in any $n$-element heap."
   ]
  },
  {
   "cell_type": "markdown",
   "metadata": {},
   "source": [
    "$$\n",
    "\\frac{n - \\left \\lceil n / 2 \\right \\rceil}{2^h} = \\left \\lceil \\frac{n}{2^{h+1}} \\right \\rceil\n",
    "$$"
   ]
  },
  {
   "cell_type": "markdown",
   "metadata": {},
   "source": [
    "# Hw\n",
    "\n",
    "## building max or min heap "
   ]
  },
  {
   "cell_type": "code",
   "execution_count": 53,
   "metadata": {},
   "outputs": [],
   "source": [
    "class heap:\n",
    "    \n",
    "    def __init__(self,a):\n",
    "        self.heap_size = len(a) - 1 # index 는 0 ~ len(a) - 1 이므로 \n",
    "    \n",
    "    # Binary shifting 으로 생각  python 에서는 index 0 부터 사용 하므로 \n",
    "    def parent(self,i):\n",
    "        if i <= self.heap_size:\n",
    "            return (i - 1) >> 1 \n",
    "        else: return i # heapify 연산에서 if 문에서 비교 연산에 대해 결과가 Flase가 나와야하고, 마지막에 i로 largest(smalliest) 결정\n",
    "\n",
    "\n",
    "    def left(self, i):\n",
    "        if (((i << 1) + 1) <= self.heap_size):\n",
    "            return (i << 1) + 1  # 2 곱함 ; index 0부터 시작이므로 +1\n",
    "        else: return i \n",
    "\n",
    "    def right(self, i):\n",
    "        if (((i<<1) + 2) <= self.heap_size):\n",
    "            return (i << 1) + 2 # 2 곱하고 1더함 ; ndex 0부터 시작이므로 +1\n",
    "        else: return i \n",
    "\n",
    "        \n",
    "    def max_heapify(self, a, i):\n",
    "\n",
    "        # largest = argmax{a[i] , a[l], a[r]} \n",
    "        l, r = self.left(i), self.right(i) \n",
    "        #print(i, l, r, len(a), \"// i, l, r, len(a) : debug1\")\n",
    "        if (l <= len(a)) and (a[l] > a[i]):\n",
    "            largest = l\n",
    "        else: largest = i \n",
    "        if (r <= len(a)) and (a[r] > a[largest]):\n",
    "            largest = r\n",
    "        \n",
    "        #print(largest, i ,\"// largest, i : debug2\")\n",
    "        # i 가 largest가 아니라면 a[largest] 와 swap \n",
    "        # i = largest이면, recursive call 하지 않는다. 위치 그대로 (same key가 있다면 그대로 위치 )\n",
    "        if largest != i:\n",
    "            a[i], a[largest] = a[largest], a[i] # swape a[i] with a[max_idx]\n",
    "            self.max_heapify(a,largest)             # recursive call \n",
    "    \n",
    "        # worst case running time : O(lgn)\n",
    "\n",
    "    def build_max_heap(self, a):\n",
    "        self.heap_size = len(a) - 1\n",
    "        for i in range((len(A)-1)//2,-1,-1):\n",
    "            self.max_heapify(a,i)\n",
    "    \n",
    "    \n",
    "    def min_heapify(self, a,i):\n",
    "     \n",
    "        # smallest = argmin{a[i] , a[l], a[r]} \n",
    "        l, r = self.left(i), self.right(i) \n",
    "        if (l <= len(a)) and (a[l] < a[i]):\n",
    "            smallest = l\n",
    "        else: smallest = i \n",
    "        if (r <= len(a)) and (a[r] < a[smallest]):\n",
    "            smallest = r\n",
    "    \n",
    "        # i 가 smallest 가 아니라면 a[smallest] 와 swap     \n",
    "        if smallest != i:\n",
    "            a[i], a[smallest] = a[smallest], a[i] # swape a[i] with a[min_idx]\n",
    "            self.min_heapify(a, smallest)             # recursive call \n",
    "    \n",
    "        # worst case running time : O(lgn)   \n",
    "    \n",
    "    def build_min_heap(self, a):\n",
    "        self.heap_size = len(a) - 1\n",
    "        for i in range((len(A)-1)//2,-1,-1):\n",
    "            self.min_heapify(a,i)"
   ]
  },
  {
   "cell_type": "code",
   "execution_count": 52,
   "metadata": {},
   "outputs": [
    {
     "name": "stdout",
     "output_type": "stream",
     "text": [
      "[(21, 'a'), (65, 'b'), (68, 'c'), (31, 'd'), (13, 'e'), (24, 'f'), (19, 'g'), (14, 'h'), (32, 'i'), (26, 'j')]\n",
      "[(68, 'c'), (65, 'b'), (24, 'f'), (32, 'i'), (26, 'j'), (21, 'a'), (19, 'g'), (14, 'h'), (31, 'd'), (13, 'e')]\n",
      "[(13, 'e'), (14, 'h'), (19, 'g'), (31, 'd'), (26, 'j'), (21, 'a'), (24, 'f'), (32, 'i'), (68, 'c'), (65, 'b')]\n"
     ]
    }
   ],
   "source": [
    "A = [(21,'a'), (65,'b'), (68,'c'), (31,'d'), (13,'e'), (24,'f'), (19,'g'), (14,'h'), (32,'i'), (26,'j')]\n",
    "#A = [21, 65, 68, 31, 13, 24, 19, 14, 32, 26]\n",
    "\n",
    "h = heap(A)\n",
    "\n",
    "print(A)\n",
    "\n",
    "h.build_max_heap(A)\n",
    "print(A)\n",
    "\n",
    "h.build_min_heap(A)\n",
    "print(A)\n"
   ]
  }
 ],
 "metadata": {
  "kernelspec": {
   "display_name": "Python 3",
   "language": "python",
   "name": "python3"
  },
  "language_info": {
   "codemirror_mode": {
    "name": "ipython",
    "version": 3
   },
   "file_extension": ".py",
   "mimetype": "text/x-python",
   "name": "python",
   "nbconvert_exporter": "python",
   "pygments_lexer": "ipython3",
   "version": "3.5.4"
  }
 },
 "nbformat": 4,
 "nbformat_minor": 2
}
