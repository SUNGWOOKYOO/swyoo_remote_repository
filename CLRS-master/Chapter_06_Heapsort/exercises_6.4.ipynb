{
 "cells": [
  {
   "cell_type": "markdown",
   "metadata": {},
   "source": [
    "## 6.4 The heapsort algorithm"
   ]
  },
  {
   "cell_type": "markdown",
   "metadata": {},
   "source": [
    "### 6.4-1\n",
    "\n",
    "> Using Figure 6.4 as a model, illustrate the operation of HEAPSORT on the array $A = \\left \\langle 5, 13, 2, 25, 7, 17, 20, 8, 4 \\right \\rangle$."
   ]
  },
  {
   "cell_type": "markdown",
   "metadata": {},
   "source": [
    "BUILD_MAX_HEAP$(A)$: $A = \\left \\langle 25, 13, 20, 8, 7, 17, 2, 5, 4 \\right \\rangle$\n",
    "\n",
    "![](img/6.4-1_1.png)\n",
    "\n",
    "HEAPSORT$(A)$:\n",
    "\n",
    "$A = \\left \\langle 20, 13, 17, 8, 7, 4, 2, 5, | 25\\right \\rangle$\n",
    "\n",
    "![](img/6.4-1_2.png)\n",
    "\n",
    "$A = \\left \\langle 17, 13, 5, 8, 7, 4, 2, | 20, 25\\right \\rangle$\n",
    "\n",
    "![](img/6.4-1_3.png)\n",
    "\n",
    "$A = \\left \\langle 13, 8, 5, 2, 7, 4, | 17, 20, 25\\right \\rangle$\n",
    "\n",
    "![](img/6.4-1_4.png)\n",
    "\n",
    "$A = \\left \\langle 8, 7, 5, 2, 4, | 13, 17, 20, 25\\right \\rangle$\n",
    "\n",
    "![](img/6.4-1_5.png)\n",
    "\n",
    "$A = \\left \\langle 7, 4, 5, 2, | 8, 13, 17, 20, 25\\right \\rangle$\n",
    "\n",
    "![](img/6.4-1_6.png)\n",
    "\n",
    "$A = \\left \\langle 5, 4, 2, | 7, 8, 13, 17, 20, 25\\right \\rangle$\n",
    "\n",
    "![](img/6.4-1_7.png)\n",
    "\n",
    "$A = \\left \\langle 4, 2, | 5, 7, 8, 13, 17, 20, 25\\right \\rangle$\n",
    "\n",
    "![](img/6.4-1_8.png)\n",
    "\n",
    "$A = \\left \\langle 2, | 4, 5, 7, 8, 13, 17, 20, 25\\right \\rangle$"
   ]
  },
  {
   "cell_type": "markdown",
   "metadata": {},
   "source": [
    "### 6.4-2\n",
    "\n",
    "> Argue the correctness of HEAPSORT using the following loop invariant:\n",
    ">> At the start of each iteration of the for loop of lines 2–5, the subarray $A[1\\dots i]$ is a max-heap containing the $i$ smallest elements of $A[1\\dots n]$, and the subarray $A[i + 1\\dots n]$ contains the $n - i$ largest elements of $A[1\\dots n]$, sorted."
   ]
  },
  {
   "cell_type": "markdown",
   "metadata": {},
   "source": [
    "In each iteration we move the largest element to the sorted array."
   ]
  },
  {
   "cell_type": "markdown",
   "metadata": {},
   "source": [
    "### 6.4-3\n",
    "\n",
    "> What is the running time of HEAPSORT on an array $A$ of length $n$ that is already sorted in increasing order? What about decreasing order?"
   ]
  },
  {
   "cell_type": "markdown",
   "metadata": {},
   "source": [
    "Both are $\\Theta(n \\lg n)$ since there are $n$ calls to MAX-HEAPIFY."
   ]
  },
  {
   "cell_type": "markdown",
   "metadata": {},
   "source": [
    "### 6.4-4\n",
    "\n",
    "> Show that the worst-case running time of HEAPSORT is $\\Omega(n \\lg n)$."
   ]
  },
  {
   "cell_type": "markdown",
   "metadata": {},
   "source": [
    "BUILD-HEAD is $\\Theta(n)$ and MAX-HEAPIFY is $\\Theta(n \\lg n)$."
   ]
  },
  {
   "cell_type": "markdown",
   "metadata": {},
   "source": [
    "### 6.4-5 $\\star$\n",
    "\n",
    "> Show that when all elements are distinct, the best-case running time of HEAPSORT is $\\Omega(n \\lg n)$."
   ]
  },
  {
   "cell_type": "markdown",
   "metadata": {},
   "source": [
    "$\\dots$"
   ]
  },
  {
   "cell_type": "markdown",
   "metadata": {},
   "source": [
    "# Hw \n",
    "\n",
    "## heapsort  implementation \n",
    "### heap data structure 를 이용하여 sorting \n"
   ]
  },
  {
   "cell_type": "code",
   "execution_count": 14,
   "metadata": {},
   "outputs": [],
   "source": [
    "class heap:\n",
    "    \n",
    "    def __init__(self,a):\n",
    "        self.heap_size = len(a) - 1 # index 는 0 ~ len(a) - 1 이므로 \n",
    "    \n",
    "    # Binary shifting 으로 생각  python 에서는 index 0 부터 사용 하므로 \n",
    "    def parent(self,i):\n",
    "        if i <= self.heap_size:\n",
    "            return (i - 1) >> 1 \n",
    "        else: return i # heapify 연산에서 if 문에서 비교 연산에 대해 결과가 Flase가 나와야하고, 마지막에 i로 largest(smalliest) 결정\n",
    "\n",
    "\n",
    "    def left(self, i):\n",
    "        if (((i << 1) + 1) <= self.heap_size):\n",
    "            return (i << 1) + 1  # 2 곱함 ; index 0부터 시작이므로 +1\n",
    "        else: return i \n",
    "\n",
    "    def right(self, i):\n",
    "        if (((i<<1) + 2) <= self.heap_size):\n",
    "            return (i << 1) + 2 # 2 곱하고 1더함 ; ndex 0부터 시작이므로 +1\n",
    "        else: return i \n",
    "\n",
    "        \n",
    "    def max_heapify(self, a, i):\n",
    "\n",
    "        # largest = argmax{a[i] , a[l], a[r]} \n",
    "        l, r = self.left(i), self.right(i) \n",
    "        #print(i, l, r, len(a), \"// i, l, r, len(a) : debug1\")\n",
    "        if (l <= len(a)) and (a[l] > a[i]):\n",
    "            largest = l\n",
    "        else: largest = i \n",
    "        if (r <= len(a)) and (a[r] > a[largest]):\n",
    "            largest = r\n",
    "        \n",
    "        #print(largest, i ,\"// largest, i : debug2\")\n",
    "        # i 가 largest가 아니라면 a[largest] 와 swap \n",
    "        # i = largest이면, recursive call 하지 않는다. 위치 그대로 (same key가 있다면 그대로 위치 )\n",
    "        if largest != i:\n",
    "            a[i], a[largest] = a[largest], a[i] # swape a[i] with a[max_idx]\n",
    "            self.max_heapify(a,largest)             # recursive call \n",
    "    \n",
    "        # worst case running time : O(lgn)\n",
    "\n",
    "    def build_max_heap(self, a):\n",
    "        self.heap_size = len(a) - 1\n",
    "        for i in range((len(A)-1)//2,-1,-1):\n",
    "            self.max_heapify(a,i)\n",
    "            \n",
    "        # running time : O(nlgn) 인데 tighter한 upper bound is O(n)\n",
    "    \n",
    "    \n",
    "    def min_heapify(self, a,i):\n",
    "     \n",
    "        # smallest = argmin{a[i] , a[l], a[r]} \n",
    "        l, r = self.left(i), self.right(i) \n",
    "        if (l <= len(a)) and (a[l] < a[i]):\n",
    "            smallest = l\n",
    "        else: smallest = i \n",
    "        if (r <= len(a)) and (a[r] < a[smallest]):\n",
    "            smallest = r\n",
    "    \n",
    "        # i 가 smallest 가 아니라면 a[smallest] 와 swap     \n",
    "        if smallest != i:\n",
    "            a[i], a[smallest] = a[smallest], a[i] # swape a[i] with a[min_idx]\n",
    "            self.min_heapify(a, smallest)             # recursive call \n",
    "    \n",
    "        # worst case running time : O(lgn)   \n",
    "    \n",
    "    def build_min_heap(self, a):\n",
    "        self.heap_size = len(a) - 1\n",
    "        for i in range((len(A)-1)//2,-1,-1):\n",
    "            self.min_heapify(a,i)\n",
    "            \n",
    "            \n",
    "    \"\"\" heap sort implementation \"\"\"\n",
    "    def heapsort(self, a, order = 0):\n",
    "        \n",
    "        # using max heap \n",
    "        self.build_max_heap(a)                     # max heap 을 만들고, \n",
    "        for i in range(len(a)-1, -1, -1):          # for loop 에서 heap property를 유지시키며, increasing order로 sorting \n",
    "            a[0], a[i] = a[i], a[0]                # 그 과정에서 heap에 들어간 array는 점점 줄어든다. \n",
    "            self.heap_size = self.heap_size - 1    # [[ heap영역      ]  sorting된 data]  : total data\n",
    "            self.max_heapify(a,0)                  # [[null]   sorting completed       ]\n",
    "    \n",
    "        # using min heap \n",
    "        if order == 1:\n",
    "            self.build_min_heap(a)                     # min heap 을 만들고, \n",
    "            for i in range(len(a)-1, -1, -1):          # for loop 에서 heap property를 유지시키며, decreasing order로 sorting \n",
    "                a[0], a[i] = a[i], a[0]                # 그 과정에서 heap에 들어간 array는 점점 줄어든다. \n",
    "                self.heap_size = self.heap_size - 1    # [[ heap영역      ]  sorting된 data]  : total data\n",
    "                self.min_heapify(a,0)                  # [[null]   sorting completed       ]\n",
    "                \n",
    "        # running time : O(nlgn)"
   ]
  },
  {
   "cell_type": "code",
   "execution_count": 15,
   "metadata": {},
   "outputs": [
    {
     "name": "stdout",
     "output_type": "stream",
     "text": [
      "[(21, 'a'), (65, 'b'), (68, 'c'), (31, 'd'), (13, 'e'), (24, 'f'), (19, 'g'), (14, 'h'), (32, 'i'), (26, 'j')]\n",
      "[(13, 'e'), (14, 'h'), (19, 'g'), (21, 'a'), (24, 'f'), (26, 'j'), (31, 'd'), (32, 'i'), (65, 'b'), (68, 'c')]\n",
      "[(68, 'c'), (65, 'b'), (32, 'i'), (31, 'd'), (26, 'j'), (24, 'f'), (21, 'a'), (19, 'g'), (14, 'h'), (13, 'e')]\n"
     ]
    }
   ],
   "source": [
    "A = [(21,'a'), (65,'b'), (68,'c'), (31,'d'), (13,'e'), (24,'f'), (19,'g'), (14,'h'), (32,'i'), (26,'j')]\n",
    "#A = [21, 65, 68, 31, 13, 24, 19, 14, 32, 26]\n",
    "#A = [21, 65, 68, 31, 13, 24, 19, 14, 19, 26]\n",
    "\n",
    "h = heap(A)\n",
    "print(A)\n",
    "\n",
    "h.heapsort(A) # using max heap \n",
    "print(A)\n",
    "\n",
    "h.heapsort(A,1) # using min heap \n",
    "print(A)"
   ]
  }
 ],
 "metadata": {
  "kernelspec": {
   "display_name": "Python 3",
   "language": "python",
   "name": "python3"
  },
  "language_info": {
   "codemirror_mode": {
    "name": "ipython",
    "version": 3
   },
   "file_extension": ".py",
   "mimetype": "text/x-python",
   "name": "python",
   "nbconvert_exporter": "python",
   "pygments_lexer": "ipython3",
   "version": "3.5.4"
  }
 },
 "nbformat": 4,
 "nbformat_minor": 2
}
