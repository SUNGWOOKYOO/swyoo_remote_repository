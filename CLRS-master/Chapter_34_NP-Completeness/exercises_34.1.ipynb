{
 "cells": [
  {
   "cell_type": "markdown",
   "metadata": {},
   "source": [
    "## 34.1 Polynomial time"
   ]
  },
  {
   "cell_type": "markdown",
   "metadata": {},
   "source": [
    "### 34.1-1\n",
    "\n",
    "> Define the optimization problem LONGEST-PATH-LENGTH as the relation that associates each instance of an undirected graph and two vertices with the number of edges in a longest simple path between the two vertices. Define the decision problem LONGEST-PATH $=\\{\\langle G, u, v, k \\rangle : G = (V, E)$ is an undirected graph, $u, v \\in V$, $k \\ge 0$ is an integer, and there exists a simple path from $u$ to $v$ in $G$ consisting of at least $k$ edges$\\}$. Show that the optimization problem LONGEST-PATH-LENGTH can be solved in polynomial time if and only if LONGEST-PATH $\\in$ P."
   ]
  },
  {
   "cell_type": "markdown",
   "metadata": {},
   "source": [
    "* LONGEST-PATH-LENGTH can be solved in polynomial time $\\Rightarrow$ LONGEST-PATH $\\in$ P\n",
    "\n",
    "Suppose it takes $O(n^k)$ time to determine that LONGEST-PATH-LENGTH is $k^*$. For any $k \\le k^*$, LONGEST-PATH$(\\langle G, u, v, k \\rangle)=1$, otherwise LONGEST-PATH$(\\langle G, u, v, k \\rangle)=0$, which takes $O(n^k)$ time."
   ]
  },
  {
   "cell_type": "markdown",
   "metadata": {},
   "source": [
    "* LONGEST-PATH-LENGTH can be solved in polynomial time $\\Leftarrow$ LONGEST-PATH $\\in$ P \n",
    "\n",
    "Suppose LONGEST-PATH can be solved in $O(n^k)$ time. Enumerate $k \\in [0, |V| - 1]$ to find the largest $k$ that LONGEST-PATH$(\\langle G, u, v, k \\rangle)=1$ takes $O(|V| \\cdot n^k) = O(n^c \\cdot n^k) = O(n^{ck})$ time, which is still polynomial, while the largest $k$ is the LONGEST-PATH-LENGTH."
   ]
  },
  {
   "cell_type": "markdown",
   "metadata": {},
   "source": [
    "### 34.1-2\n",
    "\n",
    "> Give a formal definition for the problem of finding the longest simple cycle in an undirected graph. Give a related decision problem. Give the language corresponding to the decision problem."
   ]
  },
  {
   "cell_type": "markdown",
   "metadata": {},
   "source": [
    "* Formal definition\n",
    "\n",
    "Instance: a graph $G$\n",
    "\n",
    "Solutions: a seqeunce of vertices in the graph\n",
    "\n",
    "Problem: find the simple cycle in $G$ which has the largest length $k$."
   ]
  },
  {
   "cell_type": "markdown",
   "metadata": {},
   "source": [
    "* Decision problem\n",
    "\n",
    "If $i = \\langle G, k \\rangle$ is an instance of the decision problem CYCLE, then CYCLE$(i)=1$ if there exists a simple cycle whose length is at least $k$, and CYCLE$(i)=0$ otherwise."
   ]
  },
  {
   "cell_type": "markdown",
   "metadata": {},
   "source": [
    "* Language\n",
    "\n",
    "$$\n",
    "\\begin{array}{rl}\n",
    "\\text{CYCLE} = \\{ \\langle G, k \\rangle: & G = (V, E) \\text{ is an undirected graph}, \\\\\n",
    "                           & k \\ge 0 \\text{ is an integer, and} \\\\\n",
    "                           & \\text{there exists a simple cycle in } G \\text{ consisting of at least } k \\text{ edges } \\}.\n",
    "\\end{array}\n",
    "$$"
   ]
  },
  {
   "cell_type": "markdown",
   "metadata": {},
   "source": [
    "### 34.1-3\n",
    "\n",
    "> Give a formal encoding of directed graphs as binary strings using an adjacency-matrix representation. Do the same using an adjacency-list representation. Argue that the two representations are polynomially related."
   ]
  },
  {
   "cell_type": "markdown",
   "metadata": {},
   "source": [
    "* Adjacency-matrix\n",
    "\n",
    "Suppose the matrix is $A$, then $A[u, v] = 1$ for any two vertices $u, v \\in G = (V, E)$ there exists a path between them, otherwise $A[u, v] = 0$. The encoding is the concatenation of the binary encoded $|V|$ and all the values in the matrix."
   ]
  },
  {
   "cell_type": "markdown",
   "metadata": {},
   "source": [
    "* Adjacency-list\n",
    "\n",
    "The head of the encoding is $|V|$, then for each $u$, encode $u$ and its out-degree $|u|$, then followed the $|u|$ $v$s that has a path between them."
   ]
  },
  {
   "cell_type": "markdown",
   "metadata": {},
   "source": [
    "* Polynomially related\n",
    "\n",
    "matrix -> list: get column number\n",
    "list -> matrix: fill 1s"
   ]
  },
  {
   "cell_type": "markdown",
   "metadata": {},
   "source": [
    "### 34.1-4\n",
    "\n",
    "> Is the dynamic-programming algorithm for the 0-1 knapsack problem that is asked for in Exercise 16.2-2 a polynomial-time algorithm? Explain your answer."
   ]
  },
  {
   "cell_type": "markdown",
   "metadata": {},
   "source": [
    "No. The algorithm runs in $O(nW)$ time. The concise encoding of $W$ has length $m = \\lfloor \\lg k \\rfloor + 1$, therefore the algorithm is worse than $O(k) = O(2^m)$."
   ]
  },
  {
   "cell_type": "markdown",
   "metadata": {},
   "source": [
    "### 34.1-5\n",
    "\n",
    "> Show that if an algorithm makes at most a constant number of calls to polynomial-time subroutines and performs an additional amount of work that also takes polynomial time, then it runs in polynomial time. Also show that a polynomial number of calls to polynomial-time subrountines may result in an exponential-time algorithm."
   ]
  },
  {
   "cell_type": "markdown",
   "metadata": {},
   "source": [
    "* Constant number\n",
    "\n",
    "$O \\left ( (((n^{d_1})^{d_2})\\dots)^{d_m} + n^{c} \\right ) = O \\left ( n^{d_1+d_2+\\dots+d_m} + n^{c} \\right )$ which is still polynomial time."
   ]
  },
  {
   "cell_type": "markdown",
   "metadata": {},
   "source": [
    "* Polynomial number\n",
    "\n",
    "Suppose the size of the output of a subrountines is twice the size of the input, then the algorithm is at least $O(2^m)$."
   ]
  },
  {
   "cell_type": "markdown",
   "metadata": {},
   "source": [
    "### 34.1-6\n",
    "\n",
    "> Show that the class P, viewed as a set of languages, is closed under union, intersection, concatenation, complement, and Kleene star. That is, if $L_1, L_2 \\in \\text{P}$, then $L_1 \\cup L_2 \\in \\text{P}$, $L_1 \\cap L_2 \\in \\text{P}$, $L_1L_2 \\in \\text{P}$, $\\overline{L_1} \\in \\text{P}$, and $L_1^* \\in \\text{P}$."
   ]
  },
  {
   "cell_type": "markdown",
   "metadata": {},
   "source": [
    "Suppose $A_1$ accepts $L_1$ and $A_2$ accepts $L_2$, we can construct algorithm $A_3$ that runs under polynomial time:"
   ]
  },
  {
   "cell_type": "markdown",
   "metadata": {},
   "source": [
    "* $L_1 \\cup L_2 \\in \\text{P}$\n",
    "\n",
    "```\n",
    "IF A_1(x) == 1 || A_2(x) == 1\n",
    "THEN RETURN 1\n",
    "ELSE RETURN 0\n",
    "```"
   ]
  },
  {
   "cell_type": "markdown",
   "metadata": {},
   "source": [
    "* $L_1 \\cap L_2 \\in \\text{P}$\n",
    "\n",
    "```\n",
    "IF A_1(x) == 1 && A_2(x) == 1\n",
    "THEN RETURN 1\n",
    "ELSE RETURN 0\n",
    "```"
   ]
  },
  {
   "cell_type": "markdown",
   "metadata": {},
   "source": [
    "* $L_1L_2 \\in \\text{P}$\n",
    "\n",
    "```\n",
    "FOR i = 1 .. n\n",
    "    IF A_1(x_1 ... x_i) == 1 && A_2(x_i+1 ... x_n) == 1\n",
    "    THEN RETURN 1\n",
    "RETURN 0\n",
    "```"
   ]
  },
  {
   "cell_type": "markdown",
   "metadata": {},
   "source": [
    "* $\\overline{L_1} \\in \\text{P}$\n",
    "\n",
    "```\n",
    "IF A_1(x) == 1:\n",
    "RETURN 0\n",
    "RETURN 1\n",
    "```"
   ]
  },
  {
   "cell_type": "markdown",
   "metadata": {},
   "source": [
    "* $L_1^* \\in \\text{P}$\n",
    "\n",
    "```\n",
    "IF x == epsilon\n",
    "THEN RETURN 1\n",
    "\n",
    "FOR i = 1 .. n\n",
    "    DP[i] = 0\n",
    "DP[0] = 1\n",
    "FOR i = 0 .. n\n",
    "    FOR j = i + 1 .. n\n",
    "        IF A_1(x_i ... x_j) == 1\n",
    "        THEN DP[j] = 1\n",
    "RETURN DP[n]\n",
    "```"
   ]
  },
  {
   "cell_type": "markdown",
   "metadata": {},
   "source": [
    "# Hw \n",
    "\n",
    " ## approximation vertex-cover problem \n",
    " \n",
    " 2 approximate algorithm \n",
    " \n",
    " optimal 한 case는 \n",
    " vertex 가 3개가 선택되는 것이다. \n",
    " \n",
    " 2 approximate algorithm 이므로 어떻게 random한 선택을 하느냐에 따라 \n",
    " 3개에서 ~ 최대 6개 까지의 출력을 낼 수 있다, \n"
   ]
  },
  {
   "cell_type": "code",
   "execution_count": 1,
   "metadata": {},
   "outputs": [],
   "source": [
    "# node로 구현 \n",
    "class node: \n",
    "    \n",
    "    def __init__(self, name):\n",
    "        self.name = name\n",
    "        self.d = 0 \n",
    "        self.f = 0\n",
    "        self.pi = 0  \n",
    "        self.key = 0\n",
    "        self.color = 'unknown'\n",
    "        self.edge = {}\n",
    "        self.number = float('inf')\n",
    "        \n",
    "class Graph: \n",
    "    \n",
    "    time = 0\n",
    "    \n",
    "    def __init__(self, graph_dict=None, w = None):\n",
    "        \n",
    "        # preprocessing\n",
    "        vertices = list(graph_dict.keys())\n",
    "        vertices.sort()\n",
    "        vertices\n",
    "        \n",
    "        if graph_dict == None:\n",
    "            graph_dict = {}\n",
    "        self.graph_dict = graph_dict\n",
    "        \n",
    "        # node object로 list 만듦\n",
    "        self.nodes = []\n",
    "        for n in list(vertices):\n",
    "            self.nodes.append(node(n))\n",
    "        \n",
    "        # node object로 dictionary 만듦\n",
    "        self.nm = {}\n",
    "        for k in range(len(vertices)):\n",
    "            self.nm[self.nodes[k].name] = self.nodes[k]\n",
    "            self.nodes[k].number = k\n",
    "        \n",
    "        # edge 를 w 에 의해 부여 \n",
    "        for j in range(len(vertices)):  # j vertex\n",
    "            for i in self.graph_dict[self.nodes[j].name]:      # i edge \n",
    "                self.nodes[j].edge[i] = w[self.nodes[j].name][i]             # allocate weight \n",
    "        self.weight_dict = w\n",
    "                \n",
    "    def remove_edge(self,u,v):\n",
    "        del self.nm[u].edge[v]\n",
    "        del self.weight_dict[u][v]\n",
    "    \n",
    "    # Graph 의 weight information all pair Matrix return \n",
    "    def myweight(self):\n",
    "        # preprocessing\n",
    "        vertices = list(self.graph_dict.keys())\n",
    "        vertices.sort()\n",
    "        vertices\n",
    "    \n",
    "        # node information \n",
    "        for v in vertices:\n",
    "            print(\"(node.number : \",self.nodes[self.nm[v].number].number, \", node.name : \",self.nodes[self.nm[v].number].name,\" )\" )\n",
    "        \n",
    "        import numpy as np\n",
    "        n = len(self.nodes)\n",
    "        W = np.ones((n,n))*float('inf')\n",
    "        \n",
    "        for i in range(n):\n",
    "            W[i][i] = 0\n",
    "        \n",
    "        for u in self.graph_dict:\n",
    "            for v in list(self.nm[u].edge):\n",
    "                if self.nm[u].edge[v] is not None: # from u to v weight\n",
    "                    W[self.nm[u].number][self.nm[v].number] = self.nm[u].edge[v]\n",
    "            \n",
    "        return W\n",
    "    \n",
    "    # Graph의 direct edge (0개의 vertex 거치는)Shortest path pi for all pair Information Matrix \n",
    "    def myinitialpi(self):\n",
    "        # preprocessing\n",
    "        vertices = list(self.graph_dict.keys())\n",
    "        vertices.sort()\n",
    "        vertices\n",
    "        \n",
    "        for v in vertices:\n",
    "            print(\"(node.number : \",self.nodes[self.nm[v].number].number, \", node.name : \",self.nodes[self.nm[v].number].name,\" )\" )\n",
    "            print(\" node.edge : \", self.nodes[self.nm[v].number].edge )\n",
    "\n",
    "        import numpy as np\n",
    "        n = len(self.nodes)\n",
    "        P = np.ones((n,n))*float('inf')\n",
    "        \n",
    "        for u in vertices:\n",
    "            for v in list(self.nm[u].edge):\n",
    "                if self.nm[u].edge[v] is not None: # from u to v weight\n",
    "                    P[self.nm[u].number][self.nm[v].number] =(self.nm[u].number) \n",
    "        \n",
    "        return P                 \n",
    "                \n",
    "                \n",
    "                \n",
    "    # sort the edge of G.E into nondecreasing order by weight w \n",
    "    def sort_edge(self):\n",
    "        import operator\n",
    "        temp = []\n",
    "    \n",
    "        for v in list(self.graph_dict.keys()):\n",
    "            for i in list(self.nm[v].edge):\n",
    "                temp.append((v,i,self.nm[v].edge[i]))\n",
    "\n",
    "        t = sorted(temp, key = operator.itemgetter(2), reverse = False)\n",
    "        #print(t)\n",
    "\n",
    "        srt = []\n",
    "        for m in range(len(t)): \n",
    "            srt.append([t[m][0],t[m][1]])\n",
    "        #print(srt,\"sort 이후 edge\")\n",
    "        return srt            \n",
    "                \n",
    "    \"\"\" DFS Algorithm running time : Θ(|V|+ |E|), 왜냐면, white 인 경우만 DFS_vist을 하므로\"\"\"\n",
    "    # except DFS_vist, T = Θ(|V|)\n",
    "    def DFS(self, a = []): # a = [] 이면 순서를 dict.keys() 순으로, o.w list (a)  순으로 searching \n",
    "    \n",
    "        # running time O(V + E)\n",
    "    \n",
    "        for u in list(self.graph_dict.keys()):   \n",
    "            self.nm[u].color = 'white'\n",
    "            self.nm[u].pi = None\n",
    "        \n",
    "        self.time = 0\n",
    "    \n",
    "        #print(\"Debug sorting \", a)\n",
    "        if a == []:\n",
    "            #print(self.graph_dict.keys(),\" 순으로 searching 하게 된다.\")\n",
    "            for u in list(self.graph_dict.keys()): \n",
    "                if self.nm[u].color == 'white':\n",
    "                    self.DFS_visit(u)\n",
    "        else:\n",
    "            #print(a,\" 순으로 searching 하게 된다.\")\n",
    "            for u in a: \n",
    "                if self.nm[u].color == 'white':\n",
    "                    self.DFS_visit(u)\n",
    "    \n",
    "    \n",
    "    # each DFS_vist, T = Θ(|V|)    \n",
    "    def DFS_visit(self,u):\n",
    "        self.time  = self.time + 1 \n",
    "        self.nm[u].d = self.time \n",
    "        self.nm[u].color = 'gray'\n",
    "    \n",
    "        #print(G.graph_dict[u] ,\" 순으로 vertex\", u, \" 의 adjoint list를 searching 하게 된다.\")\n",
    "        for v in list(self.graph_dict[u]):\n",
    "            if self.nm[v].color == 'white':\n",
    "                self.nm[v].pi  = u\n",
    "                self.DFS_visit(v)\n",
    "        self.nm[u].color = 'black'\n",
    "        self.time = self.time + 1 \n",
    "        self.nm[u].f = self.time    \n",
    "    \n",
    "\n",
    "    # graph 에서 모든 edge들의 우선순위를 지켜주는 linear ordering 을 찾아 주었다. \n",
    "    # DAG(directed Acyclic graph) 에서 사용 \n",
    "    def Topological_sort(self,l = []):\n",
    "        import operator\n",
    "        print(\"Topological_sort사용\")\n",
    "        self.DFS(l)\n",
    "    \n",
    "        # node object로 dictionary 만듦a\n",
    "        topo = {}\n",
    "        for k in range(len(list(self.graph_dict.keys()))):\n",
    "            topo[self.nodes[k].name] = self.nodes[k].f\n",
    "    \n",
    "        temp = sorted(topo.items(), key = operator.itemgetter(1), reverse = True)\n",
    "    \n",
    "        srt = []\n",
    "        for m in range(0,len(temp)):\n",
    "            srt.append(temp[m][0])    \n",
    "        print(srt, \"Topological sort 결과 \")\n",
    "        return srt \n",
    "    \n",
    "    \"\"\" single src shortest path operation \"\"\"\n",
    "    def initialize_single_source(self,s):\n",
    "        for v in list(self.graph_dict.keys()):\n",
    "            self.nm[v].d = float('inf')\n",
    "            self.nm[v].pi = None\n",
    "        self.nm[s].d = 0\n",
    "        # T = O(V)\n",
    "\n",
    "    def relax(self,u,v):\n",
    "        if self.nm[v].d > self.nm[u].d + self.nm[u].edge[v]:\n",
    "            #print(\">>> \",v,\".d 값을 \",u,\".d  + edge(\",u,\",\",v,\")로 update \")\n",
    "            self.nm[v].d = self.nm[u].d + self.nm[u].edge[v]\n",
    "            self.nm[v].pi = self.nm[u].name\n",
    "        # T = O(1)\n",
    "        \n",
    "    def showinfo(self):\n",
    "        print(self.graph_dict)\n",
    "        print(\" node dictionary : \")\n",
    "        print(self.nm)\n",
    "        \n",
    "        for v in list(self.graph_dict.keys()):\n",
    "            print(\">> [ \",v, \" node Info] : \")\n",
    "            print(v, \", edge: \", self.nm[v].edge)\n",
    "            print(v, \", pi: \", self.nm[v].pi)\n",
    "            print(v, \", d: \", self.nm[v].d)"
   ]
  },
  {
   "cell_type": "code",
   "execution_count": 2,
   "metadata": {},
   "outputs": [],
   "source": [
    "import random \n",
    "\n",
    "def approx_vertex_cover(G):\n",
    "    C = set([])           # set\n",
    "    Ep = G.sort_edge()    # list\n",
    "    print(Ep,\"  Ep list before starting while loop\")\n",
    "    \n",
    "    k = 0\n",
    "    \n",
    "    # O(E) // because all edges can be searched through this while loop \n",
    "    while Ep != []: \n",
    "        [u,v] = Ep.pop(random.randint(0, len(Ep)-1))\n",
    "        Ep.remove([v,u])\n",
    "        print(\"(\",u ,\",\",v ,\") selected and removed \")\n",
    "        print(\"(\",v ,\",\",u ,\") selected and removed \")\n",
    "        C.add(u)\n",
    "        C.add(v)        \n",
    "        \n",
    "        # remove from Ep every edge incident on either u or v  \n",
    "        for [U,V] in Ep:             \n",
    "            print(\"searching \",U,V,\" edge related to edge: \",u,v)\n",
    "            if U == u or U == v or V == u or V == v:\n",
    "                if [U, V] in Ep:\n",
    "                    Ep.remove([U,V])\n",
    "                    print(\"(\",U ,\",\",V ,\") removed\")\n",
    "                if [V, U] in Ep:\n",
    "                    Ep.remove([V,U])\n",
    "                    print(\"(\",V ,\",\",U ,\") removed\")\n",
    "            ## 오류 정정        \n",
    "            elif [U,u] in Ep or [U,v] in Ep \\\n",
    "                    or [u,U] in Ep or [v,U] in Ep \\\n",
    "                    or [V,u] in Ep or [V,v] in Ep \\\n",
    "                    or [u,V] in Ep or [v,V] in Ep: \n",
    "                #print(\"debug ###################\")\n",
    "                continue \n",
    "\n",
    "        print(\">>  \",C ,\"in C set \")\n",
    "        print(\">>>  \", Ep ,\"in Ep list \")\n",
    "    return C "
   ]
  },
  {
   "cell_type": "code",
   "execution_count": 3,
   "metadata": {},
   "outputs": [],
   "source": [
    "vertices = ['a','b','c','d','e','f','g']\n",
    "edges = [{'b'},{'a','c'},{'b','d','e'},{'c','e','f','g'},{'c','d','f'},{'e','d'},{'d'}]\n",
    "weights = [{'b':0 },{'a':0 ,'c':0 },{'b':0 ,'d':0 ,'e':0 },{'c':0 ,'e':0 ,'f':0 ,'g': 0},{'c':0 ,'d':0 ,'f':0 },{'e':0 ,'d':0 },{'d':0 }]\n",
    "g = {}\n",
    "w = {}\n",
    "k = 0\n",
    "for v in (vertices):\n",
    "    g[v] = edges[k]\n",
    "    w[v] = weights[k]  \n",
    "    k = k + 1\n",
    "G = Graph(g,w)"
   ]
  },
  {
   "cell_type": "code",
   "execution_count": 11,
   "metadata": {},
   "outputs": [
    {
     "name": "stdout",
     "output_type": "stream",
     "text": [
      "[['d', 'g'], ['d', 'e'], ['d', 'f'], ['d', 'c'], ['f', 'd'], ['f', 'e'], ['g', 'd'], ['b', 'c'], ['b', 'a'], ['e', 'd'], ['e', 'f'], ['e', 'c'], ['c', 'b'], ['c', 'e'], ['c', 'd'], ['a', 'b']]   Ep list before starting while loop\n",
      "( c , d ) selected and removed \n",
      "( d , c ) selected and removed \n",
      "searching  d g  edge related to edge:  c d\n",
      "( d , g ) removed\n",
      "( g , d ) removed\n",
      "searching  d f  edge related to edge:  c d\n",
      "( d , f ) removed\n",
      "( f , d ) removed\n",
      "searching  b c  edge related to edge:  c d\n",
      "( b , c ) removed\n",
      "( c , b ) removed\n",
      "searching  e d  edge related to edge:  c d\n",
      "( e , d ) removed\n",
      "( d , e ) removed\n",
      "searching  c e  edge related to edge:  c d\n",
      "( c , e ) removed\n",
      "( e , c ) removed\n",
      ">>   {'d', 'c'} in C set \n",
      ">>>   [['f', 'e'], ['b', 'a'], ['e', 'f'], ['a', 'b']] in Ep list \n",
      "( f , e ) selected and removed \n",
      "( e , f ) selected and removed \n",
      "searching  b a  edge related to edge:  f e\n",
      "searching  a b  edge related to edge:  f e\n",
      ">>   {'d', 'f', 'c', 'e'} in C set \n",
      ">>>   [['b', 'a'], ['a', 'b']] in Ep list \n",
      "( b , a ) selected and removed \n",
      "( a , b ) selected and removed \n",
      ">>   {'d', 'b', 'c', 'a', 'f', 'e'} in C set \n",
      ">>>   [] in Ep list \n"
     ]
    },
    {
     "data": {
      "text/plain": [
       "{'a', 'b', 'c', 'd', 'e', 'f'}"
      ]
     },
     "execution_count": 11,
     "metadata": {},
     "output_type": "execute_result"
    }
   ],
   "source": [
    "approx_vertex_cover(G) "
   ]
  }
 ],
 "metadata": {
  "kernelspec": {
   "display_name": "Python 3",
   "language": "python",
   "name": "python3"
  },
  "language_info": {
   "codemirror_mode": {
    "name": "ipython",
    "version": 3
   },
   "file_extension": ".py",
   "mimetype": "text/x-python",
   "name": "python",
   "nbconvert_exporter": "python",
   "pygments_lexer": "ipython3",
   "version": "3.5.2"
  }
 },
 "nbformat": 4,
 "nbformat_minor": 2
}
