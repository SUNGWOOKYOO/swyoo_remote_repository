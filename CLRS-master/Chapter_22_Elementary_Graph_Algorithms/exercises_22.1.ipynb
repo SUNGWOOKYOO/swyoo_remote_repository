{
 "cells": [
  {
   "cell_type": "markdown",
   "metadata": {},
   "source": [
    "## 22.1 Representations of graphs"
   ]
  },
  {
   "cell_type": "markdown",
   "metadata": {},
   "source": [
    "### 22.1-1\n",
    "\n",
    "> Given an adjacency-list representation of a directed graph, how long does it take to compute the out-degree of every vertex? How long does it take to compute the in-degrees?"
   ]
  },
  {
   "cell_type": "markdown",
   "metadata": {},
   "source": [
    "* Out-degree: $O(V + E)$.\n",
    "* In-degree: $O(V + E)$."
   ]
  },
  {
   "cell_type": "markdown",
   "metadata": {},
   "source": [
    "### 22.1-2\n",
    "\n",
    "> Give an adjacency-list representation for a complete binary tree on 7 vertices. Give an equivalent adjacency-matrix representation. Assume that vertices are numbered from 1 to 7 as in a binary heap."
   ]
  },
  {
   "cell_type": "markdown",
   "metadata": {},
   "source": [
    "* Adjacency-list representation\n",
    "\n",
    "$1 \\rightarrow 2 \\rightarrow 3$\n",
    "\n",
    "$2 \\rightarrow 1 \\rightarrow 4 \\rightarrow 5$\n",
    "\n",
    "$3 \\rightarrow 1 \\rightarrow 6 \\rightarrow 7$\n",
    "\n",
    "$4 \\rightarrow 2$\n",
    "\n",
    "$5 \\rightarrow 2$\n",
    "\n",
    "$6 \\rightarrow 3$\n",
    "\n",
    "$7 \\rightarrow 3$\n",
    "\n",
    "* Adjacency-matrix representation\n",
    "\n",
    "$$\\left \\{ \\begin{matrix}\n",
    "0 & 1 & 1 & 0 & 0 & 0 & 0 \\\\\n",
    "1 & 0 & 0 & 1 & 1 & 0 & 0 \\\\\n",
    "1 & 0 & 0 & 0 & 0 & 1 & 1 \\\\\n",
    "0 & 1 & 0 & 0 & 0 & 0 & 0 \\\\\n",
    "0 & 1 & 0 & 0 & 0 & 0 & 0 \\\\\n",
    "0 & 0 & 1 & 0 & 0 & 0 & 0 \\\\\n",
    "0 & 0 & 1 & 0 & 0 & 0 & 0 \\\\\n",
    "\\end{matrix} \\right \\}$$"
   ]
  },
  {
   "cell_type": "markdown",
   "metadata": {},
   "source": [
    "### 22.1-3\n",
    "\n",
    "> The __*transpose*__ of a directed graph $G = (V, E)$ is the graph $G^\\text{T} = (V, E^\\text{T})$, where $E^\\text{T} = \\{ (v, u) \\in V \\times V: (u, v) \\in E \\}$. Thus, $G^\\text{T}$ is $G$ with all its edges reversed. Describe efficient algorithms for computing $G^\\text{T}$ from $G$, for both the adjacency-list and adjacency-matrix representations of $G$. Analyze the running times of your algorithms."
   ]
  },
  {
   "cell_type": "markdown",
   "metadata": {},
   "source": [
    "* Adjacency-list representation\n",
    "\n",
    "Reconstruct, $O(V + E)$.\n",
    "\n",
    "* Adjacency-matrix representation\n",
    "\n",
    "Transpose matrix, $O(V^2)$."
   ]
  },
  {
   "cell_type": "markdown",
   "metadata": {},
   "source": [
    "### 22.1-4\n",
    "\n",
    "> Given an adjacency-list representation of a multigraph $G = (V, E)$, describe an $O(V + E)$-time algorithm to compute the adjacency-list representation of the \"equivalent\" undirected graph $G' = (V, E')$, where $E'$ consists of the edges in $E$ with all multiple edges between two vertices replaced by a single edge and with all self-loops removed."
   ]
  },
  {
   "cell_type": "markdown",
   "metadata": {},
   "source": [
    "Merge sort."
   ]
  },
  {
   "cell_type": "markdown",
   "metadata": {},
   "source": [
    "### 22.1-5\n",
    "\n",
    "> The __*square*__ of a directed graph $G = (V, E)$ is the graph $G^2 = (V, E^2)$ such that $(u, v) \\in E^2$ if and only $G$ contains a path with at most two edges between $u$ and $v$. Describe efficient algorithms for computing $G^2$ from $G$ for both the adjacency-list and adjacency-matrix representations of $G$. Analyze the running times of your algorithms."
   ]
  },
  {
   "cell_type": "markdown",
   "metadata": {},
   "source": [
    "* Adjacency-list representation\n",
    "\n",
    "```\n",
    "for i in Adj[u]\n",
    "    Adj^2[u].append(i)\n",
    "    for j in Adj[i]\n",
    "        Adj^2[u].append(j)\n",
    "```\n",
    "\n",
    "The running time depends on the distribution of edges.\n",
    "\n",
    "* Adjacency-matrix representation\n",
    "\n",
    "```\n",
    "for i = 1 to V\n",
    "    for j = 1 to V\n",
    "        if a_{ij} = 1\n",
    "            a^2_{ij} = 1\n",
    "        else\n",
    "            for k = 1 to V\n",
    "                if a_{ik} == 1 and a_{kj} == 1:\n",
    "                    a^2_{ij} = 1\n",
    "                    break\n",
    "```\n",
    "\n",
    "$O(V^3)$."
   ]
  },
  {
   "cell_type": "markdown",
   "metadata": {},
   "source": [
    "### 22.1-6\n",
    "\n",
    "> Most graph algorithms that take an adjacency-matrix representation as input require time $\\Omega(V^2)$, but there are some exceptions. Show how to determine whether a directed graph $G$ contains a __*universal sink*__ - a vertex with in-degree $|V| - 1$ and out-degree 0 - in time $O(V)$, given an adjacency matrix for $G$."
   ]
  },
  {
   "cell_type": "markdown",
   "metadata": {},
   "source": [
    "Starting from $a_{11}$, if $a_{ij} = 0$ then $j = j + 1$, otherwise $i = i + 1$."
   ]
  },
  {
   "cell_type": "markdown",
   "metadata": {},
   "source": [
    "### 22.1-7\n",
    "\n",
    "> The __*incidence matrix*__ of a directed graph $G = (V, E)$ with no self-loops is a $|V| \\times |E|$ matrix $B = (b_{ij})$ such that\n",
    "\n",
    "> $$\n",
    "b_{ij} = \\left \\{\n",
    "\\begin{array}{rl}\n",
    "-1 & \\text{if edge}~j~\\text{leaves vertex}~i, \\\\\n",
    "1 & \\text{if edge}~j~\\text{enters vertex}~i, \\\\\n",
    "0 & \\text{otherwise}. \\\\\n",
    "\\end{array}\n",
    "\\right .\n",
    "$$\n",
    "> Describe what the entries of the matrix product $BB^T$ represent, where $B^T$ is the transpose of $B$."
   ]
  },
  {
   "cell_type": "markdown",
   "metadata": {},
   "source": [
    "$(BB^T)_{ij} = \\sum_{k \\in E} b_{ik} \\cdot b_{jk}$, the result of $b_{ik} \\cdot b_{jk}$ could be 0, 1 and -1. 0 indicates $i$ and $j$ are not connected by edge $k$; 1 indicates $i = j$; -1 indicates there is an edge from $i$ to $j$ or from $j$ to $i$. Therefore, if $i=j$, $(BB^T)_{ij}$ is the degree of vertex $i$; if $i \\ne j$, $(BB^T)_{ij}$ is the negative of number of edges connecting $i$ and $j$."
   ]
  },
  {
   "cell_type": "markdown",
   "metadata": {},
   "source": [
    "### 22.1-8\n",
    "\n",
    "> Suppose that instead of a linked list, each array entry $Adj[u]$ is a hash table containing the vertices $v$ for which $(u, v) \\in E$. If all edge lookups are equally likely, what is the expected time to determine whether an edge is in the graph? What disadvantages does this scheme have? Suggest an alternate data structure for each edge list that solves these problems. Does your alternative have disadvantages compared to the hash table?"
   ]
  },
  {
   "cell_type": "markdown",
   "metadata": {},
   "source": [
    "* Expected time: $O(1)$.\n",
    "* Disadvantages: More space.\n",
    "* Alternative: BST, RB-Trees, ...\n",
    "\n",
    "* Disadvantages: $O(\\lg n)$."
   ]
  },
  {
   "cell_type": "code",
   "execution_count": 28,
   "metadata": {},
   "outputs": [],
   "source": [
    "class node: \n",
    "    \n",
    "    def __init__ (self, name):\n",
    "        self.name = name\n",
    "        self.d = 0 \n",
    "        self.pi = 0  \n",
    "        self.color = 'unknown'\n",
    "\n",
    "class Graph: \n",
    "    def __init__(self, graph_dict=None):\n",
    "        if graph_dict == None:\n",
    "            graph_dict = {}\n",
    "        self.graph_dict = graph_dict\n",
    "        \n",
    "        self.nodes = []\n",
    "        for n in list(self.graph_dict.keys()):\n",
    "            #print(n, node(n).d)\n",
    "            #nd = node(n)\n",
    "            #print(nd.d)\n",
    "            self.nodes.append(node(n))\n",
    "            \n",
    "        self.nm = {}\n",
    "        for k in range(len(list(self.graph_dict.keys()))):\n",
    "            self.nm[self.nodes[k].name] = self.nodes[k]\n",
    "            "
   ]
  },
  {
   "cell_type": "code",
   "execution_count": 29,
   "metadata": {},
   "outputs": [],
   "source": [
    "from collections import deque\n",
    "\n",
    "def BFS(G): # s 에서 시작하도록 함. \n",
    "    \n",
    "    # running time O(V + E)\n",
    "    \n",
    "    for u in list(G.graph_dict.keys() - {'s'}):   \n",
    "        G.nm[u].color = 'white'\n",
    "        G.nm[u].d = float('inf')\n",
    "        G.nm[u].pi = None\n",
    "    \n",
    "    G.nm['s'].color = 'gray'\n",
    "    G.nm['s'].d = 0\n",
    "    G.nm['s'].pi = None\n",
    "    \n",
    "    Q = deque()\n",
    "    Q.append('s')\n",
    "    \n",
    "    while deque([]) != Q:\n",
    "        u = Q.popleft()                    # Dequeue \n",
    "        \n",
    "        for v in list(G.graph_dict[u]):    # vertex u 에 대한 adjacent 표현  u 가 가리키는 list의 vertex들을 의미(edge들)\n",
    "            if G.nm[v].color == 'white':\n",
    "                G.nm[v].color = 'gray'\n",
    "                G.nm[v].d = G.nm[u].d + 1\n",
    "                G.nm[v].pi  = u            # updating predecessor \n",
    "                Q.append(v)                # Enqueue \n",
    "        G.nm[u].color = 'black'\n",
    "    \n",
    "    print(Q)\n",
    "    \n",
    "    for x in list(G.graph_dict.keys()):\n",
    "        print(\"vertex name\", G.nm[x].name)\n",
    "        print(\"color 값\", G.nm[x].color)\n",
    "        print(\"d 값\", G.nm[x].d)\n",
    "        print(\"pi 값\", G.nm[x].pi)"
   ]
  },
  {
   "cell_type": "code",
   "execution_count": 30,
   "metadata": {},
   "outputs": [
    {
     "name": "stdout",
     "output_type": "stream",
     "text": [
      "dict_keys(['x', 'w', 'v', 'y', 's', 'u', 'r', 't'])\n",
      "[<__main__.node object at 0x000000602F33F358>, <__main__.node object at 0x000000602F33F3C8>, <__main__.node object at 0x000000602F33FF60>, <__main__.node object at 0x000000602F33F2B0>, <__main__.node object at 0x000000602F33F470>, <__main__.node object at 0x000000602F33F780>, <__main__.node object at 0x000000602F33F4E0>, <__main__.node object at 0x000000602F33FD68>]\n",
      "0\n",
      "Breadh first search result: \n",
      "deque([])\n",
      "vertex name x\n",
      "color 값 black\n",
      "d 값 2\n",
      "pi 값 w\n",
      "vertex name w\n",
      "color 값 black\n",
      "d 값 1\n",
      "pi 값 s\n",
      "vertex name v\n",
      "color 값 black\n",
      "d 값 2\n",
      "pi 값 r\n",
      "vertex name y\n",
      "color 값 black\n",
      "d 값 3\n",
      "pi 값 x\n",
      "vertex name s\n",
      "color 값 black\n",
      "d 값 0\n",
      "pi 값 None\n",
      "vertex name u\n",
      "color 값 black\n",
      "d 값 3\n",
      "pi 값 x\n",
      "vertex name r\n",
      "color 값 black\n",
      "d 값 1\n",
      "pi 값 s\n",
      "vertex name t\n",
      "color 값 black\n",
      "d 값 2\n",
      "pi 값 w\n"
     ]
    }
   ],
   "source": [
    "g = {'r': set(['s', 'v']),\n",
    "     's': set(['r', 'w']),\n",
    "     't': set(['u', 'w', 'x']),\n",
    "     'u': set(['t', 'w', 'x']),\n",
    "     'v': set(['r']),\n",
    "     'w': set(['s', 't', 'x']),\n",
    "     'x': set(['t', 'u', 'w', 'y']),\n",
    "     'y': set(['u', 'x'])}\n",
    "\n",
    "G=Graph(g)\n",
    "print(G.graph_dict.keys())\n",
    "print(G.nodes)\n",
    "print(G.nm['x'].d)\n",
    "\n",
    "print(\"Breadh first search result: \")\n",
    "BFS(G) # s 에서 시작하도록 함 (s값을 넣지 않아도)\n"
   ]
  }
 ],
 "metadata": {
  "kernelspec": {
   "display_name": "Python 3",
   "language": "python",
   "name": "python3"
  },
  "language_info": {
   "codemirror_mode": {
    "name": "ipython",
    "version": 3
   },
   "file_extension": ".py",
   "mimetype": "text/x-python",
   "name": "python",
   "nbconvert_exporter": "python",
   "pygments_lexer": "ipython3",
   "version": "3.5.2"
  }
 },
 "nbformat": 4,
 "nbformat_minor": 2
}
