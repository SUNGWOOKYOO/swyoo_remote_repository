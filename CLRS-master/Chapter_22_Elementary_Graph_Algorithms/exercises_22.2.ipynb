{
 "cells": [
  {
   "cell_type": "markdown",
   "metadata": {},
   "source": [
    "## 22.2 Breadth-first search"
   ]
  },
  {
   "cell_type": "markdown",
   "metadata": {},
   "source": [
    "### 22.2-1\n",
    "\n",
    "> Show the $d$ and $\\pi$ values that result from running breadth-first search on the directed graph of Figure 22.2(a), using vertex 3 as the source."
   ]
  },
  {
   "cell_type": "markdown",
   "metadata": {},
   "source": [
    "| \\ | 1 | 2 | 3 | 4 | 5 | 6 |\n",
    "|:-:|:-:|:-:|:-:|:-:|:-:|:-:|\n",
    "| $d$ | $\\infty$ | 3 | 0 | 2 | 1 | 1 |\n",
    "| $\\pi$ | NIL | 4 | NIL | 5 | 3 | 3 |"
   ]
  },
  {
   "cell_type": "markdown",
   "metadata": {},
   "source": [
    "### 22.2-2\n",
    "\n",
    "> Show the $d$ and $\\pi$ values that result from running breadth-first search on the undirected graph of Figure 22.3, using vertex $u$ as the source."
   ]
  },
  {
   "cell_type": "markdown",
   "metadata": {},
   "source": [
    "| \\ | $r$ | $s$ | $t$ | $u$ | $v$ | $w$ | $x$ | $y$ |\n",
    "|:-:|:-:|:-:|:-:|:-:|:-:|:-:|:-:|:-:|\n",
    "| $d$ | 4 | 3 | 1 | 0 | 5 | 2 | 1 | 1 |\n",
    "| $\\pi$ | $s$ | $w$ | $u$ | NIL | $r$ | $x$ | $u$ | $u$ |"
   ]
  },
  {
   "cell_type": "markdown",
   "metadata": {},
   "source": [
    "### 22.2-3\n",
    "\n",
    "> Show that using a single bit to store each vertex color suffices by arguing that the BFS procedure would produce the same result if lines 5 and 14 were removed."
   ]
  },
  {
   "cell_type": "markdown",
   "metadata": {},
   "source": [
    "Duplicate."
   ]
  },
  {
   "cell_type": "markdown",
   "metadata": {},
   "source": [
    "### 22.2-4\n",
    "\n",
    "> What is the running time of BFS if we represent its input graph by an adjacency matrix and modify the algorithm to handle this form of input?"
   ]
  },
  {
   "cell_type": "markdown",
   "metadata": {},
   "source": [
    "$\\Theta(V^2)$."
   ]
  },
  {
   "cell_type": "markdown",
   "metadata": {},
   "source": [
    "### 22.2-5\n",
    "\n",
    "> Argue that in a breadth-first search, the value $u.d$ assigned to a vertex $u$ is independent of the order in which the vertices appear in each adjacency list. Using Figure 22.3 as an example, show that the breadth-first tree computed by BFS can depend on the ordering within adjacency lists."
   ]
  },
  {
   "cell_type": "markdown",
   "metadata": {},
   "source": [
    "$\\delta$"
   ]
  },
  {
   "cell_type": "markdown",
   "metadata": {},
   "source": [
    "### 22.2-6\n",
    "\n",
    "> Give an example of a directed graph $G = (V, E)$, a source vertex $s \\in V$, and a set of tree edges $E_\\pi \\subseteq E$ such that for each vertex $v \\in V$, the unique simple path in the graph $(V, E_\\pi)$ from $s$ to $v$ is a shortest path in $G$, yet the set of edges $E_\\pi$ cannot be produced by running BFS on $G$, no matter how the vertices are ordered in each adjacency list."
   ]
  },
  {
   "cell_type": "markdown",
   "metadata": {},
   "source": [
    "![](./img/22.2-6_1.png)"
   ]
  },
  {
   "cell_type": "markdown",
   "metadata": {},
   "source": [
    "### 22.2-7\n",
    "\n",
    "> There are two types of professional wrestlers: \"babyfaces\" (\"good guys\") and \"heels\" (\"bad guys\"). Between any pair of professional wrestlers, there may or may not be a rivalry. Suppose we have $n$ professional wrestlers and we have a list of $r$ pairs of wrestlers for which there are rivalries. Give an $O(n+r)$-time algorithm that determines whether it is possible to designate some of the wrestlers as babyfaces and the remainder as heels such that each rivalry is between a babyface and a heel. If it is possible to perform such a designation, your algorithm should produce it."
   ]
  },
  {
   "cell_type": "markdown",
   "metadata": {},
   "source": [
    "BFS, the new reachable node should have a different type. If the new node already have the same type with the current node, then it is impossible to perform such a designation."
   ]
  },
  {
   "cell_type": "markdown",
   "metadata": {},
   "source": [
    "### 22.2-8 $\\star$\n",
    "\n",
    "> The __*diameter*__ of a tree $T = (V, E)$ is defined as $\\max_{u,v \\in V}\\delta(u,v)$, that is, the largest of all shortest-path distances in the tree. Give an efficient algorithm to compute the diameter of a tree, and analyze the running time of your algorithm."
   ]
  },
  {
   "cell_type": "markdown",
   "metadata": {},
   "source": [
    "BFS with a random node as the source, then BFS from the node with the largest $\\delta$, the largest $\\delta$ in the second BFS is the diameter of the tree, $O(V + E)$."
   ]
  },
  {
   "cell_type": "markdown",
   "metadata": {},
   "source": [
    "### 22.2-9\n",
    "\n",
    "> Let $G = (V, E)$ be a connected, undirected graph. Give an $O(V + E)$-time algorithm to compute a path in $G$ that traverses each edge in $E$ exactly once in each direction. Describe how you can find your way out of a maze if you are given a large supply of pennies."
   ]
  },
  {
   "cell_type": "markdown",
   "metadata": {},
   "source": [
    "Eulerian path."
   ]
  },
  {
   "cell_type": "markdown",
   "metadata": {},
   "source": [
    "# Data type in python "
   ]
  },
  {
   "cell_type": "code",
   "execution_count": 1,
   "metadata": {},
   "outputs": [
    {
     "name": "stdout",
     "output_type": "stream",
     "text": [
      "[1]\n",
      "[1, 2]\n",
      "[1, 2, 3]\n",
      "3\n",
      "[1, 2]\n",
      "2\n",
      "[1]\n",
      "1\n",
      "[]\n",
      "[1]\n",
      "[1, 2]\n",
      "[1, 2, 3]\n",
      "1\n",
      "[2, 3]\n",
      "2\n",
      "[3]\n",
      "3\n",
      "[]\n",
      "deque([1])\n",
      "deque([1, 2])\n",
      "1\n",
      "deque([2])\n",
      "2\n",
      "deque([])\n"
     ]
    }
   ],
   "source": [
    "stack = []\n",
    "stack.append(1)\n",
    "print(stack)\n",
    "stack.append(2)\n",
    "print(stack)\n",
    "stack.append(3)\n",
    "print(stack)\n",
    "print(stack.pop()) # 3\n",
    "print(stack)\n",
    "print(stack.pop()) # 2\n",
    "print(stack)\n",
    "print(stack.pop()) # 1 \n",
    "print(stack)\n",
    "\n",
    "queue = []\n",
    "queue.append(1)\n",
    "print(queue)\n",
    "queue.append(2)\n",
    "print(queue)\n",
    "queue.append(3)\n",
    "print(queue)\n",
    "print(queue.pop(0)) # 1\n",
    "print(queue)\n",
    "print(queue.pop(0)) # 2\n",
    "print(queue)\n",
    "print(queue.pop(0)) # 3\n",
    "print(queue)\n",
    "\n",
    "from collections import deque # (*deque는 double ended queue의 약자입니다)\n",
    "queue = deque()\n",
    "queue.append(1)\n",
    "print(queue)\n",
    "queue.append(2)\n",
    "print(queue)\n",
    "print(queue.popleft()) # 1\n",
    "print(queue)\n",
    "print(queue.popleft()) # 2\n",
    "print(queue)\n"
   ]
  },
  {
   "cell_type": "code",
   "execution_count": 2,
   "metadata": {},
   "outputs": [
    {
     "name": "stdout",
     "output_type": "stream",
     "text": [
      "{1: 'a', 2: 'b', 'name': 'pey'}\n",
      "dict_keys([1, 2])\n",
      "dict_values(['a', 'b'])\n",
      "dict_items([(1, 'a'), (2, 'b')])\n",
      "{1: 'a', 2: 'b'}\n",
      "a\n",
      "a\n",
      "True\n",
      "False\n"
     ]
    }
   ],
   "source": [
    "dic = {1: 'a'}  # dictionary type : {key : value} 단, 중복된 key를 사용하지 말것 \n",
    "dic[2] = 'b'\n",
    "dic['name'] = 'pey'\n",
    "print(dic)\n",
    "del dic['name']\n",
    "print(dic.keys())\n",
    "print(dic.values())\n",
    "print(dic.items())\n",
    "print(dic)\n",
    "\n",
    "# key로 value 얻기 \n",
    "print(dic.get(1))   # 존재하지 않는 경우, None\n",
    "print(dic[1])       # 존재하지 않는 경우, 오류발생\n",
    "\n",
    "# dictionary 조사 \n",
    "print(1 in dic) \n",
    "print(3 in dic) "
   ]
  },
  {
   "cell_type": "code",
   "execution_count": 3,
   "metadata": {},
   "outputs": [
    {
     "name": "stdout",
     "output_type": "stream",
     "text": [
      "{1, 2, 3} {2, 5, 6}\n",
      "{2}\n",
      "{1, 2, 3, 5, 6}\n",
      "{1, 3}\n",
      "{1, 2, 3, 4}\n",
      "{1, 2, 3, 4, 5, 6}\n",
      "{1, 2, 3, 4, 6}\n"
     ]
    }
   ],
   "source": [
    "# set data type \n",
    "# 중복을 허용하지 않으며, 순서가 없다. \n",
    "s1 = set([1,2,3])\n",
    "s2 = {2,5,6}\n",
    "print(s1, s2)\n",
    "print(s1 & s2) # print(s1.intersection(s2))\n",
    "print(s1 | s2) # print(s1.union(s2))\n",
    "print(s1 - s2) # print(s1.difference(s2))\n",
    "s1.add(4)\n",
    "print(s1)\n",
    "s1.update([5,6])\n",
    "print(s1)\n",
    "s1.remove(5)\n",
    "print(s1)"
   ]
  },
  {
   "cell_type": "markdown",
   "metadata": {},
   "source": [
    "# Hw\n",
    "\n",
    "BFS algorithm implementation \n",
    "\n",
    "\n"
   ]
  },
  {
   "cell_type": "code",
   "execution_count": 9,
   "metadata": {},
   "outputs": [],
   "source": [
    "def BFS(G): # s 에서 시작하도록 함. \n",
    "    \n",
    "    for u in list(G.graph_dict.keys() - {'s'}):   \n",
    "        G.color[u] = 'white'\n",
    "        G.d[u] = float('inf')\n",
    "        G.pi[u] = None\n",
    "    \n",
    "    G.color['s'] = 'gray'\n",
    "    G.d['s'] = 0\n",
    "    G.pi['s'] = None\n",
    "    \n",
    "    Q = deque()\n",
    "    Q.append('s')\n",
    "    \n",
    "    while deque([]) != Q:\n",
    "        u = Q.popleft()\n",
    "        \n",
    "        for v in list(G.graph_dict[u]):\n",
    "            if G.color[v] == 'white':\n",
    "                G.color[v] = 'gray'\n",
    "                G.d[v] = G.d[u] + 1\n",
    "                G.pi[v]  = u\n",
    "                Q.append(v)\n",
    "        G.color[u] = 'black'\n",
    "    \n",
    "    print(Q)\n",
    "    print(\"color 값\", G.color)\n",
    "    print(\"d 값\", G.d)\n",
    "    print(\"pi 값\", G.pi)\n"
   ]
  },
  {
   "cell_type": "code",
   "execution_count": 25,
   "metadata": {},
   "outputs": [],
   "source": [
    "def print_path(G,s,v):\n",
    "    if v == s:\n",
    "        print(s)\n",
    "    elif G.pi[v] == None:\n",
    "        print(\"no path from s to v \")\n",
    "    else:\n",
    "        print_path(G,s,G.pi[v])\n",
    "        print(v)"
   ]
  },
  {
   "cell_type": "code",
   "execution_count": 29,
   "metadata": {},
   "outputs": [],
   "source": [
    "from collections import deque\n",
    "\n",
    "class Graph: \n",
    "    \n",
    "    def __init__(self, graph_dict=None):\n",
    "        if graph_dict == None:\n",
    "            graph_dict = {}\n",
    "        self.graph_dict = graph_dict\n",
    "        \n",
    "        self.color = {'r': None , 's': None , 't': None , 'u': None , 'v': None, 'w': None, 'x': None , 'y': None}\n",
    "        self.d = {'r': None , 's': None , 't': None , 'u': None , 'v': None, 'w': None, 'x': None , 'y': None}\n",
    "        self.pi = {'r': None , 's': None , 't': None , 'u': None , 'v': None, 'w': None, 'x': None , 'y': None}\n"
   ]
  },
  {
   "cell_type": "code",
   "execution_count": 30,
   "metadata": {},
   "outputs": [
    {
     "name": "stdout",
     "output_type": "stream",
     "text": [
      "Breadh first search result: \n",
      "deque([])\n",
      "color 값 {'t': 'black', 'r': 'black', 'y': 'black', 'v': 'black', 's': 'black', 'w': 'black', 'x': 'black', 'u': 'black'}\n",
      "d 값 {'t': 2, 'r': 1, 'y': 3, 'v': 2, 's': 0, 'w': 1, 'x': 2, 'u': 3}\n",
      "pi 값 {'t': 'w', 'r': 's', 'y': 'x', 'v': 'r', 's': None, 'w': 's', 'x': 'w', 'u': 't'}\n",
      "print shortest path from s to y result: \n",
      "s\n",
      "w\n",
      "x\n",
      "y\n"
     ]
    }
   ],
   "source": [
    "g = {'r': set(['s', 'v']),\n",
    "     's': set(['r', 'w']),\n",
    "     't': set(['u', 'w', 'x']),\n",
    "     'u': set(['t', 'w', 'x']),\n",
    "     'v': set(['r']),\n",
    "     'w': set(['s', 't', 'x']),\n",
    "     'x': set(['t', 'u', 'w', 'y']),\n",
    "     'y': set(['u', 'x'])}\n",
    "\n",
    "G=Graph(g)\n",
    "\n",
    "print(\"Breadh first search result: \")\n",
    "BFS(G) # s 에서 시작하도록 함 (s값을 넣지 않아도)\n",
    "\n",
    "print(\"print shortest path from s to y result: \")\n",
    "print_path(G,'s','y')"
   ]
  }
 ],
 "metadata": {
  "kernelspec": {
   "display_name": "Python 3",
   "language": "python",
   "name": "python3"
  },
  "language_info": {
   "codemirror_mode": {
    "name": "ipython",
    "version": 3
   },
   "file_extension": ".py",
   "mimetype": "text/x-python",
   "name": "python",
   "nbconvert_exporter": "python",
   "pygments_lexer": "ipython3",
   "version": "3.5.2"
  }
 },
 "nbformat": 4,
 "nbformat_minor": 2
}
