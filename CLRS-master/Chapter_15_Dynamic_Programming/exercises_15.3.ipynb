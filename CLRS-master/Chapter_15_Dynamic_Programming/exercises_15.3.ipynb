{
 "cells": [
  {
   "cell_type": "markdown",
   "metadata": {},
   "source": [
    "## 15.3 Elements of dynamic programming"
   ]
  },
  {
   "cell_type": "markdown",
   "metadata": {},
   "source": [
    "### 15.3-1\n",
    "\n",
    "> Which is a more efficient way to determine the optimal number of multiplications in a matrix-chain multiplication problem: enumerating all the ways of parenthesizing the product and computing the number of multiplications for each, or running RECURSIVE-MATRIX-CHAIN? Justify your answer."
   ]
  },
  {
   "cell_type": "markdown",
   "metadata": {},
   "source": [
    "RECURSIVE-MATRIX-CHAIN"
   ]
  },
  {
   "cell_type": "markdown",
   "metadata": {},
   "source": [
    "### 15.3-2\n",
    "\n",
    "> Draw the recursion tree for the MERGE-SORT procedure from Section 2.3.1 on an array of 16 elements. Explain why memoization fails to speed up a good divide-and-conquer algorithm such as MERGE-SORT."
   ]
  },
  {
   "cell_type": "markdown",
   "metadata": {},
   "source": [
    "It's not overlapping."
   ]
  },
  {
   "cell_type": "markdown",
   "metadata": {},
   "source": [
    "### 15.3-3\n",
    "\n",
    "> Consider a variant of the matrix-chain multiplication problem in which the goal is to parenthesize the sequence of matrices so as to maximize, rather than minimize, the number of scalar multiplications. Does this problem exhibit optimal substructure?"
   ]
  },
  {
   "cell_type": "markdown",
   "metadata": {},
   "source": [
    "Yes."
   ]
  },
  {
   "cell_type": "markdown",
   "metadata": {},
   "source": [
    "### 15.3-4\n",
    "\n",
    "> As stated, in dynamic programming we first solve the subproblems and then choose which of them to use in an optimal solution to the problem. Professor Capulet claims that we do not always need to solve all the subproblems in order to find an optimal solution. She suggests that we can find an optimal solution to the matrix-chain multiplication problem by always choosing the matrix $A_k$ at which to split the subproduct $A_iA_{i+1} \\cdots A_j$ (by selecting $k$ to minimize the quantity $p_{i-1}p_kp_j$) before solving the subproblems. Find an instance of the matrix-chain multiplication problem for which this greedy approach yields a suboptimal solution."
   ]
  },
  {
   "cell_type": "markdown",
   "metadata": {},
   "source": [
    "### 15.3-5\n",
    "\n",
    "> Suppose that in the rod-cutting problem of Section 15.1, we also had limit $l_i$ on the number of pieces of length $i$ that we are allowed to produce, for $i = 1,2, \\dots ,n$. Show that the optimal-substructure property described in Section 15.1 no longer holds."
   ]
  },
  {
   "cell_type": "markdown",
   "metadata": {},
   "source": [
    "Not independent."
   ]
  },
  {
   "cell_type": "markdown",
   "metadata": {},
   "source": [
    "### 15.3-6\n",
    "\n",
    "> Imagine that you wish to exchange one currency for another. You realize that instead of directly exchanging one currency for another, you might be better off making a series of trades through other currencies, winding up with the currency you want. Suppose that you can trade $n$ different currencies, numbered $1,2,\\dots,n$, where you start with currency $1$ and wish to wind up with currency $n$. You are given, for each pair of currencies $i$ and $j$ , an exchange rate $r_{ij}$, meaning that if you start with $d$ units of currency $i$ , you can trade for $dr_{ij}$ units of currency $j$. A sequence of trades may entail a commission, which depends on the number of trades you make. Let $c_k$ be the commission that you are charged when you make $k$ trades. Show that, if $c_k = 0$ for all $k = 1,2, \\dots, n$, then the problem of finding the best sequence of exchanges from currency $1$ to currency $n$ exhibits optimal substructure. Then show that if commissions $c_k$ are arbitrary values, then the problem of finding the best sequence of exchanges from currency $1$ to currency $n$ does not necessarily exhibit optimal substructure."
   ]
  },
  {
   "cell_type": "markdown",
   "metadata": {},
   "source": [
    "$c_k=0$: $\\displaystyle r_{ij} = \\max_k{r_{ik} \\cdot r_{kj}}$.\n",
    "\n",
    "If $c_k$ are arbitrary values, then it's not independent."
   ]
  },
  {
   "cell_type": "markdown",
   "metadata": {},
   "source": [
    "# Hw\n",
    " \n",
    "Matrix chain multiplication problem\n",
    "\n",
    "1. recursive \n",
    "\n",
    "2. top down with memo \n",
    "\n",
    "3. bottom up \n"
   ]
  },
  {
   "cell_type": "code",
   "execution_count": 7,
   "metadata": {},
   "outputs": [],
   "source": [
    "# 1 .recursive \n",
    "def recursive_matrix_chain(p,i,j,m):\n",
    "    if i==j:\n",
    "        return 0\n",
    "    \n",
    "    m[i][j] = float('inf')\n",
    "    \n",
    "    for k in range(i, j):\n",
    "        q = recursive_matrix_chain(p,i,k,m) + recursive_matrix_chain(p,k+1,j,m) + p[i-1]*p[k]*p[j]\n",
    "        \n",
    "        if q < m[i][j]:\n",
    "            m[i][j] = q\n",
    "        \n",
    "    return m[i][j]"
   ]
  },
  {
   "cell_type": "code",
   "execution_count": 28,
   "metadata": {},
   "outputs": [],
   "source": [
    "# 2. top down with memo \n",
    "import numpy as np\n",
    "\n",
    "def memoized_matrix_chain(p):\n",
    "    n = len(p) - 1 \n",
    "    m = np.ones([len(p),len(p)])*float('inf')\n",
    "    \n",
    "    return lookup_chain(m,p,1,n)\n",
    "\n",
    "def lookup_chain(m,p,i,j):\n",
    "    if m[i][j] < float('inf'):\n",
    "        return m[i][j]\n",
    "    \n",
    "    if i == j:\n",
    "        m[i][j] = 0\n",
    "        \n",
    "    else:\n",
    "        for k in range(i, j):\n",
    "            q = lookup_chain(m,p,i,k) + lookup_chain(m,p,k+1,j) + p[i-1]*p[k]*p[j]\n",
    "            \n",
    "            if q < m[i][j]:\n",
    "                m[i][j] = q\n",
    "    #print(m)\n",
    "    return m[i][j]\n",
    "   "
   ]
  },
  {
   "cell_type": "code",
   "execution_count": 38,
   "metadata": {},
   "outputs": [],
   "source": [
    "# 3. bottom up approach \n",
    "def matrix_chain_order(p):\n",
    "    n = len(p) - 1 \n",
    "    m = np.zeros([len(p),len(p)])\n",
    "    s = np.zeros([len(p),len(p)])\n",
    "    for i in range(1,n+1):\n",
    "        m[i][i] = 0\n",
    "    for l in range(2,n+1):\n",
    "        for i in range(n-l+2):\n",
    "            j = i + l - 1 \n",
    "            m[i][j] = float('inf')\n",
    "            for k in range(i,j):\n",
    "                q = m[i][k] + m[k+1][j] + p[i-1]*p[k]*p[j] \n",
    "                if q < m[i][j]:\n",
    "                    m[i][j] = q\n",
    "                    # when we have optimal sol ?  s[i][j] = k !  \n",
    "                    s[i][j] = k \n",
    "    return m,s"
   ]
  },
  {
   "cell_type": "code",
   "execution_count": 40,
   "metadata": {},
   "outputs": [
    {
     "name": "stdout",
     "output_type": "stream",
     "text": [
      "15125\n",
      "[[    0     0     0     0     0     0     0]\n",
      " [    0     0 15750  7875  9375 11875 15125]\n",
      " [    0     0     0  2625  4375  7125 10500]\n",
      " [    0     0     0     0   750  2500  5375]\n",
      " [    0     0     0     0     0  1000  3500]\n",
      " [    0     0     0     0     0     0  5000]\n",
      " [    0     0     0     0     0     0     0]]\n",
      "[[    0. 26250. 27000. 11625. 12875. 15125.     0.]\n",
      " [    0.     0. 15750.  7875.  9375. 11875. 15125.]\n",
      " [    0.     0.     0.  2625.  4375.  7125. 10500.]\n",
      " [    0.     0.     0.     0.   750.  2500.  5375.]\n",
      " [    0.     0.     0.     0.     0.  1000.  3500.]\n",
      " [    0.     0.     0.     0.     0.     0.  5000.]\n",
      " [    0.     0.     0.     0.     0.     0.     0.]]\n",
      "[[0. 0. 0. 0. 3. 3. 0.]\n",
      " [0. 0. 1. 1. 3. 3. 3.]\n",
      " [0. 0. 0. 2. 3. 3. 3.]\n",
      " [0. 0. 0. 0. 3. 3. 3.]\n",
      " [0. 0. 0. 0. 0. 4. 5.]\n",
      " [0. 0. 0. 0. 0. 0. 5.]\n",
      " [0. 0. 0. 0. 0. 0. 0.]]\n"
     ]
    }
   ],
   "source": [
    "import numpy as np\n",
    "p = [30,35,15,5,10,20,25]\n",
    "m = [[0 for col in range(len(p))] for row in range(len(p))]\n",
    "# recursive call 을 할때, call 은 (1,6) 부터 하지만, 계산은 overlapping 되며 subproblem 부터 하게 된다. \n",
    "\"\"\" recursive method\"\"\"\n",
    "print(recursive_matrix_chain(p,1,6,m))\n",
    "print(np.array(m))\n",
    "\n",
    "# Top down with memoization \n",
    "\"\"\" top down method\"\"\"\n",
    "memoized_matrix_chain(p)\n",
    "\n",
    "# bottom up approach \n",
    "\"\"\" bottom up method\"\"\"\n",
    "[M,S]= matrix_chain_order(p)\n",
    "print(M)\n",
    "print(S)"
   ]
  }
 ],
 "metadata": {
  "kernelspec": {
   "display_name": "Python 3",
   "language": "python",
   "name": "python3"
  },
  "language_info": {
   "codemirror_mode": {
    "name": "ipython",
    "version": 3
   },
   "file_extension": ".py",
   "mimetype": "text/x-python",
   "name": "python",
   "nbconvert_exporter": "python",
   "pygments_lexer": "ipython3",
   "version": "3.5.4"
  }
 },
 "nbformat": 4,
 "nbformat_minor": 2
}
