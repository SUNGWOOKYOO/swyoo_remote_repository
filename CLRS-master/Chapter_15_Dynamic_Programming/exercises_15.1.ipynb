{
 "cells": [
  {
   "cell_type": "markdown",
   "metadata": {},
   "source": [
    "## 15.1 Rod cutting"
   ]
  },
  {
   "cell_type": "markdown",
   "metadata": {},
   "source": [
    "### 15.1-1\n",
    "\n",
    "> Show that equation (15.4) follows from equation (15.3) and the initial condition $T(0) = 1$."
   ]
  },
  {
   "cell_type": "markdown",
   "metadata": {},
   "source": [
    "For $n=0$, $T(0) = 2^0 = 1$.\n",
    "\n",
    "Suppose $T(i) = 2^i$ for $i$ in $[0, n - 1]$, then\n",
    "$$\n",
    "T(n) = 1 + \\sum_{j=0}^{n-1} T(j) = 1 + 1 + 2 + 2^2 + \\cdots + 2^{n-1} = 2^n - 1 + 1 = 2^n\n",
    "$$"
   ]
  },
  {
   "cell_type": "markdown",
   "metadata": {},
   "source": [
    "### 15.1-2\n",
    "\n",
    "> Show, by means of a counterexample, that the following \"greedy\" strategy does not always determine an optimal way to cut rods. Define the density of a rod of length $i$ to be $p_i/i$, that is, its value per inch. The greedy strategy for a rod of length $n$ cuts off a first piece of length $i$, where $1 \\le i \\le n$, having maximum density. It then continues by applying the greedy strategy to the remaining piece of length $n - i$ ."
   ]
  },
  {
   "cell_type": "markdown",
   "metadata": {},
   "source": [
    "Suppose $p_1  = 1, p_2 = 8, p_3 = 14, p_4 = 0$, the densities $p_1 / 1 = 1, p_2 / 4 = 2, p_3 / 3 = 4 \\frac{2}{3}$, for $n=4$, the greedy result is $3$ and $1$, the total value if $15$, and the dynamic programming solution is $2$ and $2$, which is $16$."
   ]
  },
  {
   "cell_type": "markdown",
   "metadata": {},
   "source": [
    "### 15.1-3\n",
    "\n",
    "> Consider a modification of the rod-cutting problem in which, in addition to a price $p_i$ for each rod, each cut incurs a fixed cost of $c$. The revenue associated with a solution is now the sum of the prices of the pieces minus the costs of making the cuts. Give a dynamic-programming algorithm to solve this modified problem."
   ]
  },
  {
   "cell_type": "markdown",
   "metadata": {},
   "source": [
    "$r_n = \\max(\\max_{1 \\le i \\le {n - 1}} (p_i + r_{n-i}) - c, p_n)$"
   ]
  },
  {
   "cell_type": "code",
   "execution_count": 1,
   "metadata": {},
   "outputs": [],
   "source": [
    "# dynamic programming : Bottom up Approach \n",
    "def cut_rod(p, n, c):\n",
    "    r = [0 for _ in range(n + 1)]   # python 3 에서는 xrange를 지원하지 않는다.\n",
    "    for j in range(1, n + 1): # j = 1 ~ n \n",
    "        r[j] = p[j]\n",
    "        for i in range(1, j): # i = 1 ~ j-1 \n",
    "            r[j] = max(r[j], p[i] + r[j - i] - c)   \n",
    "    return r[n]"
   ]
  },
  {
   "cell_type": "code",
   "execution_count": 2,
   "metadata": {},
   "outputs": [
    {
     "name": "stdout",
     "output_type": "stream",
     "text": [
      "1\n",
      "5\n",
      "8\n",
      "10\n",
      "13\n",
      "17\n",
      "18\n",
      "22\n",
      "25\n",
      "30\n"
     ]
    }
   ],
   "source": [
    "p = [-1,1,5,8,9,10,17,17,20,24,30]     # python 은 array 가 p[0] ~ p[10] 까지 있으므로 \n",
    "for i in range(1, 11):      # i =  length 를 의미 \n",
    "    sol = cut_rod(p,i,0)\n",
    "    print(sol)"
   ]
  },
  {
   "cell_type": "markdown",
   "metadata": {},
   "source": [
    "### 15.1-4\n",
    "\n",
    "> Modify MEMOIZED-CUT-ROD to return not only the value but the actual solution, too."
   ]
  },
  {
   "cell_type": "code",
   "execution_count": 3,
   "metadata": {},
   "outputs": [],
   "source": [
    "# Top down with Memoization Approach \n",
    "def cut_rod_sub(p, n, r, s):\n",
    "    if r[n] >= 0:       # memoization 되어 있는가 확인 하고 값이 있으면 return ; it takes Θ(1)\n",
    "        return r[n]\n",
    "    r[n] = 0\n",
    "    for i in range(1, n + 1):\n",
    "        ret = p[i] + cut_rod_sub(p, n - i, r, s) # Recursive call \n",
    "        if r[n] < ret:    # 더 값이 크면 \n",
    "            r[n] = ret    # 저장하고,\n",
    "            s[n] = i      # s값을 update 한다.\n",
    "    return r[n]\n",
    "\n",
    "\n",
    "def cut_rod(p, n):\n",
    "    r = [-1 for _ in range(n + 1)]   # r[] 배열의 초기값 \n",
    "    s = [i for i in range(n + 1)]    \n",
    "    cut_rod_sub(p, n, r, s)          # Subroutine으로 사용 \n",
    "    r = r[n]\n",
    "    subs = []\n",
    "    while n > 0:\n",
    "        subs.append(s[n])\n",
    "        n -= s[n]\n",
    "    return r, subs"
   ]
  },
  {
   "cell_type": "code",
   "execution_count": 4,
   "metadata": {},
   "outputs": [
    {
     "name": "stdout",
     "output_type": "stream",
     "text": [
      "1 th Solution  r[ 1 ] =  1  ,  s[ 1 ] =  [1]\n",
      "2 th Solution  r[ 2 ] =  5  ,  s[ 2 ] =  [2]\n",
      "3 th Solution  r[ 3 ] =  8  ,  s[ 3 ] =  [3]\n",
      "4 th Solution  r[ 4 ] =  10  ,  s[ 4 ] =  [2, 2]\n",
      "5 th Solution  r[ 5 ] =  13  ,  s[ 5 ] =  [2, 3]\n",
      "6 th Solution  r[ 6 ] =  17  ,  s[ 6 ] =  [6]\n",
      "7 th Solution  r[ 7 ] =  18  ,  s[ 7 ] =  [1, 6]\n",
      "8 th Solution  r[ 8 ] =  22  ,  s[ 8 ] =  [2, 6]\n",
      "9 th Solution  r[ 9 ] =  25  ,  s[ 9 ] =  [3, 6]\n",
      "10 th Solution  r[ 10 ] =  30  ,  s[ 10 ] =  [10]\n"
     ]
    }
   ],
   "source": [
    "p = [-1,1,5,8,9,10,17,17,20,24,30]     # python 은 array 가 p[0] ~ p[10] 까지 있으므로 \n",
    "for i in range(1, 11):\n",
    "    R,S = cut_rod(p,i)\n",
    "    print(i, \"th Solution \", \"r[\",i,\"] = \", R, \" , \",\"s[\",i,\"] = \", S)"
   ]
  },
  {
   "cell_type": "markdown",
   "metadata": {},
   "source": [
    "### 15.1-5\n",
    "\n",
    "> The Fibonacci numbers are defined by recurrence (3.22). Give an $O(n)$-time dynamic-programming algorithm to compute the nth Fibonacci number. Draw the subproblem graph. How many vertices and edges are in the graph?"
   ]
  },
  {
   "cell_type": "code",
   "execution_count": 5,
   "metadata": {},
   "outputs": [],
   "source": [
    "# NO dynamic programming \n",
    "def fib(n):\n",
    "    if n == 0:\n",
    "        return 0\n",
    "    if n == 1:\n",
    "        return 1\n",
    "    a, b = 0, 1\n",
    "    for i in range(1, n):\n",
    "        c = a + b\n",
    "        a, b = b, c\n",
    "    return c"
   ]
  },
  {
   "cell_type": "code",
   "execution_count": 6,
   "metadata": {},
   "outputs": [
    {
     "data": {
      "text/plain": [
       "55"
      ]
     },
     "execution_count": 6,
     "metadata": {},
     "output_type": "execute_result"
    }
   ],
   "source": [
    "fib(10)"
   ]
  },
  {
   "cell_type": "markdown",
   "metadata": {},
   "source": [
    "# Hw\n",
    "Length  | 1  2  3  4   5   6   7   8   9   10  11  12  13  14  15  16  17  18  19  20\n",
    "\n",
    "Price    | 1  5  8  9  10  17  17  20  24  25  25  30  32  33  35  37  37  40  42  43\n",
    "\n",
    "\n",
    "1.\t최대가 된 가격을 출력\n",
    "2.\t자른 막대의 길이를 출력\n",
    "ex) (12, 5, 3)\n",
    "Hint) 1-D array 하나를 더 써서 가능\n"
   ]
  },
  {
   "cell_type": "code",
   "execution_count": 7,
   "metadata": {},
   "outputs": [],
   "source": [
    "def extended_bottom_up_rod_cut(p,n):\n",
    "    r = [0 for _ in range(n + 1)]   # r[] 배열의 초기값 \n",
    "    s = [0 for _ in range(n + 1)]\n",
    "    for j in range(1, n+1):\n",
    "        q = -1\n",
    "        for i in range(1, j+1):\n",
    "            if q < p[i] + r[j-i]:\n",
    "                q = p[i] + r[j-i]\n",
    "                s[j] = i\n",
    "        r[j] = q \n",
    "        \n",
    "    return r,s\n",
    "                   \n",
    "\n",
    "def print_cut_rod_solution(p,n):\n",
    "    r,s = extended_bottom_up_rod_cut(p,n)\n",
    "    while n > 0:\n",
    "        print(s[n])\n",
    "        n = n - s[n]"
   ]
  },
  {
   "cell_type": "code",
   "execution_count": 8,
   "metadata": {},
   "outputs": [
    {
     "name": "stdout",
     "output_type": "stream",
     "text": [
      "[0, 1, 5, 8, 10, 13, 17, 18, 22, 25, 27, 30, 34, 35, 39, 42, 44, 47, 51, 52, 56]\n",
      "[0, 1, 2, 3, 2, 2, 6, 1, 2, 3, 2, 2, 6, 1, 2, 3, 2, 2, 6, 1, 2]\n",
      "1th problem.  20 길이의 토막을 나눌때 최대가 된가격:   56\n",
      "2th problem.   나무토막을 나눈 각각의 길이 \n",
      "2\n",
      "6\n",
      "6\n",
      "6\n"
     ]
    }
   ],
   "source": [
    "p = [-1,1,5,8,9,10,17,17,20,24,25,25,30,32,33,35,37,37,40,42,43]\n",
    "r,s = extended_bottom_up_rod_cut(p,(len(p)-1))\n",
    "print(r)\n",
    "print(s)\n",
    "\n",
    "print(\"1th problem. \", (len(p)-1), \"길이의 토막을 나눌때 최대가 된가격:  \", r[(len(p)-1)] )\n",
    "print(\"2th problem.  \", \"나무토막을 나눈 각각의 길이 \")\n",
    "print_cut_rod_solution(p,(len(p)-1))\n",
    "\n"
   ]
  },
  {
   "cell_type": "markdown",
   "metadata": {},
   "source": [
    "# Self study \n"
   ]
  },
  {
   "cell_type": "markdown",
   "metadata": {},
   "source": [
    "top down 방식  ; recursive 하게 함수 호출을 통해 이뤄짐. "
   ]
  },
  {
   "cell_type": "code",
   "execution_count": 9,
   "metadata": {},
   "outputs": [],
   "source": [
    "# recursive top down 방식 ; inefficient  \n",
    "def cutrod(p,n):\n",
    "    if n == 0:\n",
    "        return 0\n",
    "    q = -1\n",
    "    for i in range(1,n+1):\n",
    "        q = max(q, p[i] + cutrod(p,n-i))  \n",
    "    return q"
   ]
  },
  {
   "cell_type": "code",
   "execution_count": 10,
   "metadata": {},
   "outputs": [
    {
     "name": "stdout",
     "output_type": "stream",
     "text": [
      "1\n",
      "5\n",
      "8\n",
      "10\n",
      "13\n",
      "17\n",
      "18\n",
      "22\n",
      "25\n",
      "30\n"
     ]
    }
   ],
   "source": [
    "p = [-1,1,5,8,9,10,17,17,20,24,30]     # python 은 array 가 p[0] ~ p[10] 까지 있으므로 \n",
    "for i in range(1, 11):      # i =  length 를 의미 \n",
    "    sol = cutrod(p,i)\n",
    "    print(sol)"
   ]
  },
  {
   "cell_type": "markdown",
   "metadata": {},
   "source": [
    " top down with memoization 방식 ; checking 한 후(저장된 값이 있는지), 저장 값이 없다면 recursive call을 통해 subproblem 푼다.\n",
    " \n",
    "    "
   ]
  },
  {
   "cell_type": "code",
   "execution_count": 11,
   "metadata": {},
   "outputs": [],
   "source": [
    "# top down with memoization \n",
    "# r[길이] array에 최대 가격을 메모한다. \n",
    "\n",
    "def cutrod1_memo(p,n):\n",
    "    \n",
    "    # let r[0 .. n] be a new array \n",
    "    r = [0 for _ in range(n + 1)]\n",
    "    \n",
    "    for i in range(0,n+1):\n",
    "        r[i] = -1\n",
    "    return memo_topdown(p,n,r)\n",
    "\n",
    "#subroutine으로 이용\n",
    "def memo_topdown(p,n,r):\n",
    "    if r[n] >= 0:\n",
    "        return r[n]\n",
    "    if n==0:\n",
    "        q = 0\n",
    "        \n",
    "    # 저장된값이 없다면,\n",
    "    else:\n",
    "        q = -1\n",
    "        for i in range(1,n+1):\n",
    "            q = max(q, p[i] +  memo_topdown(p,n-i,r))\n",
    "            \n",
    "    # 계산 후 저장        \n",
    "    r[n] = q\n",
    "    return q"
   ]
  },
  {
   "cell_type": "code",
   "execution_count": 12,
   "metadata": {},
   "outputs": [
    {
     "name": "stdout",
     "output_type": "stream",
     "text": [
      "1\n",
      "5\n",
      "8\n",
      "10\n",
      "13\n",
      "17\n",
      "18\n",
      "22\n",
      "25\n",
      "30\n"
     ]
    }
   ],
   "source": [
    "p = [-1,1,5,8,9,10,17,17,20,24,30]     # python 은 array 가 p[0] ~ p[10] 까지 있으므로 \n",
    "for i in range(1, 11):      # i =  length 를 의미 \n",
    "    sol = cutrod1_memo(p,i)\n",
    "    print(sol)"
   ]
  },
  {
   "cell_type": "markdown",
   "metadata": {},
   "source": [
    "bottom up 방식 ; subproblem을 먼저 풀고, 이를 이용한다. memoization 을 통해 할 수 있다. \n",
    "\n",
    "a problem of size is smaller than subproblem of size j if i <j "
   ]
  },
  {
   "cell_type": "code",
   "execution_count": 13,
   "metadata": {},
   "outputs": [],
   "source": [
    "def cutrod2_memo(p,n):\n",
    "    r = [0 for _ in range(n + 1)]\n",
    "    r[0] = 0\n",
    "    for j in range(1,n+1):\n",
    "        q= -1\n",
    "        \n",
    "        # i < j 가 되도록 한다. 또한, r[j - i] 를 통해 subproblem의 solution을 이용 \n",
    "        for i in range(1,j+1):\n",
    "            q = max(q, p[i]+ r[j-i])\n",
    "        r[j] = q\n",
    "        \n",
    "    return r[n]\n",
    "        "
   ]
  },
  {
   "cell_type": "code",
   "execution_count": 14,
   "metadata": {},
   "outputs": [
    {
     "name": "stdout",
     "output_type": "stream",
     "text": [
      "1\n",
      "5\n",
      "8\n",
      "10\n",
      "13\n",
      "17\n",
      "18\n",
      "22\n",
      "25\n",
      "30\n"
     ]
    }
   ],
   "source": [
    "p = [-1,1,5,8,9,10,17,17,20,24,30]     # python 은 array 가 p[0] ~ p[10] 까지 있으므로 \n",
    "for i in range(1, 11):      # i =  length 를 의미 \n",
    "    sol = cutrod2_memo(p,i)\n",
    "    print(sol)"
   ]
  }
 ],
 "metadata": {
  "kernelspec": {
   "display_name": "Python 3",
   "language": "python",
   "name": "python3"
  },
  "language_info": {
   "codemirror_mode": {
    "name": "ipython",
    "version": 3
   },
   "file_extension": ".py",
   "mimetype": "text/x-python",
   "name": "python",
   "nbconvert_exporter": "python",
   "pygments_lexer": "ipython3",
   "version": "3.5.2"
  }
 },
 "nbformat": 4,
 "nbformat_minor": 2
}
