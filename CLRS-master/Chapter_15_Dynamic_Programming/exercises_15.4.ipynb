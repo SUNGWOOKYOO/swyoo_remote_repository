{
 "cells": [
  {
   "cell_type": "markdown",
   "metadata": {},
   "source": [
    "## 15.4 Longest common subsequence"
   ]
  },
  {
   "cell_type": "markdown",
   "metadata": {},
   "source": [
    "### 15.4-1\n",
    "\n",
    "> Determine an LCS of $\\langle 1, 0, 0, 1, 0, 1, 0, 1\\rangle$ and $\\langle 0, 1, 0, 1, 1, 0, 1, 1, 0\\rangle$."
   ]
  },
  {
   "cell_type": "markdown",
   "metadata": {},
   "source": [
    "$\\langle 1, 0, 0, 1, 1, 0 \\rangle$."
   ]
  },
  {
   "cell_type": "markdown",
   "metadata": {},
   "source": [
    "### 15.4-2\n",
    "\n",
    "> Give pseudocode to reconstruct an LCS from the completed $c$ table and the original sequences $X = \\langle x_1, x_2, \\dots, x_m \\rangle$ and $Y = \\langle y_1, y_2, \\dots, y_n\\rangle$ in $O(m + n)$ time, without using the $b$ table."
   ]
  },
  {
   "cell_type": "markdown",
   "metadata": {},
   "source": [
    "```\n",
    "PRINT-LCS(c, X, Y, i, j)\n",
    " 1 if c[i][j] == 0\n",
    " 2     return\n",
    " 3 if X[i] == Y[j]\n",
    " 4     PRINT-LCS(c, X, Y, i - 1, j - 1)\n",
    " 5     print X[i]\n",
    " 6 elseif c[i - 1][j] > c[i][j - 1]\n",
    " 7     PRINT-LCS(c, X, Y, i - 1, j)\n",
    " 8 else\n",
    " 9     PRINT-LCS(c, X, Y, i, j - 1)\n",
    "```"
   ]
  },
  {
   "cell_type": "markdown",
   "metadata": {},
   "source": [
    "### 15.4-3\n",
    "\n",
    "> Give a memoized version of LCS-LENGTH that runs in $O(mn)$ time."
   ]
  },
  {
   "cell_type": "markdown",
   "metadata": {},
   "source": [
    "```\n",
    "LCS-LENGTH(X, Y, i, j)\n",
    " 1 if c[i, j] > -1\n",
    " 2     return c[i, j]\n",
    " 3 if i == 0 or j == 0\n",
    " 4     return c[i, j] = 0\n",
    " 5 if xi = yj\n",
    " 6     return c[i, j] = LCS-LENGTH(X, Y, i - 1, j - 1) + 1\n",
    " 7 return c[i, j] = max(LCS-LENGTH(X, Y, i - 1, j), LCS-LENGTH(X, Y, i, j - 1))\n",
    "```"
   ]
  },
  {
   "cell_type": "code",
   "execution_count": 2,
   "metadata": {},
   "outputs": [],
   "source": [
    "# bottom up approach \n",
    "def LCS_LENGTH(X, Y):\n",
    "    m = len(X)-1\n",
    "    n = len(Y)-1\n",
    "    c = [[-1 for col in range(len(Y))] for row in range(len(X))]\n",
    "    \n",
    "    for i in range (1, m+1):\n",
    "        c[i][0]= 0\n",
    "    \n",
    "    for j in range (0, n+1):\n",
    "        c[0][j] = 0\n",
    "     \n",
    "    for i in range(1,m+1):\n",
    "        for j in range(1,n+1):\n",
    "            if X[i]==Y[j]:\n",
    "                c[i][j] = c[i-1][j-1]+1\n",
    "                #b[i][j] = \"↖\"\n",
    "            else:\n",
    "                c[i][j] = max(c[i-1][j], c[i][j-1])\n",
    "                \n",
    "    return c"
   ]
  },
  {
   "cell_type": "code",
   "execution_count": 3,
   "metadata": {},
   "outputs": [],
   "source": [
    "def PRINT_LCS(c, X, Y, i, j):\n",
    "    if i==0 or j==0:\n",
    "        return \n",
    "    if X[i]==Y[j]:\n",
    "        PRINT_LCS(c, X, Y, i - 1, j - 1)\n",
    "        print(X[i])\n",
    "    elif c[i - 1][j] >= c[i][j - 1]:\n",
    "        PRINT_LCS(c, X, Y, i - 1, j)\n",
    "    else:\n",
    "        PRINT_LCS(c, X, Y, i, j - 1)"
   ]
  },
  {
   "cell_type": "code",
   "execution_count": 4,
   "metadata": {},
   "outputs": [
    {
     "name": "stdout",
     "output_type": "stream",
     "text": [
      "1\n",
      "0\n",
      "0\n",
      "1\n",
      "1\n",
      "0\n",
      "[[0 0 0 0 0 0 0 0 0 0]\n",
      " [0 0 1 1 1 1 1 1 1 1]\n",
      " [0 1 1 2 2 2 2 2 2 2]\n",
      " [0 1 1 2 2 2 3 3 3 3]\n",
      " [0 1 2 2 3 3 3 4 4 4]\n",
      " [0 1 2 3 3 3 4 4 4 5]\n",
      " [0 1 2 3 4 4 4 5 5 5]\n",
      " [0 1 2 3 4 4 5 5 5 6]\n",
      " [0 1 2 3 4 5 5 6 6 6]]\n",
      "B\n",
      "C\n",
      "B\n",
      "A\n",
      "[[0 0 0 0 0 0 0]\n",
      " [0 0 0 0 1 1 1]\n",
      " [0 1 1 1 1 2 2]\n",
      " [0 1 1 2 2 2 2]\n",
      " [0 1 1 2 2 3 3]\n",
      " [0 1 2 2 2 3 3]\n",
      " [0 1 2 2 3 3 4]\n",
      " [0 1 2 2 3 4 4]]\n"
     ]
    }
   ],
   "source": [
    "import numpy as np\n",
    "\n",
    "X = [-1,1,0,0,1,0,1,0,1]        # 크기를 1 값부터 m 값 까지 정해야 하므로 index 0 에 -1 값 을 넣었다.\n",
    "Y = [-1,0,1,0,1,1,0,1,1,0]\n",
    "C1 = LCS_LENGTH(X,Y)  \n",
    "PRINT_LCS(C1, X, Y, len(X)-1, len(Y)-1)\n",
    "print(np.array(C1))\n",
    "\n",
    "X2 = [-1,'A','B','C','B','D','A','B']\n",
    "Y2 = [-1,'B','D','C','A','B','A']\n",
    "C2 = LCS_LENGTH(X2,Y2)    \n",
    "PRINT_LCS(C2, X2, Y2, len(X2)-1, len(Y2)-1)\n",
    "print(np.array(C2))"
   ]
  },
  {
   "cell_type": "markdown",
   "metadata": {},
   "source": [
    "### 15.4-4\n",
    "\n",
    "> Show how to compute the length of an LCS using only $2 \\cdot \\min(m, n)$ entries in the $c$ table plus $O(1)$ additional space. Then show how to do the same thing, but using $\\min(m, n)$ entries plus $O(1)$ additional space."
   ]
  },
  {
   "cell_type": "markdown",
   "metadata": {},
   "source": [
    "$2 \\cdot \\min(m, n)$: rolling.\n",
    "\n",
    "$\\min(m, n)$: save the old value of the last computed position."
   ]
  },
  {
   "cell_type": "markdown",
   "metadata": {},
   "source": [
    "### 15.4-5\n",
    "\n",
    "> Give an $O(n^2)$-time algorithm to find the longest monotonically increasing subsequence of a sequence of $n$ numbers."
   ]
  },
  {
   "cell_type": "markdown",
   "metadata": {},
   "source": [
    "Calculate the LCS of the original sequence and the sorted sequence, $O(n \\lg n) + O(n^2)=O(n^2)$ time."
   ]
  },
  {
   "cell_type": "markdown",
   "metadata": {},
   "source": [
    "### 15.4-6 $\\star$\n",
    "\n",
    "> Give an $O(n \\lg n)$-time algorithm to find the longest monotonically increasing subsequence of a sequence of $n$ numbers."
   ]
  },
  {
   "cell_type": "markdown",
   "metadata": {},
   "source": [
    "Binary search."
   ]
  }
 ],
 "metadata": {
  "kernelspec": {
   "display_name": "Python 3",
   "language": "python",
   "name": "python3"
  },
  "language_info": {
   "codemirror_mode": {
    "name": "ipython",
    "version": 3
   },
   "file_extension": ".py",
   "mimetype": "text/x-python",
   "name": "python",
   "nbconvert_exporter": "python",
   "pygments_lexer": "ipython3",
   "version": "3.5.4"
  }
 },
 "nbformat": 4,
 "nbformat_minor": 2
}
