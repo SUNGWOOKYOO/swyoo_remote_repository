{
 "cells": [
  {
   "cell_type": "markdown",
   "metadata": {},
   "source": [
    "## 5.1 The hiring problem"
   ]
  },
  {
   "cell_type": "markdown",
   "metadata": {},
   "source": [
    "### 5.1-1\n",
    "\n",
    "> Show that the assumption that we are always able to determine which candidate is best, in line 4 of procedure HIRE-ASSISTANT, implies that we know a total order on the ranks of the candidates."
   ]
  },
  {
   "cell_type": "markdown",
   "metadata": {},
   "source": [
    "Transitive"
   ]
  },
  {
   "cell_type": "markdown",
   "metadata": {},
   "source": [
    "### 5.1-2 $\\star$\n",
    "\n",
    "> Describe an implementation of the procedure RANDOM$(a, b)$ that only makes calls to RANDOM$(0, 1)$. What is the expected running time of your procedure, as a function of $a$ and $b$?"
   ]
  },
  {
   "cell_type": "markdown",
   "metadata": {},
   "source": [
    "Divide $[a, b]$ into $[a, mid]$ and $(mid, b]$, if RANDOM$(0, 1)$ gives 0 then we choose $[a, mid]$ and repeat the step until there is only one element left. The expected running time is $\\Theta(\\lg(b-a))$."
   ]
  },
  {
   "cell_type": "code",
   "execution_count": 1,
   "metadata": {
    "collapsed": true
   },
   "outputs": [],
   "source": [
    "import random\n",
    "# random generator를 통해 behavior 가 결정되는 randomized algorithm\n",
    "# //연산자 ; 나누기에 소수점이하를 버림\n",
    "# running time은 b-a 크기의 input size 에 대해서 2로 나누는 연산은 lg(input size) 이므로 Θ(lg(b-a))\n",
    " def random_interval(a, b):\n",
    "    while a < b: # a > b 가되면 while문 탈출 \n",
    "        if random.randint(0, 1) == 0: \n",
    "            b = (a + b) // 2   # left 로 이동 [a, mid]\n",
    "        else:\n",
    "            a = (a + b) // 2 + 1  # right로 이동 \n",
    "    return a"
   ]
  },
  {
   "cell_type": "code",
   "execution_count": 20,
   "metadata": {},
   "outputs": [
    {
     "name": "stdout",
     "output_type": "stream",
     "text": [
      "6\n",
      "5\n",
      "6\n",
      "5\n",
      "5\n",
      "7\n",
      "6\n",
      "5\n",
      "7\n",
      "7\n"
     ]
    }
   ],
   "source": [
    "for i in range(1,11):\n",
    "    print(random_interval(3,7))"
   ]
  },
  {
   "cell_type": "markdown",
   "metadata": {},
   "source": [
    "### 5.1-3 $\\star$\n",
    "\n",
    "> Suppose that you want to output $0$ with probability $1/2$ and $1$ with probability $1/2$. At your disposal is a procedure BIASED-RANDOM, that outputs either $0$ or $1$. It outputs $1$ with some probability $p$ and $0$ with probability $1 - p$, where $0 < p < 1$, but you do not know what $p$ is. Give an algorithm that uses BIASED-RANDOM as a subroutine, and returns an unbiased answer, returning $0$ with probability $1/2$ and $1$ with probability $1/2$. What is the expected running time of your algorithm as a function of $p$?"
   ]
  },
  {
   "cell_type": "markdown",
   "metadata": {},
   "source": [
    "The probabilities of generating (0, 1) and (1, 0) with BIASED-RANDOM is the same. We can generate two numbers with BIASED-RANDOM, and if they are different, we can return the first number, otherwise we should regenerate the two numbers. Since the probability of generating two different number is $2p(1-p)$, thus the expectation of generation times is $\\frac{1}{2p(1-p)}$."
   ]
  },
  {
   "cell_type": "code",
   "execution_count": null,
   "metadata": {
    "collapsed": true
   },
   "outputs": [],
   "source": [
    "# probability of generating two different number \n",
    "# p(1-p)+ (1-p)p = A ; 1번만에 다르게 나올경우\n",
    "# {p^2 + (1-p)^2 }×A ; 2번만에 다르게 나올경우 \n",
    "# ... "
   ]
  },
  {
   "cell_type": "code",
   "execution_count": 21,
   "metadata": {
    "collapsed": true
   },
   "outputs": [],
   "source": [
    "import random\n",
    "# random.random() ; 0~1 사이 임의의 난수 생성 \n",
    "# biased_random 함수는 어떤 확률 p, 1-p로 각각 0,1 출력함 \n",
    "\n",
    "def biased_random():\n",
    "    if random.random() < 0.1:\n",
    "        return 0\n",
    "    return 1\n",
    "\n",
    "# unbiased_random 함수에서 biased_random을 subroutined으로 사용\n",
    "def unbiased_random():\n",
    "    while True:\n",
    "        a = biased_random()\n",
    "        b = biased_random()\n",
    "        if a != b:\n",
    "            return a"
   ]
  },
  {
   "cell_type": "code",
   "execution_count": 23,
   "metadata": {},
   "outputs": [
    {
     "name": "stdout",
     "output_type": "stream",
     "text": [
      "1\n",
      "0\n",
      "1\n",
      "0\n",
      "1\n",
      "1\n",
      "0\n",
      "0\n",
      "1\n",
      "1\n"
     ]
    }
   ],
   "source": [
    "for i in range(1,11):\n",
    "    print(unbiased_random())"
   ]
  }
 ],
 "metadata": {
  "kernelspec": {
   "display_name": "Python 3",
   "language": "python",
   "name": "python3"
  },
  "language_info": {
   "codemirror_mode": {
    "name": "ipython",
    "version": 3
   },
   "file_extension": ".py",
   "mimetype": "text/x-python",
   "name": "python",
   "nbconvert_exporter": "python",
   "pygments_lexer": "ipython3",
   "version": "3.5.4"
  }
 },
 "nbformat": 4,
 "nbformat_minor": 2
}
