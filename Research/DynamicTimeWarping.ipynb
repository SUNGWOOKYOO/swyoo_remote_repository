{
 "cells": [
  {
   "cell_type": "code",
   "execution_count": 4,
   "metadata": {},
   "outputs": [
    {
     "name": "stdout",
     "output_type": "stream",
     "text": [
      "10\n",
      "9\n",
      "8\n",
      "7\n",
      "6\n",
      "5\n",
      "4\n",
      "3\n",
      "2\n"
     ]
    }
   ],
   "source": [
    "k = 10\n",
    "for i in range(k, 1,-1):\n",
    "    print(i)\n",
    "    if i==5:\n",
    "        i=2"
   ]
  },
  {
   "cell_type": "code",
   "execution_count": 1,
   "metadata": {},
   "outputs": [],
   "source": [
    "# https://nipunbatra.github.io/blog/2014/dtw.html\n",
    "import math\n",
    "import numpy as np\n",
    "\n",
    "# bottom up approach ; \n",
    "def DynamicTW(X, Y):\n",
    "    m = len(X)\n",
    "    n = len(Y)\n",
    "    \n",
    "    R = np.ones([len(X),len(Y)])*float('inf')\n",
    "    #R = [[None for col in range(len(Y))] for row in range(len(X))]\n",
    "    \n",
    "    for i in range (1, m):\n",
    "        R[i][0]= float('inf')\n",
    "    \n",
    "    for j in range (1, n):\n",
    "        R[0][j] = float('inf')\n",
    "        \n",
    "    R[0][0] = 0\n",
    "    \n",
    "    for j in range(1,n):\n",
    "        for i in range(1,m):\n",
    "            R[i][j] = ((X[i] - Y[j])**2)+ min(R[i-1][j], R[i][j-1], R[i-1][j-1])\n",
    "    \n",
    "    print(np.round(R, 2))\n",
    "    return R[m-1][n-1]"
   ]
  },
  {
   "cell_type": "code",
   "execution_count": 2,
   "metadata": {},
   "outputs": [],
   "source": [
    "Q = np.array([-1, -0.6, 4.6, -6.4,-22.3, 0.9, 0.4, 0.3, 9, 12])\n",
    "C = np.array([-1, 0.1, 5.3, -5.8, -22.1, 1.5, 0.7, 0.4, 9.2])"
   ]
  },
  {
   "cell_type": "code",
   "execution_count": 3,
   "metadata": {},
   "outputs": [
    {
     "name": "stdout",
     "output_type": "stream",
     "text": [
      "[[0.00000e+00         inf         inf         inf         inf         inf\n",
      "          inf         inf         inf]\n",
      " [        inf 4.90000e-01 3.53000e+01 6.23400e+01 5.24590e+02 5.29000e+02\n",
      "  5.30690e+02 5.31690e+02 6.27730e+02]\n",
      " [        inf 2.07400e+01 9.80000e-01 1.09140e+02 7.75230e+02 5.34200e+02\n",
      "  5.44210e+02 5.48330e+02 5.52850e+02]\n",
      " [        inf 6.29900e+01 1.37870e+02 1.34000e+00 2.47830e+02 3.10240e+02\n",
      "  3.60650e+02 4.06890e+02 6.50250e+02]\n",
      " [        inf 5.64750e+02 8.24750e+02 2.73590e+02 1.38000e+00 5.67820e+02\n",
      "  8.39240e+02 8.75940e+02 1.39914e+03]\n",
      " [        inf 5.65390e+02 5.84110e+02 3.18480e+02 5.30380e+02 1.74000e+00\n",
      "  1.78000e+00 2.03000e+00 7.09200e+01]\n",
      " [        inf 5.65480e+02 5.89400e+02 3.56920e+02 8.24730e+02 2.95000e+00\n",
      "  1.83000e+00 1.78000e+00 7.92200e+01]\n",
      " [        inf 5.65520e+02 5.90480e+02 3.94130e+02 8.58680e+02 4.39000e+00\n",
      "  1.99000e+00 1.79000e+00 8.09900e+01]\n",
      " [        inf 6.44730e+02 5.79210e+02 6.13170e+02 1.36134e+03 6.06400e+01\n",
      "  7.08800e+01 7.57500e+01 1.83000e+00]\n",
      " [        inf 7.86340e+02 6.24100e+02 8.96050e+02 1.77598e+03 1.70890e+02\n",
      "  1.88330e+02 2.05440e+02 9.67000e+00]]\n"
     ]
    },
    {
     "data": {
      "text/plain": [
       "9.670000000000005"
      ]
     },
     "execution_count": 3,
     "metadata": {},
     "output_type": "execute_result"
    }
   ],
   "source": [
    "DynamicTW(Q,C)"
   ]
  },
  {
   "cell_type": "code",
   "execution_count": 4,
   "metadata": {},
   "outputs": [],
   "source": [
    "import timeit  \n",
    "\n",
    "# bottom up approach ; \n",
    "def BS_DynamicTW(Q, C):\n",
    "    start = timeit.default_timer()\n",
    "    \n",
    "    m = len(Q) #6\n",
    "    n = len(C) #5\n",
    "    \n",
    "    R = np.ones([m+1,n+1])*float('-inf') # 7(0~6) * 6(0~5)  \n",
    "    \n",
    "    for i in range (1, m+1): # 0~5\n",
    "        R[i][n]= float('-inf')\n",
    "    \n",
    "    for j in range (1, n+1): # 0~6\n",
    "        R[m][j] = float('-inf')\n",
    "    \n",
    "    R[m][n] = 0\n",
    "    \n",
    "    #print(R)\n",
    "    \n",
    "    for j in range(n-1,-1,-1):\n",
    "        for i in range(m-1,-1,-1):\n",
    "            #print(i,j)\n",
    "            R[i][j] = max(R[i+1][j], R[i][j+1], R[i+1][j+1]) - ((Q[i] - C[j])**2)\n",
    "    \n",
    "    stop = timeit.default_timer()\n",
    "    print('Time: ', stop - start) \n",
    "    print(np.round(R, 2))\n",
    "    return R[0][0]"
   ]
  },
  {
   "cell_type": "code",
   "execution_count": 5,
   "metadata": {},
   "outputs": [],
   "source": [
    "Q = np.array([-0.6, 4.6, -6.4,-22.3, 0.9, 0.4, 0.3, 9, 12])\n",
    "C = np.array([0.1, 5.3, -5.8, -22.1, 1.5, 0.7, 0.4, 9.2])"
   ]
  },
  {
   "cell_type": "code",
   "execution_count": 6,
   "metadata": {},
   "outputs": [
    {
     "name": "stdout",
     "output_type": "stream",
     "text": [
      "Time:  0.00016710899998884088\n",
      "[[   -9.67   -43.99  -143.89 -1045.7   -587.86  -586.57  -588.31 -1586.23\n",
      "      -inf]\n",
      " [  -29.43    -9.18  -116.85  -967.71  -583.45  -584.88  -587.31 -1490.19\n",
      "      -inf]\n",
      " [ -187.83  -145.58    -8.69  -254.82  -599.34  -573.84  -569.67 -1469.03\n",
      "      -inf]\n",
      " [-1070.81 -1042.34  -280.58    -8.33  -574.37  -536.93  -523.43 -1225.67\n",
      "      -inf]\n",
      " [ -569.69  -569.05  -560.33  -537.29    -8.29    -7.93    -8.14  -233.42\n",
      "      -inf]\n",
      " [ -572.56  -572.47  -549.69  -515.44    -9.19    -7.98    -7.89  -164.53\n",
      "      -inf]\n",
      " [ -573.5   -573.46  -548.46  -511.25    -9.49    -8.05    -7.89   -87.09\n",
      "      -inf]\n",
      " [-1486.09 -1406.88 -1393.19 -1174.15  -206.94  -150.69   -81.8     -7.88\n",
      "      -inf]\n",
      " [-2046.49 -1904.88 -1859.99 -1543.15  -380.34  -270.09  -142.4     -7.84\n",
      "      -inf]\n",
      " [    -inf     -inf     -inf     -inf     -inf     -inf     -inf     -inf\n",
      "      0.  ]]\n"
     ]
    },
    {
     "data": {
      "text/plain": [
       "-9.670000000000005"
      ]
     },
     "execution_count": 6,
     "metadata": {},
     "output_type": "execute_result"
    }
   ],
   "source": [
    "BS_DynamicTW(Q,C)"
   ]
  },
  {
   "cell_type": "markdown",
   "metadata": {},
   "source": [
    "# Accurate and Fast Dynamic Time warping\n",
    "$$\n",
    "\\theta \\ge DTW(Q,C)\n",
    "$$\n"
   ]
  },
  {
   "cell_type": "code",
   "execution_count": 19,
   "metadata": {},
   "outputs": [],
   "source": [
    "import timeit  \n",
    "\n",
    "def AF_DynamicTW(Q, C, Theta):\n",
    "    start = timeit.default_timer()\n",
    "    m = len(Q)\n",
    "    n = len(C)\n",
    "    \n",
    "    R = np.ones([m+1,n+1])*float('-inf')  \n",
    "    \n",
    "    for i in range (1, m+1): \n",
    "        R[i][n]= float('-inf')\n",
    "    \n",
    "    for j in range (1, n+1): \n",
    "        R[m][j] = float('-inf')\n",
    "    \n",
    "    R[m][n] = Theta\n",
    "    \n",
    "    #print(R)\n",
    "    k = m-1\n",
    "    for j in range(n-1,-1,-1):\n",
    "        for i in range(k,-1,-1):\n",
    "            if not((R[i+1][j]== 0 or \n",
    "                   R[i+1][j]== float('-inf'))   \n",
    "                   and (R[i][j+1] == 0 or \n",
    "                   R[i][j+1] == float('-inf')) \n",
    "                   and (R[i+1][j+1] == 0 or \n",
    "                    R[i+1][j+1] == float('-inf'))):\n",
    "                R[i][j] = max(R[i+1][j], R[i][j+1], R[i+1][j+1]) - ((Q[i] - C[j])**2)\n",
    "                \n",
    "                if R[i+1][j]==0 and R[i][j] > 0:\n",
    "                    k = i\n",
    "                if R[i][j] < 0:\n",
    "                    #print(\"If the value of current cell in the cost matrix is negative, then let it be zero\")\n",
    "                    R[i][j] = 0\n",
    "            else:\n",
    "                #print(\"If the three top right adjacent cells are zero, then the current cells are zero and the current iteration is broken\")\n",
    "                R[i][j] = 0\n",
    "                break\n",
    "            #print(R)\n",
    "    stop = timeit.default_timer()\n",
    "    print('Time: ', stop - start)  \n",
    "    print(np.round_(R, 2))\n",
    "    return Theta - R[0][0]"
   ]
  },
  {
   "cell_type": "code",
   "execution_count": 20,
   "metadata": {},
   "outputs": [
    {
     "name": "stdout",
     "output_type": "stream",
     "text": [
      "Time:  0.00020432499991329678\n",
      "[[   -9.67   -43.99  -143.89 -1045.7   -587.86  -586.57  -588.31 -1586.23\n",
      "      -inf]\n",
      " [  -29.43    -9.18  -116.85  -967.71  -583.45  -584.88  -587.31 -1490.19\n",
      "      -inf]\n",
      " [ -187.83  -145.58    -8.69  -254.82  -599.34  -573.84  -569.67 -1469.03\n",
      "      -inf]\n",
      " [-1070.81 -1042.34  -280.58    -8.33  -574.37  -536.93  -523.43 -1225.67\n",
      "      -inf]\n",
      " [ -569.69  -569.05  -560.33  -537.29    -8.29    -7.93    -8.14  -233.42\n",
      "      -inf]\n",
      " [ -572.56  -572.47  -549.69  -515.44    -9.19    -7.98    -7.89  -164.53\n",
      "      -inf]\n",
      " [ -573.5   -573.46  -548.46  -511.25    -9.49    -8.05    -7.89   -87.09\n",
      "      -inf]\n",
      " [-1486.09 -1406.88 -1393.19 -1174.15  -206.94  -150.69   -81.8     -7.88\n",
      "      -inf]\n",
      " [-2046.49 -1904.88 -1859.99 -1543.15  -380.34  -270.09  -142.4     -7.84\n",
      "      -inf]\n",
      " [    -inf     -inf     -inf     -inf     -inf     -inf     -inf     -inf\n",
      "      0.  ]]\n",
      "9.670000000000005\n",
      "Time:  0.00030217400001220085\n",
      "[[0.   0.   0.   -inf -inf -inf -inf -inf -inf]\n",
      " [0.   0.49 0.   0.   -inf -inf -inf -inf -inf]\n",
      " [-inf 0.   0.98 0.   0.   0.   0.   -inf -inf]\n",
      " [-inf -inf 0.   1.34 0.   0.   0.   -inf -inf]\n",
      " [-inf -inf -inf 0.   1.38 1.74 1.53 -inf -inf]\n",
      " [-inf -inf -inf 0.   0.48 1.69 1.78 0.   -inf]\n",
      " [-inf -inf -inf 0.   0.18 1.62 1.78 0.   -inf]\n",
      " [-inf -inf -inf -inf -inf -inf 0.   1.79 -inf]\n",
      " [-inf -inf -inf -inf -inf -inf 0.   1.83 -inf]\n",
      " [-inf -inf -inf -inf -inf -inf -inf -inf 9.67]]\n",
      "9.67\n",
      "Time:  0.0003154900000481575\n",
      "[[73.97 39.65  0.    -inf  -inf  -inf  -inf  -inf  -inf]\n",
      " [54.21 74.46  0.    0.    -inf  -inf  -inf  -inf  -inf]\n",
      " [ -inf  0.   74.95  0.    0.    0.    0.    -inf  -inf]\n",
      " [ -inf  -inf  0.   75.31  0.    0.    0.    -inf  -inf]\n",
      " [ -inf  -inf  -inf  0.   75.35 75.71 75.5   -inf  -inf]\n",
      " [ -inf  -inf  -inf  0.   74.45 75.66 75.75  0.    -inf]\n",
      " [ -inf  -inf  -inf  0.   74.15 75.59 75.75  0.    -inf]\n",
      " [ -inf  -inf  -inf  -inf  -inf  0.    1.84 75.76  -inf]\n",
      " [ -inf  -inf  -inf  -inf  -inf  -inf  0.   75.8   -inf]\n",
      " [ -inf  -inf  -inf  -inf  -inf  -inf  -inf  -inf 83.64]]\n",
      "9.670000000000016\n",
      "Time:  0.00033516300004521327\n",
      "[[196.08 161.76  61.86   -inf   -inf   -inf   -inf   -inf   -inf]\n",
      " [176.32 196.57  88.9    0.     -inf   -inf   -inf   -inf   -inf]\n",
      " [ 17.92  60.17 197.06   0.     0.     0.     0.     -inf   -inf]\n",
      " [  -inf   -inf   0.   197.42   0.     0.     0.     0.     -inf]\n",
      " [  -inf   -inf   -inf   0.   197.46 197.82 197.61   0.     -inf]\n",
      " [  -inf   -inf   -inf   0.   196.56 197.77 197.86  41.22   -inf]\n",
      " [  -inf   -inf   -inf   0.   196.26 197.7  197.86 118.66   -inf]\n",
      " [  -inf   -inf   -inf   -inf   0.    55.06 123.95 197.87   -inf]\n",
      " [  -inf   -inf   -inf   -inf   -inf   0.    63.35 197.91   -inf]\n",
      " [  -inf   -inf   -inf   -inf   -inf   -inf   -inf   -inf 205.75]]\n",
      "9.670000000000016\n",
      "Time:  0.0004349549999460578\n",
      "[[865.6  831.28 731.38   0.   287.41 288.7  286.96   -inf   -inf]\n",
      " [845.84 866.09 758.42   0.   291.82 290.39 287.96   -inf   -inf]\n",
      " [687.44 729.69 866.58 620.45 275.93 301.43 305.6    0.     -inf]\n",
      " [  -inf   0.   594.69 866.94 300.9  338.34 351.84   0.     -inf]\n",
      " [  -inf 306.22 314.94 337.98 866.98 867.34 867.13 641.85   -inf]\n",
      " [  -inf 302.8  325.58 359.83 866.08 867.29 867.38 710.74   -inf]\n",
      " [  -inf 301.81 326.81 364.02 865.78 867.22 867.38 788.18   -inf]\n",
      " [  -inf   -inf   -inf   0.   668.33 724.58 793.47 867.39   -inf]\n",
      " [  -inf   -inf   -inf   0.   494.93 605.18 732.87 867.43   -inf]\n",
      " [  -inf   -inf   -inf   -inf   -inf   -inf   -inf   -inf 875.27]]\n",
      "9.669999999999959\n"
     ]
    }
   ],
   "source": [
    "Q = np.array([-0.6, 4.6, -6.4,-22.3, 0.9, 0.4, 0.3, 9, 12])\n",
    "C = np.array([0.1, 5.3, -5.8, -22.1, 1.5, 0.7, 0.4, 9.2])\n",
    "\n",
    "v = - BS_DynamicTW(Q,C)\n",
    "print(v)\n",
    "print(AF_DynamicTW(Q,C,9.67))\n",
    "print(AF_DynamicTW(Q,C,83.64))\n",
    "print(AF_DynamicTW(Q,C,205.75))\n",
    "print(AF_DynamicTW(Q,C,875.27))"
   ]
  },
  {
   "cell_type": "code",
   "execution_count": 9,
   "metadata": {},
   "outputs": [
    {
     "name": "stdout",
     "output_type": "stream",
     "text": [
      "total 32\r\n",
      "drwxrwxr-x 3 swyoo swyoo  4096  8월 30 15:23 \u001b[0m\u001b[01;34m.\u001b[0m/\r\n",
      "drwxrwxr-x 8 swyoo swyoo  4096  8월 30 15:21 \u001b[01;34m..\u001b[0m/\r\n",
      "drwxrwxr-x 2 swyoo swyoo  4096  8월 30 15:21 \u001b[01;34m.ipynb_checkpoints\u001b[0m/\r\n",
      "-rw-rw-r-- 1 swyoo swyoo 20029  8월 30 15:23 DynamicTimeWarping.ipynb\r\n"
     ]
    }
   ],
   "source": [
    "%pwd\n",
    "%ls-al"
   ]
  },
  {
   "cell_type": "code",
   "execution_count": 21,
   "metadata": {},
   "outputs": [
    {
     "name": "stdout",
     "output_type": "stream",
     "text": [
      "177\n",
      "177\n"
     ]
    }
   ],
   "source": [
    "Q = []\n",
    "f = open (\"Adiac_TEST\", 'r')\n",
    "te = f.read().split(\"\\n\")\n",
    "Q = [float(x) for x in te[0].split(',')]\n",
    "f.close()\n",
    "\n",
    "C = []\n",
    "f = open (\"Adiac_TRAIN\", 'r')\n",
    "tr = f.read().split(\"\\n\")\n",
    "C = [float(x) for x in tr[0].split(',')]\n",
    "f.close()\n",
    "\n",
    "print(len(Q))\n",
    "print(len(C))"
   ]
  },
  {
   "cell_type": "code",
   "execution_count": 31,
   "metadata": {},
   "outputs": [
    {
     "name": "stdout",
     "output_type": "stream",
     "text": [
      "Time:  0.048241157999996176\n",
      "[[-3.7250e+01 -2.0862e+02 -2.0853e+02 ... -8.1751e+02 -8.2913e+02\n",
      "         -inf]\n",
      " [-4.2665e+02 -1.2500e+00 -1.2000e+00 ... -6.0931e+02 -6.2157e+02\n",
      "         -inf]\n",
      " [-4.3040e+02 -1.4700e+00 -1.3800e+00 ... -6.0927e+02 -6.2152e+02\n",
      "         -inf]\n",
      " ...\n",
      " [-9.6459e+02 -5.4595e+02 -5.4595e+02 ... -2.0000e-02 -2.0000e-02\n",
      "         -inf]\n",
      " [-9.6823e+02 -5.4601e+02 -5.4599e+02 ... -3.0000e-02 -2.0000e-02\n",
      "         -inf]\n",
      " [       -inf        -inf        -inf ...        -inf        -inf\n",
      "   0.0000e+00]]\n",
      "37.25097826074373\n",
      "Time:  0.035365788000035536\n",
      "[[ 0.    0.    0.   ...  -inf  -inf  -inf]\n",
      " [ 0.   36.   36.05 ...  -inf  -inf  -inf]\n",
      " [ 0.   35.78 35.87 ...  -inf  -inf  -inf]\n",
      " ...\n",
      " [ -inf  -inf  -inf ... 37.23 37.23  -inf]\n",
      " [ -inf  -inf  -inf ... 37.22 37.23  -inf]\n",
      " [ -inf  -inf  -inf ...  -inf  -inf 37.25]]\n",
      "37.25097826074367\n",
      "Time:  0.09568584399994506\n",
      "[[ 999962.75  999791.38  999791.47 ...  999182.49  999170.87       -inf]\n",
      " [ 999573.35  999998.75  999998.8  ...  999390.69  999378.43       -inf]\n",
      " [ 999569.6   999998.53  999998.62 ...  999390.73  999378.48       -inf]\n",
      " ...\n",
      " [ 999035.41  999454.05  999454.05 ...  999999.98  999999.98       -inf]\n",
      " [ 999031.77  999453.99  999454.01 ...  999999.97  999999.98       -inf]\n",
      " [      -inf       -inf       -inf ...       -inf       -inf 1000000.  ]]\n",
      "37.25097826193087\n"
     ]
    }
   ],
   "source": [
    "v = -BS_DynamicTW(Q,C)\n",
    "print(v)\n",
    "print(AF_DynamicTW(Q,C,v))\n",
    "print(AF_DynamicTW(Q,C,1000000))"
   ]
  },
  {
   "cell_type": "code",
   "execution_count": null,
   "metadata": {},
   "outputs": [],
   "source": [
    "Q = []\n",
    "f = open (\"stock.txt\", 'r')\n",
    "te = f.read().split(\"\\n\")\n",
    "f.close()"
   ]
  },
  {
   "cell_type": "code",
   "execution_count": null,
   "metadata": {},
   "outputs": [],
   "source": [
    "len(te)"
   ]
  },
  {
   "cell_type": "code",
   "execution_count": null,
   "metadata": {},
   "outputs": [],
   "source": [
    "Q = []\n",
    "f = open (\"NonInvasiveFatalECG_Thorax1_TEST\", 'r')\n",
    "te = f.read().split(\"\\n\")\n",
    "Q = [float(x) for x in te[0].split(',')]\n",
    "f.close()\n",
    "\n",
    "C = []\n",
    "f = open (\"NonInvasiveFatalECG_Thorax1_TRAIN\", 'r')\n",
    "tr = f.read().split(\"\\n\")\n",
    "C = [float(x) for x in tr[0].split(',')]\n",
    "f.close()\n",
    "\n",
    "print(len(Q))\n",
    "print(len(C))"
   ]
  },
  {
   "cell_type": "code",
   "execution_count": null,
   "metadata": {},
   "outputs": [],
   "source": [
    "v = -BS_DynamicTW(Q,C)\n",
    "v"
   ]
  },
  {
   "cell_type": "code",
   "execution_count": null,
   "metadata": {},
   "outputs": [],
   "source": [
    "print(AF_DynamicTW(Q,C,v))"
   ]
  }
 ],
 "metadata": {
  "kernelspec": {
   "display_name": "Python 3",
   "language": "python",
   "name": "python3"
  },
  "language_info": {
   "codemirror_mode": {
    "name": "ipython",
    "version": 3
   },
   "file_extension": ".py",
   "mimetype": "text/x-python",
   "name": "python",
   "nbconvert_exporter": "python",
   "pygments_lexer": "ipython3",
   "version": "3.5.4"
  }
 },
 "nbformat": 4,
 "nbformat_minor": 2
}
