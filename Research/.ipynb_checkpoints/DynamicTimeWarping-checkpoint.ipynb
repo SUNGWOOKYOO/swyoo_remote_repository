{
 "cells": [
  {
   "cell_type": "code",
   "execution_count": 1,
   "metadata": {},
   "outputs": [],
   "source": [
    "# https://nipunbatra.github.io/blog/2014/dtw.html\n",
    "import math\n",
    "import numpy as np\n",
    "\n",
    "# bottom up approach ; \n",
    "def DynamicTW(X, Y):\n",
    "    m = len(X)\n",
    "    n = len(Y)\n",
    "    \n",
    "    R = np.ones([len(X),len(Y)])*float('inf')\n",
    "    #R = [[None for col in range(len(Y))] for row in range(len(X))]\n",
    "    \n",
    "    for i in range (1, m):\n",
    "        R[i][0]= float('inf')\n",
    "    \n",
    "    for j in range (1, n):\n",
    "        R[0][j] = float('inf')\n",
    "        \n",
    "    R[0][0] = 0\n",
    "    \n",
    "    for j in range(1,n):\n",
    "        for i in range(1,m):\n",
    "            R[i][j] = math.sqrt((X[i] - Y[j])**2)+ min(R[i-1][j], R[i][j-1], R[i-1][j-1])\n",
    "    \n",
    "    #print(R)\n",
    "    return R[m-1][n-1]"
   ]
  },
  {
   "cell_type": "code",
   "execution_count": 2,
   "metadata": {},
   "outputs": [],
   "source": [
    "x = np.array([-1, 0, 3, 6, 0, 6, 1])\n",
    "y = np.array([-1, 2, 5, 2, 5, 3])"
   ]
  },
  {
   "cell_type": "code",
   "execution_count": 3,
   "metadata": {},
   "outputs": [
    {
     "data": {
      "text/plain": [
       "9.0"
      ]
     },
     "execution_count": 3,
     "metadata": {},
     "output_type": "execute_result"
    }
   ],
   "source": [
    "DynamicTW(x,y)"
   ]
  },
  {
   "cell_type": "code",
   "execution_count": 4,
   "metadata": {},
   "outputs": [],
   "source": [
    "import timeit  \n",
    "\n",
    "# bottom up approach ; \n",
    "def BS_DynamicTW(Q, C):\n",
    "    start = timeit.default_timer()\n",
    "    \n",
    "    m = len(Q) #6\n",
    "    n = len(C) #5\n",
    "    \n",
    "    R = np.ones([m+1,n+1])*float('-inf') # 7(0~6) * 6(0~5)  \n",
    "    \n",
    "    for i in range (1, m+1): # 0~5\n",
    "        R[i][n]= float('-inf')\n",
    "    \n",
    "    for j in range (1, n+1): # 0~6\n",
    "        R[m][j] = float('-inf')\n",
    "    \n",
    "    R[m][n] = 0\n",
    "    \n",
    "    #print(R)\n",
    "    \n",
    "    for j in range(n-1,-1,-1):\n",
    "        for i in range(m-1,-1,-1):\n",
    "            #print(i,j)\n",
    "            R[i][j] = max(R[i+1][j], R[i][j+1], R[i+1][j+1]) - math.sqrt((Q[i] - C[j])**2)\n",
    "    \n",
    "    stop = timeit.default_timer()\n",
    "    print('Time: ', stop - start) \n",
    "    #print(R)\n",
    "    return R[0][0]"
   ]
  },
  {
   "cell_type": "code",
   "execution_count": 5,
   "metadata": {},
   "outputs": [],
   "source": [
    "Q = np.array([0, 3, 6, 0, 6, 1])\n",
    "C = np.array([2, 5, 2, 5, 3])"
   ]
  },
  {
   "cell_type": "code",
   "execution_count": 6,
   "metadata": {},
   "outputs": [
    {
     "name": "stdout",
     "output_type": "stream",
     "text": [
      "Time:  0.0002042559990513837\n"
     ]
    },
    {
     "data": {
      "text/plain": [
       "-9.0"
      ]
     },
     "execution_count": 6,
     "metadata": {},
     "output_type": "execute_result"
    }
   ],
   "source": [
    "BS_DynamicTW(Q,C)"
   ]
  },
  {
   "cell_type": "markdown",
   "metadata": {},
   "source": [
    "# Accurate and Fast Dynamic Time warping\n",
    "$$\n",
    "\\theta \\ge DTW(Q,C)\n",
    "$$\n"
   ]
  },
  {
   "cell_type": "code",
   "execution_count": 7,
   "metadata": {},
   "outputs": [],
   "source": [
    "import timeit  \n",
    "\n",
    "def AF_DynamicTW(Q, C, Theta):\n",
    "    start = timeit.default_timer()\n",
    "    m = len(Q)\n",
    "    n = len(C)\n",
    "    \n",
    "    R = np.ones([m+1,n+1])*float('-inf')  \n",
    "    \n",
    "    for i in range (1, m+1): \n",
    "        R[i][n]= float('-inf')\n",
    "    \n",
    "    for j in range (1, n+1): \n",
    "        R[m][j] = float('-inf')\n",
    "    \n",
    "    R[m][n] = Theta\n",
    "    \n",
    "    #print(R)\n",
    "    \n",
    "    for j in range(n-1,-1,-1):\n",
    "        for i in range(m-1,-1,-1):\n",
    "            if not((R[i+1][j]== 0 or \n",
    "                   R[i+1][j]== float('-inf'))   \n",
    "                   and (R[i][j+1] == 0 or \n",
    "                   R[i][j+1] == float('-inf')) \n",
    "                   and (R[i+1][j+1] == 0 or \n",
    "                    R[i+1][j+1] == float('-inf'))):\n",
    "                R[i][j] = max(R[i+1][j], R[i][j+1], R[i+1][j+1]) - math.sqrt((Q[i] - C[j])**2)\n",
    "            else:\n",
    "                #print(\"If the three top right adjacent cells are zero, then the current cells are zero \\\n",
    "                #        and the current iteration is broken\")\n",
    "                R[i][j] = 0\n",
    "                continue\n",
    "            if R[i][j] < 0:\n",
    "                #print(\"If the value of current cell in the cost matrix is negative, then let it be zero\")\n",
    "                R[i][j] = 0\n",
    "            #print(R)\n",
    "    stop = timeit.default_timer()\n",
    "    print('Time: ', stop - start)  \n",
    "    #print(R)\n",
    "    return Theta - R[0][0]"
   ]
  },
  {
   "cell_type": "code",
   "execution_count": 8,
   "metadata": {},
   "outputs": [
    {
     "name": "stdout",
     "output_type": "stream",
     "text": [
      "Time:  0.00018631000057212077\n",
      "9.0\n",
      "Time:  0.0002462560005369596\n",
      "9.0\n",
      "Time:  0.00028365099933580495\n",
      "9.0\n",
      "Time:  0.00024204900000768248\n",
      "9.0\n",
      "Time:  0.0002684559985937085\n",
      "9.0\n"
     ]
    }
   ],
   "source": [
    "Q = np.array([0, 3, 6, 0, 6, 1])\n",
    "C = np.array([2, 5, 2, 5, 3])\n",
    "\n",
    "v = - BS_DynamicTW(Q,C)\n",
    "print(v)\n",
    "print(AF_DynamicTW(Q,C,v))\n",
    "print(AF_DynamicTW(Q,C,v + 1))\n",
    "print(AF_DynamicTW(Q,C,v + 2))\n",
    "print(AF_DynamicTW(Q,C,v + 3))\n"
   ]
  },
  {
   "cell_type": "code",
   "execution_count": 9,
   "metadata": {},
   "outputs": [
    {
     "name": "stdout",
     "output_type": "stream",
     "text": [
      "total 1108\r\n",
      "drwxrwxr-x 3 swyoo swyoo   4096  8월 27 22:37 \u001b[0m\u001b[01;34m.\u001b[0m/\r\n",
      "drwxrwxr-x 8 swyoo swyoo   4096  8월 27 21:22 \u001b[01;34m..\u001b[0m/\r\n",
      "-rw-rw-r-- 1 swyoo swyoo 553690  8월 22  2015 Adiac_TEST\r\n",
      "-rw-rw-r-- 1 swyoo swyoo 552319  8월 22  2015 Adiac_TRAIN\r\n",
      "-rw-rw-r-- 1 swyoo swyoo  11872  8월 27 22:37 DynamicTimeWarping.ipynb\r\n",
      "drwxrwxr-x 2 swyoo swyoo   4096  8월 27 21:22 \u001b[01;34m.ipynb_checkpoints\u001b[0m/\r\n"
     ]
    }
   ],
   "source": [
    "%pwd\n",
    "%ls-al"
   ]
  },
  {
   "cell_type": "code",
   "execution_count": 10,
   "metadata": {},
   "outputs": [
    {
     "name": "stdout",
     "output_type": "stream",
     "text": [
      "177\n",
      "177\n"
     ]
    }
   ],
   "source": [
    "Q = []\n",
    "f = open (\"Adiac_TEST\", 'r')\n",
    "te = f.read().split(\"\\n\")\n",
    "Q = [float(x) for x in te[0].split(',')]\n",
    "f.close()\n",
    "\n",
    "C = []\n",
    "f = open (\"Adiac_TRAIN\", 'r')\n",
    "tr = f.read().split(\"\\n\")\n",
    "C = [float(x) for x in tr[0].split(',')]\n",
    "f.close()\n",
    "\n",
    "print(len(Q))\n",
    "print(len(C))"
   ]
  },
  {
   "cell_type": "code",
   "execution_count": 79,
   "metadata": {},
   "outputs": [
    {
     "name": "stdout",
     "output_type": "stream",
     "text": [
      "Time:  0.16128717900028278\n"
     ]
    },
    {
     "data": {
      "text/plain": [
       "14.486749100000006"
      ]
     },
     "execution_count": 79,
     "metadata": {},
     "output_type": "execute_result"
    }
   ],
   "source": [
    "v = -BS_DynamicTW(Q,C)\n",
    "v"
   ]
  },
  {
   "cell_type": "code",
   "execution_count": 80,
   "metadata": {},
   "outputs": [
    {
     "name": "stdout",
     "output_type": "stream",
     "text": [
      "Time:  0.14355464899927028\n",
      "14.486749099999987\n"
     ]
    }
   ],
   "source": [
    "print(AF_DynamicTW(Q,C,v))"
   ]
  },
  {
   "cell_type": "code",
   "execution_count": 74,
   "metadata": {},
   "outputs": [
    {
     "name": "stdout",
     "output_type": "stream",
     "text": [
      "Time:  0.25530665800033603\n",
      "14.486749101313762\n"
     ]
    }
   ],
   "source": [
    "print(AF_DynamicTW(Q,C,1000000))"
   ]
  },
  {
   "cell_type": "code",
   "execution_count": null,
   "metadata": {},
   "outputs": [],
   "source": []
  }
 ],
 "metadata": {
  "kernelspec": {
   "display_name": "Python 3",
   "language": "python",
   "name": "python3"
  },
  "language_info": {
   "codemirror_mode": {
    "name": "ipython",
    "version": 3
   },
   "file_extension": ".py",
   "mimetype": "text/x-python",
   "name": "python",
   "nbconvert_exporter": "python",
   "pygments_lexer": "ipython3",
   "version": "3.5.2"
  }
 },
 "nbformat": 4,
 "nbformat_minor": 2
}
