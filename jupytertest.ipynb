{
 "cells": [
  {
   "cell_type": "code",
   "execution_count": 4,
   "metadata": {},
   "outputs": [
    {
     "data": {
      "text/plain": [
       "'/home/swyoo/Ws/swyoo_remote_repository'"
      ]
     },
     "execution_count": 4,
     "metadata": {},
     "output_type": "execute_result"
    }
   ],
   "source": [
    "%pwd"
   ]
  },
  {
   "cell_type": "code",
   "execution_count": 3,
   "metadata": {},
   "outputs": [
    {
     "name": "stdout",
     "output_type": "stream",
     "text": [
      "total 24\r\n",
      "drwxrwxr-x 4 swyoo swyoo 4096  8월 12 15:08 \u001b[0m\u001b[01;34m.\u001b[0m/\r\n",
      "drwxrwxr-x 4 swyoo swyoo 4096  8월 12 12:48 \u001b[01;34m..\u001b[0m/\r\n",
      "drwxrwxr-x 8 swyoo swyoo 4096  8월 12 13:03 \u001b[01;34m.git\u001b[0m/\r\n",
      "drwxrwxr-x 2 swyoo swyoo 4096  8월 12 15:08 \u001b[01;34m.ipynb_checkpoints\u001b[0m/\r\n",
      "-rw-rw-r-- 1 swyoo swyoo   72  8월 12 15:08 jupytertest.ipynb\r\n",
      "-rw-rw-r-- 1 swyoo swyoo  167  8월 12 12:58 test.py\r\n"
     ]
    }
   ],
   "source": [
    "%ls-al"
   ]
  },
  {
   "cell_type": "code",
   "execution_count": 5,
   "metadata": {},
   "outputs": [
    {
     "name": "stdout",
     "output_type": "stream",
     "text": [
      "hi!\n",
      "let's start remote repsitory\n",
      "hihihihi\n",
      "4\n",
      "THis is a work at home through Vmware\n"
     ]
    }
   ],
   "source": [
    "%run test.py"
   ]
  }
 ],
 "metadata": {
  "kernelspec": {
   "display_name": "Python 3",
   "language": "python",
   "name": "python3"
  },
  "language_info": {
   "codemirror_mode": {
    "name": "ipython",
    "version": 3
   },
   "file_extension": ".py",
   "mimetype": "text/x-python",
   "name": "python",
   "nbconvert_exporter": "python",
   "pygments_lexer": "ipython3",
   "version": "3.5.2"
  }
 },
 "nbformat": 4,
 "nbformat_minor": 2
}
