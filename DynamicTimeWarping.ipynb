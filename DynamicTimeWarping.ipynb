{
 "cells": [
  {
   "cell_type": "code",
   "execution_count": 33,
   "metadata": {},
   "outputs": [],
   "source": [
    "# https://nipunbatra.github.io/blog/2014/dtw.html\n",
    "import math\n",
    "import numpy as np\n",
    "\n",
    "# bottom up approach ; \n",
    "def DynamicTW(X, Y):\n",
    "    m = len(X)-1\n",
    "    n = len(Y)-1\n",
    "    \n",
    "    R = np.ones([len(X),len(Y)])\n",
    "    #R = [[None for col in range(len(Y))] for row in range(len(X))]\n",
    "    \n",
    "    for i in range (1, m+1):\n",
    "        R[i][0]= float('inf')\n",
    "    \n",
    "    for j in range (0, n+1):\n",
    "        R[0][j] = float('inf')\n",
    "        \n",
    "    R[0][0] = 0\n",
    "    \n",
    "    print(R)\n",
    "    \n",
    "    for i in range(1,m+1):\n",
    "        for j in range(1,n+1):\n",
    "            R[i][j] = math.sqrt(X[i]**2 + Y[i]**2 )+ min(R[i-1][j], R[i][j-1], R[i-1][j-1])       \n",
    "    return R"
   ]
  },
  {
   "cell_type": "code",
   "execution_count": 34,
   "metadata": {},
   "outputs": [],
   "source": [
    "x = np.array([1, 1, 2, 3, 2, 0])\n",
    "y = np.array([0, 1, 1, 2, 3, 2, 1])"
   ]
  },
  {
   "cell_type": "code",
   "execution_count": 35,
   "metadata": {},
   "outputs": [
    {
     "name": "stdout",
     "output_type": "stream",
     "text": [
      "[[ 0. inf inf inf inf inf inf]\n",
      " [inf  1.  1.  1.  1.  1.  1.]\n",
      " [inf  1.  1.  1.  1.  1.  1.]\n",
      " [inf  1.  1.  1.  1.  1.  1.]\n",
      " [inf  1.  1.  1.  1.  1.  1.]\n",
      " [inf  1.  1.  1.  1.  1.  1.]]\n"
     ]
    },
    {
     "data": {
      "text/plain": [
       "array([[ 0.        ,         inf,         inf,         inf,         inf,\n",
       "                inf,         inf],\n",
       "       [        inf,  1.41421356,  2.82842712,  4.24264069,  5.65685425,\n",
       "         7.07106781,  8.48528137],\n",
       "       [        inf,  3.65028154,  3.65028154,  5.0644951 ,  6.47870866,\n",
       "         7.89292223,  9.30713579],\n",
       "       [        inf,  7.25583282,  7.25583282,  7.25583282,  8.67004638,\n",
       "        10.08425994, 11.4984735 ],\n",
       "       [        inf, 10.86138409, 10.86138409, 10.86138409, 10.86138409,\n",
       "        12.27559765, 13.68981122],\n",
       "       [        inf, 12.86138409, 12.86138409, 12.86138409, 12.86138409,\n",
       "        12.86138409, 14.27559765]])"
      ]
     },
     "execution_count": 35,
     "metadata": {},
     "output_type": "execute_result"
    }
   ],
   "source": [
    "DynamicTW(x,y)"
   ]
  },
  {
   "cell_type": "code",
   "execution_count": 20,
   "metadata": {},
   "outputs": [
    {
     "data": {
      "text/plain": [
       "1"
      ]
     },
     "execution_count": 20,
     "metadata": {},
     "output_type": "execute_result"
    }
   ],
   "source": []
  }
 ],
 "metadata": {
  "kernelspec": {
   "display_name": "Python 3",
   "language": "python",
   "name": "python3"
  },
  "language_info": {
   "codemirror_mode": {
    "name": "ipython",
    "version": 3
   },
   "file_extension": ".py",
   "mimetype": "text/x-python",
   "name": "python",
   "nbconvert_exporter": "python",
   "pygments_lexer": "ipython3",
   "version": "3.5.4"
  }
 },
 "nbformat": 4,
 "nbformat_minor": 2
}
